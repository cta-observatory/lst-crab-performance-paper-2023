{
 "cells": [
  {
   "cell_type": "markdown",
   "metadata": {},
   "source": [
    "# Comparison of $\\gamma$-PhysNet with the state-of-the-art method used in CTAO LST-1 here named _lstchain_.\n",
    "\n",
    "The lstchain IRFs used here have been published in Abe et al 2023.\n",
    "\n",
    "Note the following caveats:\n",
    "- The datasets are different. We chose to compare with the closest ones: 23.6deg (vs 20 degrees zenith for $\\gamma$-PhysNet).\n",
    "- The event selection is different as Abe et al 2023 removed wrong-tail events (flattening the angular resolution at low energies for lstchain), which is not possible in our case\n",
    "\n",
    "These differences appart, the IRFs have been computed the same way, using pyIRF and a gamma efficiency of 70\\%.\n",
    "\n",
    "Nevertheless, comparing the Vanilla version of $gamma$-PhysNet with lstchain was not the goal of the published study (and has been done in previous studies). We include it here as convenience."
   ]
  },
  {
   "cell_type": "code",
   "execution_count": null,
   "metadata": {},
   "outputs": [],
   "source": [
    "import matplotlib.pyplot as plt\n",
    "import astropy.units as u\n",
    "import numpy as np\n",
    "from pathlib import Path\n",
    "import plot_irfs\n",
    "\n",
    "import warnings\n",
    "warnings.filterwarnings(\"ignore\")\n",
    "\n",
    "plt.style.use('seaborn-paper')\n",
    "plt.style.use('seaborn-colorblind')"
   ]
  },
  {
   "cell_type": "code",
   "execution_count": null,
   "metadata": {},
   "outputs": [],
   "source": [
    "efficiencies = [0.4, 0.7, 0.9]\n",
    "zeniths = [10.00, 23.630, 32.06, 43.20]\n",
    "\n",
    "erange = (15*u.GeV, 25*u.TeV)\n",
    "\n",
    "angresylim = (0.0, 0.5)\n",
    "effareaylim = (1e3, 1e6)\n",
    "eneylim = (-0.16, 0.7)\n",
    "\n",
    "opt = dict(elinewidth=0.8)\n",
    "\n",
    "prop_cycle = plt.rcParams['axes.prop_cycle']\n",
    "colors = prop_cycle.by_key()['color']"
   ]
  },
  {
   "cell_type": "code",
   "execution_count": null,
   "metadata": {},
   "outputs": [],
   "source": [
    "indir = '3_pipeline/3.4_irfs/irfs'\n",
    "outdir = 'irfs_plots'\n",
    "Path(outdir).mkdir(exist_ok=True)\n",
    "print(list(Path(indir).iterdir()))\n",
    "print(list(Path(outdir).iterdir()))\n",
    "\n",
    "work_dir = Path.cwd().parent"
   ]
  },
  {
   "cell_type": "code",
   "execution_count": null,
   "metadata": {},
   "outputs": [],
   "source": [
    "from girfs.irfs import IRFGammaPointSource, IRF, EnergyBias\n",
    "\n",
    "files = list(work_dir.glob(f'irfs/vanilla/best_scenario/seed_*/irfs.fits.gz'))\n",
    "irfs_gphysnet = IRFGammaPointSource.from_files(files)\n",
    "ebias_gphysnet = EnergyBias.from_files(files)"
   ]
  },
  {
   "cell_type": "code",
   "execution_count": null,
   "metadata": {},
   "outputs": [],
   "source": [
    "zen = 23.63\n",
    "efficiencies = [0.7]\n",
    "\n",
    "fig, axes = plt.subplots(3, 1, figsize=(8, 12), sharex=True)\n",
    "\n",
    "for ii, efficiency in enumerate(efficiencies):\n",
    "    filename = Path(indir, f'irfs_zen_{zen:.2f}_gh-eff_{efficiency}.fits.gz')\n",
    "    print(filename)\n",
    "\n",
    "    plot_irfs.plot_angular_resolution_from_file(filename, ax=axes[0],\n",
    "                                                ls='-',\n",
    "                                                **opt\n",
    "                                               )\n",
    "    plot_irfs.plot_effective_area_from_file(filename, ax=axes[1],\n",
    "                                            ls='-',\n",
    "                                            label=f'H. Abe et al 2023 - zenith {zen:.2f}°',\n",
    "                                            **opt\n",
    "                                           )\n",
    "    plot_irfs.plot_energy_resolution_from_file(filename, ax=axes[2], \n",
    "                                               ls='-',\n",
    "                                               color=colors[ii],\n",
    "                                               **opt\n",
    "                                              )\n",
    "    plot_irfs.plot_energy_bias_from_file(filename, ax=axes[2],\n",
    "                                         color=colors[ii],\n",
    "                                         ls='dotted',\n",
    "                                         **opt\n",
    "                                        )\n",
    "    \n",
    "\n",
    "plot_irfs.plot_energy_resolution_from_file(filename, ax=axes[2], \n",
    "                                           ls='-',\n",
    "                                           color=colors[ii],\n",
    "                                           label=r'Energy resolution ($\\sigma_{68}$)',\n",
    "                                           **opt\n",
    "                                              )\n",
    "plot_irfs.plot_energy_bias_from_file(filename, ax=axes[2],\n",
    "                                         color=colors[ii],\n",
    "                                         ls='dotted',\n",
    "                                     label=r'Energy bias (median)',\n",
    "                                     **opt\n",
    "                                    )\n",
    "\n",
    "\n",
    "irfs_gphysnet.effective_area.plot(label=r'$\\gamma$-PhysNet Vanilla - zenith 20°', ax=axes[1], color=colors[-3])\n",
    "irfs_gphysnet.energy_resolution_bias.plot(ax=axes[2], color=colors[-3])\n",
    "ebias_gphysnet.plot(ax=axes[2], color=colors[-3], ls='dotted')\n",
    "irfs_gphysnet.angular_resolution.plot(ax=axes[0], color=colors[-3])\n",
    "\n",
    "\n",
    "\n",
    "for ax in axes:\n",
    "    ax.set_title('')\n",
    "    ax.set_xlim(erange[0].to_value(u.TeV), erange[1].to_value(u.TeV))\n",
    "    \n",
    "    \n",
    "# axes[0].set_title(f'Zenith {zen:.2f}°')\n",
    "axes[0].set_ylim(0, axes[0].get_ylim()[1])\n",
    "axes[0].legend().remove()\n",
    "axes[0].set_xlabel('')\n",
    "axes[1].set_xlabel('')\n",
    "axes[0].set_ylim(*angresylim)\n",
    "axes[1].set_ylim(*effareaylim)\n",
    "axes[2].set_ylim(*eneylim)\n",
    "axes[2].set_ylabel(r'$\\Delta E/E_{true}$')\n",
    "axes[2].legend()\n",
    "\n",
    "axes[1].grid(True, which='both', axis='x')\n",
    "axes[1].grid(True, which='major', axis='y')\n",
    "for ax in axes:\n",
    "    ax.grid(False, axis='x', which='minor')\n",
    "    ax.grid(False, axis='y', which='minor')\n",
    "\n",
    "axes[1].set_axisbelow(True)\n",
    "handles, labels = axes[1].get_legend_handles_labels()\n",
    "axes[1].legend(handles[1:], labels[1:], loc='lower right')\n",
    "\n",
    "\n",
    "plt.tight_layout()\n",
    "outfile = Path(outdir, f'irfs_eff_zen_{zen:.2f}.png')\n",
    "plt.savefig(outfile, dpi=250)"
   ]
  },
  {
   "cell_type": "markdown",
   "metadata": {},
   "source": [
    "These plots show the superiority of the $\\gamma$-PhysNet Vanilla model over the baseline model of lstchain.    \n",
    "The gammaPhysNet Vanilla model has a better angular resolution, effective area, and energy resolution and bias on the majority of the energy range, in particular at low energies."
   ]
  }
 ],
 "metadata": {
  "kernelspec": {
   "display_name": "base",
   "language": "python",
   "name": "python3"
  },
  "language_info": {
   "codemirror_mode": {
    "name": "ipython",
    "version": 3
   },
   "file_extension": ".py",
   "mimetype": "text/x-python",
   "name": "python",
   "nbconvert_exporter": "python",
   "pygments_lexer": "ipython3",
   "version": "3.8.19"
  }
 },
 "nbformat": 4,
 "nbformat_minor": 2
}
