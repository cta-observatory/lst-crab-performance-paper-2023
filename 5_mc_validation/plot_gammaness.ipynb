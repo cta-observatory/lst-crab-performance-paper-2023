{
 "cells": [
  {
   "cell_type": "code",
   "execution_count": null,
   "id": "c1f5b0df",
   "metadata": {},
   "outputs": [],
   "source": [
    "import numpy as np\n",
    "import matplotlib.pyplot as plt\n",
    "\n",
    "%matplotlib inline"
   ]
  },
  {
   "cell_type": "code",
   "execution_count": null,
   "id": "9ad891d6",
   "metadata": {},
   "outputs": [],
   "source": [
    "plt.style.use('seaborn-paper')\n",
    "plt.style.use('seaborn-colorblind')\n",
    "cb_colors = plt.rcParams['axes.prop_cycle'].by_key()['color']"
   ]
  },
  {
   "cell_type": "code",
   "execution_count": null,
   "id": "8d04659e",
   "metadata": {},
   "outputs": [],
   "source": [
    "ratedata = np.loadtxt(\"gammaness_plots.csv\", delimiter=',')"
   ]
  },
  {
   "cell_type": "code",
   "execution_count": null,
   "id": "464e3329",
   "metadata": {},
   "outputs": [],
   "source": [
    "off_scale = [50, 50, 1, 1] # if 0, no off is shown. Otherwise, off is shown scaled by 1/off_scale\n",
    "marker_size = [5, 5, 3, 3]\n",
    "position=['upper right', 'upper left', 'upper center', 'upper center']\n",
    "ylimits = [(-0.015, 0.15), (-0.007, 0.07), (-0.002, 0.02), (-0.00075, 0.0075)]\n",
    "\n",
    "fig = plt.figure(figsize=(15,10))\n",
    "isizebin = 0\n",
    "\n",
    "for intensity_min, intensity_max in zip([80, 200, 800, 3200], \n",
    "                                        [200, 800, 3200, 1e6]):\n",
    "\n",
    "    ax = fig.add_subplot(2, 2, isizebin+1)\n",
    "    label_intensity = f\"intensity: {intensity_min} - {intensity_max} p.e\"    \n",
    "    if intensity_max > 1e4:\n",
    "        label_intensity = f\"intensity > {intensity_min} p.e\"\n",
    "\n",
    "    max_theta = (ratedata[3][ratedata[1]==intensity_min])[0]\n",
    "    label_theta = ', $\\\\theta <$ ' + f'{max_theta}' + '$^{\\circ}$'\n",
    "    \n",
    "    x = ratedata[0][ratedata[1]==intensity_min]\n",
    "    y = ratedata[4][ratedata[1]==intensity_min]\n",
    "    ey = ratedata[5][ratedata[1]==intensity_min]\n",
    "    plt.errorbar(x, y, yerr=ey, fmt='o', markersize=marker_size[isizebin], \n",
    "                 label = \"Data\", color=cb_colors[2])\n",
    "\n",
    "    y = ratedata[8][ratedata[1]==intensity_min]\n",
    "    \n",
    "    binwidth = x[1] - x[0]\n",
    "    x = np.append(x, x[-1]+binwidth)\n",
    "    y = np.append(y, 0)\n",
    "    plt.step(x, y, where='mid', label=\"gamma MC\", color=cb_colors[0])\n",
    "    \n",
    "    plt.plot([x.min(), x.max()], [0, 0], linewidth=0.5, color='black')\n",
    "    \n",
    "\n",
    "    x = ratedata[0][ratedata[1]==intensity_min]\n",
    "    y = ratedata[6][ratedata[1]==intensity_min]\n",
    "    ey = ratedata[7][ratedata[1]==intensity_min]\n",
    "    \n",
    "    if off_scale[isizebin] > 1:\n",
    "        plt.errorbar(x, y/off_scale[isizebin], \n",
    "                     yerr=ey/off_scale[isizebin], \n",
    "                     fmt='o', label = f\"Data Off/{off_scale[isizebin]}\", \n",
    "                     markersize=marker_size[isizebin], color=cb_colors[1])\n",
    "    else:\n",
    "        plt.errorbar(x, y, yerr=ey, \n",
    "                     fmt='o', label = \"Data Off\", markersize=marker_size[isizebin],\n",
    "                     color=cb_colors[1])\n",
    "    \n",
    "    plt.xlabel('gammaness', fontsize=16)\n",
    "    plt.ylabel('Rate ($s^{-1}$)', fontsize=16)\n",
    "    plt.xticks(fontsize=16)\n",
    "    plt.yticks(fontsize=16)\n",
    "    \n",
    "    hndls, lbls = ax.get_legend_handles_labels()\n",
    "    leg = plt.legend(hndls, lbls, fontsize=16, loc=position[isizebin], \n",
    "                     title=label_intensity+', '+label_theta,\n",
    "                     title_fontsize=16)\n",
    "    leg._legend_box.align = \"left\"\n",
    "\n",
    "    plt.ylim(ylimits[isizebin])\n",
    "    plt.xlim(-0.03, 1.03)\n",
    "    \n",
    "    isizebin += 1\n",
    "    \n",
    "\n",
    "plt.tight_layout()\n",
    "plt.show()"
   ]
  },
  {
   "cell_type": "code",
   "execution_count": null,
   "id": "9e115e6f",
   "metadata": {},
   "outputs": [],
   "source": []
  },
  {
   "cell_type": "code",
   "execution_count": null,
   "id": "62622093",
   "metadata": {},
   "outputs": [],
   "source": []
  }
 ],
 "metadata": {
  "kernelspec": {
   "display_name": "Python 3 (ipykernel)",
   "language": "python",
   "name": "python3"
  },
  "language_info": {
   "codemirror_mode": {
    "name": "ipython",
    "version": 3
   },
   "file_extension": ".py",
   "mimetype": "text/x-python",
   "name": "python",
   "nbconvert_exporter": "python",
   "pygments_lexer": "ipython3",
   "version": "3.8.15"
  }
 },
 "nbformat": 4,
 "nbformat_minor": 5
}
