{
 "cells": [
  {
   "cell_type": "code",
   "execution_count": null,
   "id": "c1f5b0df",
   "metadata": {
    "execution": {
     "iopub.execute_input": "2023-04-24T16:10:41.733701Z",
     "iopub.status.busy": "2023-04-24T16:10:41.733329Z",
     "iopub.status.idle": "2023-04-24T16:10:42.346329Z",
     "shell.execute_reply": "2023-04-24T16:10:42.345551Z"
    }
   },
   "outputs": [],
   "source": [
    "import numpy as np\n",
    "import matplotlib.pyplot as plt\n",
    "\n",
    "%matplotlib inline"
   ]
  },
  {
   "cell_type": "code",
   "execution_count": null,
   "id": "9ad891d6",
   "metadata": {
    "execution": {
     "iopub.execute_input": "2023-04-24T16:10:42.350008Z",
     "iopub.status.busy": "2023-04-24T16:10:42.349497Z",
     "iopub.status.idle": "2023-04-24T16:10:42.353970Z",
     "shell.execute_reply": "2023-04-24T16:10:42.353414Z"
    }
   },
   "outputs": [],
   "source": [
    "plt.style.use('seaborn-paper')\n",
    "plt.style.use('seaborn-colorblind')\n",
    "cb_colors = plt.rcParams['axes.prop_cycle'].by_key()['color']"
   ]
  },
  {
   "cell_type": "code",
   "execution_count": null,
   "id": "8d04659e",
   "metadata": {
    "execution": {
     "iopub.execute_input": "2023-04-24T16:10:42.356585Z",
     "iopub.status.busy": "2023-04-24T16:10:42.356317Z",
     "iopub.status.idle": "2023-04-24T16:10:42.361534Z",
     "shell.execute_reply": "2023-04-24T16:10:42.360843Z"
    }
   },
   "outputs": [],
   "source": [
    "ratedata = np.loadtxt(\"theta2_plots.csv\", delimiter=',')"
   ]
  },
  {
   "cell_type": "code",
   "execution_count": null,
   "id": "464e3329",
   "metadata": {
    "execution": {
     "iopub.execute_input": "2023-04-24T16:10:42.364160Z",
     "iopub.status.busy": "2023-04-24T16:10:42.363883Z",
     "iopub.status.idle": "2023-04-24T16:10:43.212802Z",
     "shell.execute_reply": "2023-04-24T16:10:43.212065Z"
    }
   },
   "outputs": [],
   "source": [
    "min_gammaness = [0.44, 0.54, 0.865, 0.935] # 80% gamma efficiency cuts\n",
    "\n",
    "\n",
    "fig = plt.figure(figsize=(15,10))\n",
    "isizebin = 0\n",
    "\n",
    "for intensity_min, intensity_max in zip([80, 200, 800, 3200], \n",
    "                                        [200, 800, 3200, 1e6]):\n",
    "\n",
    "    ax = fig.add_subplot(2, 2, isizebin+1)\n",
    "    label_intensity = f\"intensity: {intensity_min} - {intensity_max} p.e\"    \n",
    "    if intensity_max > 1e4:\n",
    "        label_intensity = f\"intensity > {intensity_min} p.e\"\n",
    "\n",
    "    label_gammaness = f'gammaness > {min_gammaness[isizebin]:.2f}'\n",
    "\n",
    "    x = ratedata[2][ratedata[0]==intensity_min]\n",
    "    y = ratedata[3][ratedata[0]==intensity_min]\n",
    "    ey = ratedata[4][ratedata[0]==intensity_min]\n",
    "    plt.errorbar(x, y, yerr=ey, fmt='o', markersize=3, \n",
    "                 label = \"Data\", color=cb_colors[2])\n",
    "\n",
    "    y = ratedata[5][ratedata[0]==intensity_min]\n",
    "    \n",
    "    binwidth = x[1] - x[0]\n",
    "    x = np.insert(x, 0, -binwidth)\n",
    "    y = np.insert(y, 0, 0)\n",
    "    plt.step(x, y, where='mid', label=\"gamma MC\", color=cb_colors[0])\n",
    "    \n",
    "    \n",
    "    plt.plot([x.min(), x.max()], [0, 0], linewidth=0.5, color='black')\n",
    "    \n",
    "    plt.xlabel('$\\\\theta^2 (deg^2)$', fontsize=16)\n",
    "    plt.ylabel('Rate ($s^{-1}$)', fontsize=16)\n",
    "    plt.xticks(fontsize=16)\n",
    "    plt.yticks(fontsize=16)\n",
    "    \n",
    "    hndls, lbls = ax.get_legend_handles_labels()\n",
    "    leg = plt.legend(hndls, lbls, fontsize=16, loc='upper right', \n",
    "                     title=label_intensity+', '+label_gammaness,\n",
    "                     title_fontsize=16)\n",
    "    leg._legend_box.align = \"left\"\n",
    "\n",
    "    \n",
    "    isizebin += 1\n",
    "    \n",
    "\n",
    "plt.tight_layout()\n",
    "plt.show()"
   ]
  },
  {
   "cell_type": "code",
   "execution_count": null,
   "id": "9e115e6f",
   "metadata": {},
   "outputs": [],
   "source": []
  }
 ],
 "metadata": {
  "kernelspec": {
   "display_name": "Python 3 (ipykernel)",
   "language": "python",
   "name": "python3"
  },
  "language_info": {
   "codemirror_mode": {
    "name": "ipython",
    "version": 3
   },
   "file_extension": ".py",
   "mimetype": "text/x-python",
   "name": "python",
   "nbconvert_exporter": "python",
   "pygments_lexer": "ipython3",
   "version": "3.8.16"
  }
 },
 "nbformat": 4,
 "nbformat_minor": 5
}
