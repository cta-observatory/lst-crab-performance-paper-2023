{
 "cells": [
  {
   "cell_type": "code",
   "execution_count": null,
   "id": "ae91a32f",
   "metadata": {},
   "outputs": [],
   "source": [
    "import matplotlib.pyplot as plt\n",
    "import numpy as np\n",
    "\n",
    "%matplotlib inline"
   ]
  },
  {
   "cell_type": "code",
   "execution_count": null,
   "id": "4fd78bb1",
   "metadata": {},
   "outputs": [],
   "source": [
    "plt.style.use('seaborn-paper')\n",
    "plt.style.use('seaborn-colorblind')\n",
    "cb_colors = plt.rcParams['axes.prop_cycle'].by_key()['color']"
   ]
  },
  {
   "cell_type": "code",
   "execution_count": null,
   "id": "ab2c133a",
   "metadata": {},
   "outputs": [],
   "source": [
    "# Read in the rate values for the different gammaness cuts:\n",
    "\n",
    "ratedata = np.loadtxt(\"ROC_curves.csv\", delimiter=',')\n",
    "\n",
    "linecolors = [cb_colors[0], cb_colors[1], cb_colors[2], cb_colors[3]]\n",
    "\n",
    "plt.figure(figsize=(8,6))\n",
    "\n",
    "for intensity_min, intensity_max, linecolor in zip([80, 200, 800, 3200], \n",
    "                                                    [200, 800, 3200, 1e6],\n",
    "                                                    linecolors):\n",
    "\n",
    "    label = f\"Intensity: {intensity_min} - {intensity_max} p.e\"\n",
    "    if (intensity_max > 1e5):\n",
    "        label = f\"Intensity > {intensity_min} p.e.\" \n",
    "\n",
    "\n",
    "    brd  = ratedata[2][ratedata[0]==intensity_min] # Real data background rate\n",
    "    grd  = ratedata[3][ratedata[0]==intensity_min] # Real data gamma excess rate\n",
    "    grmc = ratedata[4][ratedata[0]==intensity_min] # MC data gamma rate\n",
    "\n",
    "    plt.plot(np.cumsum(brd)[::-1]/brd.sum(), np.cumsum(grmc)[::-1]/grmc.sum(), '--', \n",
    "             color=linecolor)\n",
    "\n",
    "    plt.plot(np.cumsum(brd)[::-1]/brd.sum(), np.cumsum(grd)[::-1]/grd.sum(), \n",
    "             color=linecolor, \n",
    "             label=label)\n",
    "\n",
    "plt.xscale('log')\n",
    "plt.xlabel('Cut efficiency for background', fontsize=16)\n",
    "plt.ylabel('Cut efficiency for gammas', fontsize=16)\n",
    "plt.xticks(fontsize=16)\n",
    "plt.yticks(fontsize=16)\n",
    "plt.xlim(1e-5, 1)\n",
    "plt.ylim(-0.05, 1.068)\n",
    "\n",
    "legend_title = 'solid: Crab excess vs. off-data\\n'\n",
    "legend_title += 'dashed: MC gamma vs. off-data'\n",
    "leg = plt.legend(fontsize=15.5, loc='upper left', title=legend_title, title_fontsize=15.5)\n",
    "leg._legend_box.align = \"left\"\n",
    "    \n",
    "plt.tight_layout()\n",
    "\n",
    "plt.show()\n"
   ]
  },
  {
   "cell_type": "code",
   "execution_count": null,
   "id": "f76552f1",
   "metadata": {},
   "outputs": [],
   "source": []
  }
 ],
 "metadata": {
  "kernelspec": {
   "display_name": "Python 3 (ipykernel)",
   "language": "python",
   "name": "python3"
  },
  "language_info": {
   "codemirror_mode": {
    "name": "ipython",
    "version": 3
   },
   "file_extension": ".py",
   "mimetype": "text/x-python",
   "name": "python",
   "nbconvert_exporter": "python",
   "pygments_lexer": "ipython3",
   "version": "3.8.15"
  }
 },
 "nbformat": 4,
 "nbformat_minor": 5
}
