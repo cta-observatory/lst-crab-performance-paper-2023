{
  "cells": [
    {
      "cell_type": "code",
      "execution_count": null,
      "id": "c1f5b0df",
      "metadata": {
        "execution": {
          "iopub.execute_input": "2023-04-24T16:10:36.835140Z",
          "iopub.status.busy": "2023-04-24T16:10:36.834851Z",
          "iopub.status.idle": "2023-04-24T16:10:37.427230Z",
          "shell.execute_reply": "2023-04-24T16:10:37.426372Z"
        }
      },
      "outputs": [],
      "source": [
        "import numpy as np\n",
        "import matplotlib.pyplot as plt\n",
        "\n",
        "%matplotlib inline"
      ]
    },
    {
      "cell_type": "code",
      "execution_count": null,
      "id": "9ad891d6",
      "metadata": {
        "execution": {
          "iopub.execute_input": "2023-04-24T16:10:37.430415Z",
          "iopub.status.busy": "2023-04-24T16:10:37.430088Z",
          "iopub.status.idle": "2023-04-24T16:10:37.434637Z",
          "shell.execute_reply": "2023-04-24T16:10:37.433667Z"
        }
      },
      "outputs": [],
      "source": [
        "plt.style.use('seaborn-paper')\n",
        "plt.style.use('seaborn-colorblind')\n",
        "cb_colors = plt.rcParams['axes.prop_cycle'].by_key()['color']"
      ]
    },
    {
      "cell_type": "code",
      "execution_count": null,
      "id": "464e3329",
      "metadata": {
        "execution": {
          "iopub.execute_input": "2023-04-24T16:10:37.437324Z",
          "iopub.status.busy": "2023-04-24T16:10:37.437089Z",
          "iopub.status.idle": "2023-04-24T16:10:38.325692Z",
          "shell.execute_reply": "2023-04-24T16:10:38.325049Z"
        }
      },
      "outputs": [],
      "source": [
        "off_scale = 10\n",
        "\n",
        "fig = plt.figure(figsize=(15,10))\n",
        "\n",
        "xlimits = [(0, 0.5), (0, 1.2), (-1.5, 3.5), (-20.5, 40.5)]\n",
        "ylimits = [(-0.0035, 0.035), (-0.0027, 0.027), (-0.005, 0.05), (-0.0058, 0.058)]\n",
        "\n",
        "parameters = ['width', 'length', 'skewness_from_source', 'time_gradient_from_source']\n",
        "units = [' (deg)', ' (deg)', '', ' (ns/deg)']\n",
        "\n",
        "\n",
        "for iparam, parameter in enumerate(parameters):\n",
        "    \n",
        "    ratedata = np.loadtxt(parameter+\".csv\", delimiter=',')\n",
        "\n",
        "    ax = fig.add_subplot(2, 2, iparam+1)\n",
        "    \n",
        "    x = ratedata[0]\n",
        "    y = ratedata[1]\n",
        "    ey = ratedata[2]\n",
        "    plt.errorbar(x, y, yerr=ey, fmt='o', \n",
        "                 label = \"Data\", color=cb_colors[2])\n",
        "\n",
        "    y = ratedata[3]\n",
        "    ey = ratedata[4]\n",
        "    \n",
        "    plt.errorbar(x, y/off_scale, \n",
        "                 yerr=ey/off_scale, \n",
        "                 fmt='o', label = f\"Data Off/{off_scale}\", \n",
        "                 color=cb_colors[1])\n",
        "    \n",
        "    y = ratedata[5]\n",
        "    plt.step(x, y, where='mid', label=\"gamma MC\", color=cb_colors[0])\n",
        "    plt.plot([x.min(), x.max()], [0, 0], linewidth=0.5, color='black')\n",
        "    \n",
        "   \n",
        "    plt.xlabel(parameter+units[iparam], fontsize=16)\n",
        "    plt.ylabel('Rate ($s^{-1}$)', fontsize=16)\n",
        "    plt.xticks(fontsize=16)\n",
        "    plt.yticks(fontsize=16)\n",
        "    \n",
        "    hndls, lbls = ax.get_legend_handles_labels()\n",
        "    leg = plt.legend(hndls, lbls, fontsize=16, \n",
        "                     title='$\\\\theta < 0.25^\\circ$',\n",
        "                     title_fontsize=16)\n",
        "    leg._legend_box.align = \"left\"\n",
        "\n",
        "    plt.ylim(ylimits[iparam])\n",
        "    plt.xlim(xlimits[iparam])\n",
        "        \n",
        "\n",
        "plt.tight_layout()\n",
        "plt.show()"
      ]
    },
    {
      "cell_type": "code",
      "execution_count": null,
      "id": "9e115e6f",
      "metadata": {},
      "outputs": [],
      "source": []
    },
    {
      "cell_type": "code",
      "execution_count": null,
      "id": "62622093",
      "metadata": {},
      "outputs": [],
      "source": []
    }
  ],
  "metadata": {
    "language_info": {
      "codemirror_mode": {
        "name": "ipython",
        "version": 3
      },
      "file_extension": ".py",
      "mimetype": "text/x-python",
      "name": "python",
      "nbconvert_exporter": "python",
      "pygments_lexer": "ipython3",
      "version": "3.8.16"
    }
  },
  "nbformat": 4,
  "nbformat_minor": 5
}
