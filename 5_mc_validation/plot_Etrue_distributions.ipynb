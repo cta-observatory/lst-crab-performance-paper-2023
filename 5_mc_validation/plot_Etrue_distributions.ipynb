{
  "cells": [
    {
      "cell_type": "code",
      "execution_count": null,
      "id": "c1f5b0df",
      "metadata": {
        "execution": {
          "iopub.execute_input": "2023-04-24T16:10:21.667245Z",
          "iopub.status.busy": "2023-04-24T16:10:21.666454Z",
          "iopub.status.idle": "2023-04-24T16:10:22.275058Z",
          "shell.execute_reply": "2023-04-24T16:10:22.274158Z"
        }
      },
      "outputs": [],
      "source": [
        "import numpy as np\n",
        "import matplotlib.pyplot as plt\n",
        "\n",
        "%matplotlib inline"
      ]
    },
    {
      "cell_type": "code",
      "execution_count": null,
      "id": "9ad891d6",
      "metadata": {
        "execution": {
          "iopub.execute_input": "2023-04-24T16:10:22.278320Z",
          "iopub.status.busy": "2023-04-24T16:10:22.278017Z",
          "iopub.status.idle": "2023-04-24T16:10:22.281863Z",
          "shell.execute_reply": "2023-04-24T16:10:22.281300Z"
        }
      },
      "outputs": [],
      "source": [
        "plt.style.use('seaborn-paper')\n",
        "plt.style.use('seaborn-colorblind')\n",
        "cb_colors = plt.rcParams['axes.prop_cycle'].by_key()['color']"
      ]
    },
    {
      "cell_type": "code",
      "execution_count": null,
      "id": "8d04659e",
      "metadata": {
        "execution": {
          "iopub.execute_input": "2023-04-24T16:10:22.284769Z",
          "iopub.status.busy": "2023-04-24T16:10:22.284466Z",
          "iopub.status.idle": "2023-04-24T16:10:22.291605Z",
          "shell.execute_reply": "2023-04-24T16:10:22.290926Z"
        }
      },
      "outputs": [],
      "source": [
        "ratedata = np.loadtxt(\"Etrue_distributions.csv\", delimiter=',')"
      ]
    },
    {
      "cell_type": "code",
      "execution_count": null,
      "id": "464e3329",
      "metadata": {
        "execution": {
          "iopub.execute_input": "2023-04-24T16:10:22.294107Z",
          "iopub.status.busy": "2023-04-24T16:10:22.293852Z",
          "iopub.status.idle": "2023-04-24T16:10:23.004840Z",
          "shell.execute_reply": "2023-04-24T16:10:23.004028Z"
        }
      },
      "outputs": [],
      "source": [
        "isizebin = 0\n",
        "linecolors = [cb_colors[0], cb_colors[1], cb_colors[2], cb_colors[3]]\n",
        "\n",
        "plt.figure(figsize=(8,6))\n",
        "\n",
        "for intensity_min, intensity_max in zip([80, 200, 800, 3200], \n",
        "                                        [200, 800, 3200, 1e6]):\n",
        "\n",
        "    label_intensity = f\"{intensity_min} - {intensity_max} p.e\"    \n",
        "    if intensity_max > 1e4:\n",
        "        label_intensity = f\"> {intensity_min} p.e\"\n",
        "\n",
        "    x = ratedata[2][ratedata[0]==intensity_min]\n",
        "    y = ratedata[3][ratedata[0]==intensity_min]\n",
        "    plt.step(x, y, where='mid', label=label_intensity, color=linecolors[isizebin],\n",
        "            linewidth=1)\n",
        "    \n",
        "    y = ratedata[4][ratedata[0]==intensity_min]\n",
        "    plt.step(x, y, where='mid', linestyle='dashed', \n",
        "             linewidth=1, color=linecolors[isizebin])\n",
        "\n",
        "    \n",
        "    isizebin += 1\n",
        "\n",
        "    \n",
        "plt.xlabel('Energy (TeV)', fontsize=16)\n",
        "plt.ylabel('MC gamma rate, $d^{2}N/dE/dt$ (a.u.)', fontsize=16)\n",
        "plt.xticks(fontsize=16)\n",
        "plt.yticks(fontsize=16)\n",
        "\n",
        "plt.xlim(3e-3, 100)\n",
        "plt.ylim(0, 0.055)\n",
        "plt.xscale('log')\n",
        "\n",
        "plt.plot([], [], label='\\ndashed: after\\n70%-efficiency \\ngammaness cut', color='white')\n",
        "\n",
        "plt.legend(fontsize=16)\n",
        "\n",
        "\n",
        "plt.tight_layout()\n",
        "plt.show()"
      ]
    },
    {
      "cell_type": "code",
      "execution_count": null,
      "id": "9e115e6f",
      "metadata": {},
      "outputs": [],
      "source": []
    },
    {
      "cell_type": "code",
      "execution_count": null,
      "id": "62622093",
      "metadata": {},
      "outputs": [],
      "source": []
    }
  ],
  "metadata": {
    "language_info": {
      "codemirror_mode": {
        "name": "ipython",
        "version": 3
      },
      "file_extension": ".py",
      "mimetype": "text/x-python",
      "name": "python",
      "nbconvert_exporter": "python",
      "pygments_lexer": "ipython3",
      "version": "3.8.16"
    }
  },
  "nbformat": 4,
  "nbformat_minor": 5
}
