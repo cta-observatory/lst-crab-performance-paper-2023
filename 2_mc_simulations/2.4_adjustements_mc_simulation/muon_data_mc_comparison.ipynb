{
 "cells": [
  {
   "cell_type": "code",
   "execution_count": null,
   "metadata": {},
   "outputs": [],
   "source": [
    "from astropy.io import fits\n",
    "import numpy as np\n",
    "import matplotlib.pyplot as plt\n",
    "import seaborn as sns\n",
    "import os\n",
    "from astropy.table import Table, vstack\n",
    "import glob\n",
    "\n",
    "import matplotlib.style as style\n",
    "style.use('seaborn-colorblind')\n",
    "\n",
    "plt.rcParams['figure.figsize'] = (12, 10)\n",
    "plt.rcParams['font.size'] = 20\n",
    "plt.rcParams['figure.figsize']"
   ]
  },
  {
   "cell_type": "markdown",
   "metadata": {},
   "source": [
    "## Quantities definition"
   ]
  },
  {
   "cell_type": "code",
   "execution_count": null,
   "metadata": {},
   "outputs": [],
   "source": [
    "popt_mc_array = np.array([2229.79703976, 2037.02309679, 2416.18446325])\n",
    "popt_data = np.array([2225.02302857])"
   ]
  },
  {
   "cell_type": "code",
   "execution_count": null,
   "metadata": {},
   "outputs": [],
   "source": [
    "OPT_EFF=[100, 90, 110]\n",
    "colors = ['C0', 'C1', 'C2']\n",
    "labels = ['MC', 'MC (-10% optical efficiency)', 'MC (+10% optical efficiency)']\n",
    "labels_file = ['MC', 'MC_minus_10', 'MC_plus_10']\n",
    "linestyles = ['solid', 'dashed', 'dashed']\n",
    "facecolors = ['C0', 'none', 'none']"
   ]
  },
  {
   "cell_type": "markdown",
   "metadata": {},
   "source": [
    "## Let's plot it out"
   ]
  },
  {
   "cell_type": "code",
   "execution_count": null,
   "metadata": {},
   "outputs": [],
   "source": [
    "fig, ax = plt.subplots()\n",
    "\n",
    "for i, (opt_eff, col, label, linestyle, facecolor) in enumerate(zip(OPT_EFF, colors, labels, linestyles, facecolors)):\n",
    "        \n",
    "    x_centers = np.loadtxt(f'data/ring_radius_{labels_file[i]}.txt')[:,0]\n",
    "    intensity_mc = np.loadtxt(f'data/ring_radius_{labels_file[i]}.txt')[:,1]\n",
    "    intensity_mc_error = np.loadtxt(f'data/ring_radius_{labels_file[i]}.txt')[:,2]\n",
    "\n",
    "    ax.errorbar(x_centers, intensity_mc, yerr=np.array(intensity_mc_error), ls='',\n",
    "                 ms=10, fmt='o', markeredgecolor=col, color=facecolor, label = label)\n",
    "    ax.errorbar(x_centers, intensity_mc, yerr=np.array(intensity_mc_error), ls='',\n",
    "                 ms=10, fmt='', markeredgecolor=col, color=col)\n",
    "    ax.plot(x_centers, popt_mc_array[i] * x_centers, color=col, ls=linestyle)\n",
    "    \n",
    "    \n",
    "    x_centers = np.loadtxt(f'data/ring_radius_{labels_file[i]}.txt')[:,0]\n",
    "    intensity_mc = np.loadtxt(f'data/ring_radius_{labels_file[i]}.txt')[:,1]\n",
    "    intensity_mc_error = np.loadtxt(f'data/ring_radius_{labels_file[i]}.txt')[:,2]\n",
    "\n",
    "x_centers = np.loadtxt(f'data/ring_radius_data.txt')[:,0]\n",
    "intensity_data = np.loadtxt(f'data/ring_radius_data.txt')[:,1]\n",
    "intensity_data_error = np.loadtxt(f'data/ring_radius_data.txt')[:,2]\n",
    "\n",
    "ax.errorbar(x_centers, intensity_data, yerr=intensity_data_error, color = 'k',  \n",
    "            label = 'Data (Run 2973)', ls='', fmt='o', ms=10)\n",
    "ax.plot(x_centers, popt_data * x_centers, color='k')\n",
    "\n",
    "\n",
    "ax.legend(ncol=1)\n",
    "ax.set_xlabel('Muon ring radius [deg]')\n",
    "ax.set_ylabel('Muon ring intensity [p.e.]')\n",
    "\n",
    "!mkdir -p figures\n",
    "\n",
    "fig.savefig('figures/intensity_vs_radius_scipy_errors.png')\n",
    "fig.savefig('figures/intensity_vs_radius_scipy_errors.pdf')"
   ]
  },
  {
   "cell_type": "code",
   "execution_count": null,
   "metadata": {},
   "outputs": [],
   "source": []
  }
 ],
 "metadata": {
  "kernelspec": {
   "display_name": "Python 3 (ipykernel)",
   "language": "python",
   "name": "python3"
  },
  "language_info": {
   "codemirror_mode": {
    "name": "ipython",
    "version": 3
   },
   "file_extension": ".py",
   "mimetype": "text/x-python",
   "name": "python",
   "nbconvert_exporter": "python",
   "pygments_lexer": "ipython3",
   "version": "3.8.16"
  }
 },
 "nbformat": 4,





"nbformat_minor": 4
}
