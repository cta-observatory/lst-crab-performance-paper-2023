{
 "cells": [
  {
   "cell_type": "code",
   "execution_count": null,
   "metadata": {},
   "outputs": [],
   "source": [
    "from astropy.io import fits\n",
    "import numpy as np\n",
    "import matplotlib.pyplot as plt\n",
    "import seaborn as sns\n",
    "import os\n",
    "from astropy.table import Table, vstack\n",
    "import glob"
   ]
  },
  {
   "cell_type": "markdown",
   "metadata": {},
   "source": [
    "## Format definition"
   ]
  },
  {
   "cell_type": "code",
   "execution_count": null,
   "metadata": {},
   "outputs": [],
   "source": [
    "import matplotlib.style as style\n",
    "style.use('seaborn-colorblind')\n",
    "\n",
    "plt.rcParams['figure.figsize'] = (12, 10)\n",
    "plt.rcParams['font.size'] = 20\n",
    "plt.rcParams['figure.figsize']\n",
    "\n",
    "def format_axes(ax,option):\n",
    "    \n",
    "    if(option=='width'):\n",
    "        ax.set_xlabel('Muon radius [deg]')\n",
    "        ax.set_ylabel('Muon ring width [deg]')\n",
    "        ax.grid(linestyle=\"dashed\")\n",
    "        #ax.set_ylim(0.042,0.07)\n",
    "        ax.legend()\n",
    "    if(option=='size'):\n",
    "        ax2.grid(linestyle=\"dashed\")\n",
    "        ax2.legend(ncol=1)\n",
    "        ax2.set_xlabel('Muon ring radius [deg]')\n",
    "        ax2.set_ylabel('Muon ring intensity [phe]')\n",
    "        ax2.set_ylim(1800,3200)\n",
    "        ax2.set_xlim(0.95,1.23)"
   ]
  },
  {
   "cell_type": "markdown",
   "metadata": {},
   "source": [
    "## Definition of different MC efficiencies"
   ]
  },
  {
   "cell_type": "code",
   "execution_count": null,
   "metadata": {},
   "outputs": [],
   "source": [
    "OPT_EFF=[100, 90, 110]\n",
    "colors = ['C0', 'C1', 'C2']\n",
    "labels = ['MC', 'MC (-10% optical efficiency)', 'MC (+10% optical efficiency)']\n",
    "linestyles = ['solid', 'dashed', 'dashed']\n",
    "facecolors = ['C0', 'none', 'none']"
   ]
  },
  {
   "cell_type": "code",
   "execution_count": null,
   "metadata": {},
   "outputs": [],
   "source": [
    "# size (intensity) outside the ring, to get rid of hadronic showers\n",
    "size_outside = 1 # phe\n",
    "\n",
    "# intensity limit for muon rings\n",
    "intensity_limit = 3000\n",
    "\n",
    "# Define fitting function with origin at 0\n",
    "from scipy.optimize import curve_fit\n",
    "def func(x,a):\n",
    "    return a*x"
   ]
  },
  {
   "cell_type": "markdown",
   "metadata": {},
   "source": [
    "### Data"
   ]
  },
  {
   "cell_type": "code",
   "execution_count": null,
   "metadata": {},
   "outputs": [],
   "source": [
    "listdir = glob.glob('data/Run2973/muons_LST-1.Run02973*')\n",
    "\n",
    "dat = Table.read('{}'.format(listdir[0]), format='fits')\n",
    "for i in range(1,len(listdir)):\n",
    "    dat2 = Table.read('{}'.format(listdir[i]), format='fits')\n",
    "    if(len(dat2) == 0):\n",
    "        continue\n",
    "    dat = vstack([dat, dat2])\n",
    "\n",
    "df = dat.to_pandas()\n",
    "df_good_data = df[df['good_ring']]"
   ]
  },
  {
   "cell_type": "code",
   "execution_count": null,
   "metadata": {},
   "outputs": [],
   "source": [
    "radius_data = df_good_data['ring_radius'][(df_good_data['ring_completeness'] > 0.9) & (\n",
    "    df_good_data['size_outside'] < size_outside) & (df_good_data['ring_width'] < 0.4) & (\n",
    "    df_good_data['ring_size'] < intensity_limit)]\n",
    "intensity_data = df_good_data['ring_size'][(df_good_data['ring_completeness'] > 0.9) & (\n",
    "    df_good_data['size_outside'] < size_outside) & (df_good_data['ring_width'] < 0.4) & (\n",
    "    df_good_data['ring_size'] < intensity_limit)]\n",
    "\n",
    "radius_data = np.array(radius_data)\n",
    "intensity_data = np.array(intensity_data)\n"
   ]
  },
  {
   "cell_type": "code",
   "execution_count": null,
   "metadata": {},
   "outputs": [],
   "source": [
    "intensity_data_bin = []\n",
    "radius_data_bin = []\n",
    "intensity_data_bin_mean = []\n",
    "intensity_data_bin_std = []\n",
    "x_edges = []\n",
    "\n",
    "xprev = 0.92\n",
    "x_edges.append(xprev)\n",
    "for i in range(0, 8):\n",
    "    x = xprev + 0.04\n",
    "    x_edges.append(x)\n",
    "\n",
    "    intensity_data_bin.append(intensity_data[np.where((radius_data > xprev) & (radius_data <= x))[0]])\n",
    "    radius_data_bin.append(radius_data[np.where((radius_data > xprev) & (radius_data <= x))[0]])\n",
    "    intensity_data_bin_mean.append(np.mean(intensity_data[np.where((radius_data > xprev) & (radius_data <= x))[0]]))\n",
    "    intensity_data_bin_std.append(np.std(intensity_data[np.where((radius_data > xprev) & (radius_data <= x))[0]]) / \n",
    "                                 np.sqrt(len(intensity_data[np.where((radius_data > xprev) & (radius_data <= x))[0]])))\n",
    "    xprev = x \n",
    "\n",
    "x_centers = (np.array(x_edges[:-1]) + np.array(x_edges[1:]))/2\n",
    "\n",
    "radius_data_fit = radius_data[(radius_data > x_edges[0]) & (radius_data <= x_edges[-1])]\n",
    "intensity_data_fit = intensity_data[(radius_data > x_edges[0]) & (radius_data <= x_edges[-1])]\n",
    "popt_data,pcov_data = curve_fit(func, radius_data_fit, intensity_data_fit)\n"
   ]
  },
  {
   "cell_type": "markdown",
   "metadata": {},
   "source": [
    "### MC"
   ]
  },
  {
   "cell_type": "code",
   "execution_count": null,
   "metadata": {},
   "outputs": [],
   "source": [
    "radius_mc = []\n",
    "intensity_mc = []\n",
    "\n",
    "for opt_eff in OPT_EFF:\n",
    "    listdir=glob.glob(f'data/mc/trans_{opt_eff}/dl1*fits')\n",
    "    dat = Table.read('{}'.format(listdir[0]), format='fits')\n",
    "    for i in range(1,len(listdir)):\n",
    "        dat2 = Table.read('{}'.format(listdir[i]), format='fits')\n",
    "        dat = vstack([dat, dat2])\n",
    "    df = dat.to_pandas()\n",
    "    df_good = df[df['good_ring']]\n",
    "\n",
    "\n",
    "    radius_mc.append(df_good['ring_radius'][(df_good['ring_completeness'] > 0.9) \n",
    "                                           & (df_good['size_outside'] < size_outside)\n",
    "                                           & (df_good['ring_width'] < 0.4) & (df_good['ring_size'] < intensity_limit)])\n",
    "    intensity_mc.append(df_good['ring_size'][(df_good['ring_completeness'] > 0.9) \n",
    "                                     & (df_good['size_outside'] < size_outside)\n",
    "                                     & (df_good['ring_width'] < 0.4) & (df_good['ring_size'] < intensity_limit)])\n",
    "    \n",
    "radius_mc = np.array(radius_mc)\n",
    "intensity_mc = np.array(intensity_mc)\n"
   ]
  },
  {
   "cell_type": "code",
   "execution_count": null,
   "metadata": {},
   "outputs": [],
   "source": [
    "intensity_mc_bin_array = []\n",
    "intensity_mc_bin_mean_array = []\n",
    "intensity_mc_bin_std_array = []\n",
    "\n",
    "popt_mc_array = []\n",
    "\n",
    "for j in range(0, len(OPT_EFF)):\n",
    "\n",
    "    intensity_mc_bin = []\n",
    "    intensity_mc_bin_mean = []\n",
    "    intensity_mc_bin_std = []\n",
    "    x_edges = []\n",
    "\n",
    "    xprev = 0.92\n",
    "    x_edges.append(xprev)\n",
    "    for i in range(0, 8):\n",
    "        x = xprev + 0.04\n",
    "        x_edges.append(x)\n",
    "\n",
    "        intensity_mc_bin.append(np.array(intensity_mc[j])[np.where((radius_mc[j] > xprev) & (radius_mc[j] <= x))[0]])\n",
    "        intensity_mc_bin_mean.append(np.mean(np.array(intensity_mc[j])[np.where((radius_mc[j] > xprev) & (radius_mc[j] <= x))[0]]))\n",
    "        intensity_mc_bin_std.append(\n",
    "            np.std(np.array(intensity_mc[j])[np.where((radius_mc[j] > xprev) & (radius_mc[j] <= x))[0]]) / np.sqrt(len(\n",
    "        np.array(intensity_mc[j])[np.where((radius_mc[j] > xprev) & (radius_mc[j] <= x))[0]])))\n",
    "        xprev = x \n",
    "        \n",
    "    intensity_mc_bin_array.append(intensity_mc_bin)\n",
    "    intensity_mc_bin_mean_array.append(intensity_mc_bin_mean)\n",
    "    intensity_mc_bin_std_array.append(intensity_mc_bin_std)\n",
    "    x_centers = (np.array(x_edges[:-1]) + np.array(x_edges[1:]))/2\n",
    "    \n",
    "    \n",
    "    radius_mc_fit = radius_mc[j][(radius_mc[j] > x_edges[0]) & (radius_mc[j] <= x_edges[-1])]\n",
    "    intensity_mc_fit = intensity_mc[j][(radius_mc[j] > x_edges[0]) & (radius_mc[j] <= x_edges[-1])]\n",
    "    \n",
    "    popt_mc,pcov_mc = curve_fit(func, radius_mc_fit, intensity_mc_fit)\n",
    "    popt_mc_array.append(popt_mc)\n",
    "    \n",
    "    "
   ]
  },
  {
   "cell_type": "code",
   "execution_count": null,
   "metadata": {},
   "outputs": [],
   "source": [
    "fig, ax = plt.subplots()\n",
    "\n",
    "for i, (opt_eff, col, label, linestyle, facecolor) in enumerate(zip(OPT_EFF, colors, labels, linestyles, facecolors)):\n",
    "    ax.errorbar(x_centers, intensity_mc_bin_mean_array[i], yerr=np.array(intensity_mc_bin_std_array[i]), ls='',\n",
    "                 ms=10, fmt='o', markeredgecolor=col, color=facecolor, label = label)\n",
    "    ax.errorbar(x_centers, intensity_mc_bin_mean_array[i], yerr=np.array(intensity_mc_bin_std_array[i]), ls='',\n",
    "                 ms=10, fmt='', markeredgecolor=col, color=col)\n",
    "    ax.plot(x_centers, popt_mc_array[i] * x_centers, color=col, ls=linestyle)\n",
    "\n",
    "ax.errorbar(x_centers, intensity_data_bin_mean, yerr=intensity_data_bin_std, color = 'k',  \n",
    "            label = 'Data (Run 2973)', ls='', fmt='o', ms=10)\n",
    "ax.plot(x_centers, popt_data * x_centers, color='k')\n",
    "\n",
    "ax.legend(ncol=1)\n",
    "ax.set_xlabel('Muon ring radius [deg]')\n",
    "ax.set_ylabel('Muon ring intensity [p.e.]')\n",
    "\n",
    "!mkdir -p figures\n",
    "\n",
    "fig.savefig('figures/intensity_vs_radius_scipy_errors.png')\n",
    "fig.savefig('figures/intensity_vs_radius_scipy_errors.pdf')"
   ]
  },
  {
   "cell_type": "code",
   "execution_count": null,
   "metadata": {},
   "outputs": [],
   "source": []
  }
 ],
 "metadata": {
  "kernelspec": {
   "display_name": "Python 3 (ipykernel)",
   "language": "python",
   "name": "python3"
  },
  "language_info": {
   "codemirror_mode": {
    "name": "ipython",
    "version": 3
   },
   "file_extension": ".py",
   "mimetype": "text/x-python",
   "name": "python",
   "nbconvert_exporter": "python",
   "pygments_lexer": "ipython3",
   "version": "3.8.16"
  }
 },
 "nbformat": 4,
 "nbformat_minor": 4
}
