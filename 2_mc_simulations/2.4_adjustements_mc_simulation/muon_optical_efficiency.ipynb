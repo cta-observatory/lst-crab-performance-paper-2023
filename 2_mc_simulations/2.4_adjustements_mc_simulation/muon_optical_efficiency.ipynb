{
 "cells": [
  {
   "cell_type": "code",
   "execution_count": null,
   "metadata": {
    "execution": {
     "iopub.execute_input": "2023-04-24T16:32:23.090692Z",
     "iopub.status.busy": "2023-04-24T16:32:23.090356Z",
     "iopub.status.idle": "2023-04-24T16:32:23.841223Z",
     "shell.execute_reply": "2023-04-24T16:32:23.840292Z"
    }
   },
   "outputs": [],
   "source": [
    "import matplotlib.pyplot as plt\n",
    "import numpy as np\n",
    "\n",
    "import datetime as dt\n",
    "import matplotlib.dates as mdates\n",
    "import matplotlib.patheffects as path_effects\n",
    "plt.style.use('seaborn-colorblind')\n",
    "date_fmt = '%Y%m%d.0'\n",
    "plt.rcParams.update({'font.size': 20})\n"
   ]
  },
  {
   "cell_type": "markdown",
   "metadata": {},
   "source": [
    "## Load data"
   ]
  },
  {
   "cell_type": "code",
   "execution_count": null,
   "metadata": {
    "execution": {
     "iopub.execute_input": "2023-04-24T16:32:23.845450Z",
     "iopub.status.busy": "2023-04-24T16:32:23.845052Z",
     "iopub.status.idle": "2023-04-24T16:32:23.919813Z",
     "shell.execute_reply": "2023-04-24T16:32:23.919016Z"
    }
   },
   "outputs": [],
   "source": [
    "run = []\n",
    "date = []\n",
    "optical_efficiency = []\n",
    "ring_intensity = []\n",
    "\n",
    "files = !ls 'data/optical_efficiencies/' | grep opt_eff.txt\n",
    "\n",
    "for file in files:\n",
    "    \n",
    "        data = np.loadtxt(f'data/optical_efficiencies/{file}')\n",
    "        run.append(data[0])\n",
    "        date.append(data[1])\n",
    "        optical_efficiency.append(data[2])\n",
    "        ring_intensity.append(data[3])\n",
    "    \n",
    "run = np.array(run)\n",
    "date = np.array(date)\n",
    "optical_efficiency = np.array(optical_efficiency)\n",
    "ring_intensity = np.array(ring_intensity)"
   ]
  },
  {
   "cell_type": "code",
   "execution_count": null,
   "metadata": {
    "execution": {
     "iopub.execute_input": "2023-04-24T16:32:23.922656Z",
     "iopub.status.busy": "2023-04-24T16:32:23.922377Z",
     "iopub.status.idle": "2023-04-24T16:32:23.931741Z",
     "shell.execute_reply": "2023-04-24T16:32:23.930946Z"
    }
   },
   "outputs": [],
   "source": [
    "dt_x = [dt.datetime.strptime(str(i), date_fmt) for i in date]\n",
    "dates_corrected = [mdates.date2num(i) for i in dt_x]"
   ]
  },
  {
   "cell_type": "code",
   "execution_count": null,
   "metadata": {
    "execution": {
     "iopub.execute_input": "2023-04-24T16:32:23.934576Z",
     "iopub.status.busy": "2023-04-24T16:32:23.934219Z",
     "iopub.status.idle": "2023-04-24T16:32:23.937848Z",
     "shell.execute_reply": "2023-04-24T16:32:23.937306Z"
    }
   },
   "outputs": [],
   "source": [
    "idx_after_vulcano = np.where(np.array(dates_corrected) == 19027.)[0][0]"
   ]
  },
  {
   "cell_type": "code",
   "execution_count": null,
   "metadata": {
    "execution": {
     "iopub.execute_input": "2023-04-24T16:32:23.940531Z",
     "iopub.status.busy": "2023-04-24T16:32:23.940286Z",
     "iopub.status.idle": "2023-04-24T16:32:24.970400Z",
     "shell.execute_reply": "2023-04-24T16:32:24.969528Z"
    }
   },
   "outputs": [],
   "source": [
    "fig, ax = plt.subplots(figsize = (12, 10))\n",
    "ax.scatter(np.arange(len(ring_intensity)) + 1, optical_efficiency, marker='o', color='C1', alpha=0.8, s=100, edgecolor='0.2')\n",
    "\n",
    "ax.set_ylim(np.min(optical_efficiency) * 0.6, np.max(optical_efficiency) * 1.1)\n",
    "ax.set_xlim(0, len(optical_efficiency) * 1.01)\n",
    "\n",
    "\n",
    "text = fig.text(0.67, 0.35, 'Volcano eruption', color='white',\n",
    "                          ha='center', va='center', size=30, rotation=90)\n",
    "text.set_path_effects([path_effects.Stroke(linewidth=3, foreground='black'),\n",
    "                       path_effects.Normal()])\n",
    "\n",
    "ax.axvline(idx_after_vulcano + 0.5, ls='--', color='gray')\n",
    "\n",
    "ax.axhline(100, ls='--', color='C2')\n",
    "text = fig.text(0.8, 0.72, 'MC', color='C2',\n",
    "                          ha='center', va='center', size=30)\n",
    "\n",
    "ax.set_xlabel('Run')\n",
    "ax.set_ylabel(r'Optical efficiency from $\\mu$-rings [%]')\n",
    "\n",
    "!mkdir -p figures\n",
    "\n",
    "fig.savefig('figures/opt_eff_vs_date_selected_runs.png')\n",
    "fig.savefig('figures/opt_eff_vs_date_selected_runs.pdf')\n"
   ]
  },
  {
   "cell_type": "code",
   "execution_count": null,
   "metadata": {},
   "outputs": [],
   "source": []
  }
 ],
 "metadata": {
  "kernelspec": {
   "display_name": "Python 3 (ipykernel)",
   "language": "python",
   "name": "python3"
  },
  "language_info": {
   "codemirror_mode": {
    "name": "ipython",
    "version": 3
   },
   "file_extension": ".py",
   "mimetype": "text/x-python",
   "name": "python",
   "nbconvert_exporter": "python",
   "pygments_lexer": "ipython3",
   "version": "3.8.16"
  }
 },
 "nbformat": 4,
 "nbformat_minor": 4
}
