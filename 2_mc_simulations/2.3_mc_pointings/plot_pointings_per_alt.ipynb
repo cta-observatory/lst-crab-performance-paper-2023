{
 "cells": [
  {
   "cell_type": "code",
   "execution_count": null,
   "id": "8ec36655-3c25-4cb3-ad2a-64956fd1972d",
   "metadata": {
    "tags": []
   },
   "outputs": [],
   "source": [
    "import lstmcpipe\n",
    "print(lstmcpipe.__version__)\n",
    "\n",
    "from lstmcpipe.plots.pointings import plot_pointings"
   ]
  },
  {
   "cell_type": "code",
   "execution_count": null,
   "id": "dc0e51a4-cced-4b9a-9008-e68b1cfcefa5",
   "metadata": {
    "tags": []
   },
   "outputs": [],
   "source": [
    "import numpy as np\n",
    "import matplotlib.pyplot as plt\n",
    "import astropy.units as u\n",
    "from astropy.io.ascii import read\n",
    "from pathlib import Path"
   ]
  },
  {
   "cell_type": "code",
   "execution_count": null,
   "id": "51bc6f24-f9ff-41ed-a577-701d2a0a2de7",
   "metadata": {
    "tags": []
   },
   "outputs": [],
   "source": [
    "plt.style.use('seaborn-paper')\n",
    "plt.style.use('seaborn-colorblind')"
   ]
  },
  {
   "cell_type": "code",
   "execution_count": null,
   "id": "448e2c7b-77a5-4bb6-af3b-b80a36525e47",
   "metadata": {
    "tags": []
   },
   "outputs": [],
   "source": [
    "def groupby_alt(pointings):\n",
    "    pp = pointings.to_pandas()\n",
    "    return pp.groupby('alt').groups"
   ]
  },
  {
   "cell_type": "code",
   "execution_count": null,
   "id": "328ad6f7-6964-4616-adb4-e3dbb9bf6e03",
   "metadata": {
    "tags": []
   },
   "outputs": [],
   "source": [
    "pointings_test = read('pointings_test.ecsv')"
   ]
  },
  {
   "cell_type": "code",
   "execution_count": null,
   "id": "13abe2ec-98e0-41f7-8a83-4df91f71a7d2",
   "metadata": {
    "tags": []
   },
   "outputs": [],
   "source": [
    "pointings_test"
   ]
  },
  {
   "cell_type": "code",
   "execution_count": null,
   "id": "0f56ac49-e776-43b4-a0c1-577db8170aad",
   "metadata": {
    "tags": []
   },
   "outputs": [],
   "source": [
    "pointings_train = read('pointings_train.ecsv', format='ecsv')\n",
    "pointings_train = np.transpose([pointings_train['az'].to(u.rad), pointings_train['alt'].to(u.rad)])*u.rad\n",
    "pointings_train"
   ]
  },
  {
   "cell_type": "code",
   "execution_count": null,
   "id": "23856c03-9974-42eb-acf1-ef2910b2d8bf",
   "metadata": {
    "tags": []
   },
   "outputs": [],
   "source": [
    "plt.figure(figsize=(5,5))\n",
    "\n",
    "ax = plot_pointings(pointings_train,\n",
    "                    label='Training nodes', color='black', s=8)\n",
    "\n",
    "\n",
    "grp = groupby_alt(pointings_test)\n",
    "\n",
    "for ii, (k, index) in enumerate(grp.items()):\n",
    "    index=list(index)\n",
    "    ax.scatter(pointings_test[index]['az'].to_value(u.rad), np.pi/2. - pointings_test[index]['alt'].to_value(u.rad), \n",
    "               marker='*',\n",
    "               label=f\"Testing nodes zd={90*u.deg-pointings_test[index[0]]['alt']:.2f}\",\n",
    "               s=100\n",
    "              )\n",
    "\n",
    "rticks = [10, 20, 30, 40, 50, 60]\n",
    "ax.set_rticks(np.deg2rad(rticks), [f'{r:d}°' for r in rticks])\n",
    "ax.text(np.radians(ax.get_rlabel_position()+10),2*ax.get_rmax()/3.,'Zenith',\n",
    "        rotation=ax.get_rlabel_position(),ha='center',va='center')\n",
    "\n",
    "\n",
    "ax.vlines(np.deg2rad(175.158), 0, 0.99*ax.get_rmax(),\n",
    "          ls='dotted', \n",
    "          color='grey', lw=1, zorder=0,\n",
    "          label='magnetic North-South'\n",
    "         )\n",
    "ax.vlines(np.deg2rad(175.158)+np.pi, 0, 0.99*ax.get_rmax(), ls='dotted', color='grey', lw=1, zorder=0)\n",
    "\n",
    "\n",
    "ax.legend(fontsize=8, loc='lower right', bbox_to_anchor=(1.1, 0.16))\n",
    "\n",
    "\n",
    "\n",
    "\n",
    "plt.tight_layout()\n",
    "plt.savefig(Path('.', 'pointings_per_alt.png'), dpi=250)\n",
    "plt.show()"
   ]
  },
  {
   "cell_type": "code",
   "execution_count": null,
   "id": "7ff428ae-f14e-4a0e-bea0-52666eef2773",
   "metadata": {},
   "outputs": [],
   "source": []
  },
  {
   "cell_type": "code",
   "execution_count": null,
   "id": "b260d20e-e5f9-4c25-97d7-bccbdd4dc0f7",
   "metadata": {},
   "outputs": [],
   "source": []
  }
 ],
 "metadata": {
  "kernelspec": {
   "display_name": "crablst1",
   "language": "python",
   "name": "crablst1"
  },
  "language_info": {
   "codemirror_mode": {
    "name": "ipython",
    "version": 3
   },
   "file_extension": ".py",
   "mimetype": "text/x-python",
   "name": "python",
   "nbconvert_exporter": "python",
   "pygments_lexer": "ipython3",
   "version": "3.7.12"
  }
 },
 "nbformat": 4,
 "nbformat_minor": 5
}
