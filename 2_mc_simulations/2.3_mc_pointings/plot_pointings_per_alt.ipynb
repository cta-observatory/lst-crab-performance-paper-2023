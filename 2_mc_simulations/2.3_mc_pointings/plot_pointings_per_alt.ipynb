{
  "cells": [
    {
      "cell_type": "code",
      "execution_count": null,
      "id": "dc0e51a4-cced-4b9a-9008-e68b1cfcefa5",
      "metadata": {
        "execution": {
          "iopub.execute_input": "2023-04-24T21:46:27.248866Z",
          "iopub.status.busy": "2023-04-24T21:46:27.248005Z",
          "iopub.status.idle": "2023-04-24T21:46:28.978661Z",
          "shell.execute_reply": "2023-04-24T21:46:28.977842Z"
        },
        "tags": []
      },
      "outputs": [],
      "source": [
        "import mpl_toolkits\n",
        "import matplotlib\n",
        "import matplotlib.pyplot as plt\n",
        "import astropy.units as u\n",
        "from astropy.io.ascii import read\n",
        "from pathlib import Path\n",
        "import numpy as np"
      ]
    },
    {
      "cell_type": "code",
      "execution_count": null,
      "id": "51bc6f24-f9ff-41ed-a577-701d2a0a2de7",
      "metadata": {
        "execution": {
          "iopub.execute_input": "2023-04-24T21:46:28.982092Z",
          "iopub.status.busy": "2023-04-24T21:46:28.981794Z",
          "iopub.status.idle": "2023-04-24T21:46:28.985362Z",
          "shell.execute_reply": "2023-04-24T21:46:28.984692Z"
        },
        "tags": []
      },
      "outputs": [],
      "source": [
        "plt.style.use('seaborn-paper')\n",
        "plt.style.use('seaborn-colorblind')"
      ]
    },
    {
      "cell_type": "code",
      "execution_count": null,
      "id": "448e2c7b-77a5-4bb6-af3b-b80a36525e47",
      "metadata": {
        "execution": {
          "iopub.execute_input": "2023-04-24T21:46:28.988080Z",
          "iopub.status.busy": "2023-04-24T21:46:28.987803Z",
          "iopub.status.idle": "2023-04-24T21:46:28.991667Z",
          "shell.execute_reply": "2023-04-24T21:46:28.990860Z"
        },
        "tags": []
      },
      "outputs": [],
      "source": [
        "def groupby_alt(pointings):\n",
        "    pp = pointings.to_pandas()\n",
        "    return pp.groupby('alt').groups"
      ]
    },
    {
      "cell_type": "code",
      "execution_count": null,
      "id": "258afcef",
      "metadata": {
        "execution": {
          "iopub.execute_input": "2023-04-24T21:46:28.995020Z",
          "iopub.status.busy": "2023-04-24T21:46:28.994676Z",
          "iopub.status.idle": "2023-04-24T21:46:29.005785Z",
          "shell.execute_reply": "2023-04-24T21:46:29.004814Z"
        }
      },
      "outputs": [],
      "source": [
        "def plot_pointings(pointings, ax=None, projection='polar', add_grid3d=False, **kwargs):\n",
        "    \"\"\"\n",
        "    Produce a scatter plot of the pointings.\n",
        "    Copied from lstmcpipe==0.9.0:\n",
        "    https://github.com/cta-observatory/lstmcpipe/blob/v0.9.0/lstmcpipe/plots/pointings.py\n",
        "    Parameters\n",
        "    ----------\n",
        "    pointings: 2D array of `astropy.quantities` or numpy array in rad\n",
        "    ax : `matplotlib.pyplot.Axis`\n",
        "    projection: str or None\n",
        "        '3d' | 'aitoff' | 'hammer' | 'lambert' | 'mollweide' | 'polar' | 'rectilinear'\n",
        "    add_grid3d: bool\n",
        "        add a 3D grid in case of projection='3d'\n",
        "    kwargs: dict\n",
        "        kwargs for `matplotlib.pyplot.scatter`\n",
        "    Returns\n",
        "    -------\n",
        "    ax: `matplotlib.pyplot.axis`\n",
        "    \"\"\"\n",
        "    \n",
        "    if ax and projection:\n",
        "        if not isinstance(ax, matplotlib.projections.get_projection_class(projection)):\n",
        "            raise ValueError(f\"ax of type {type(ax)} and projection {projection} are exclusive\")\n",
        "        \n",
        "    if ax is None:\n",
        "        fig = plt.gcf()\n",
        "        ax = fig.add_subplot(111, projection=projection)\n",
        "    \n",
        "    elif isinstance(ax, mpl_toolkits.mplot3d.axes3d.Axes3D):\n",
        "        projection = '3d'\n",
        "    elif isinstance(ax, matplotlib.projections.polar.PolarAxes):\n",
        "        projection = 'polar'\n",
        "        \n",
        "    if projection == '3d':\n",
        "        r = 1.\n",
        "        if add_grid3d:\n",
        "            az, alt = np.mgrid[0:2.01*np.pi:(1/10)* np.pi/2., 0:np.pi/2.:(1/10)* np.pi/4.]\n",
        "            X = r * np.cos(az) * np.cos(alt)\n",
        "            Y = r * np.sin(az) * np.cos(alt)\n",
        "            Z = r * np.sin(alt)\n",
        "            ax.plot_surface(X, Y, Z, cmap=plt.cm.YlGnBu_r, alpha=.1)\n",
        "        r *= 1.01\n",
        "        az = pointings[:,0]\n",
        "        alt = pointings[:,1]\n",
        "        X = r * np.cos(az) * np.cos(alt)\n",
        "        Y = r * np.sin(az) * np.cos(alt)\n",
        "        Z = r * np.sin(alt)\n",
        "\n",
        "        ax.scatter(X, Y, Z, **kwargs)\n",
        "\n",
        "        box_ratio=1.03\n",
        "        ax.set_xlim3d([-r*box_ratio, r*box_ratio])\n",
        "        ax.set_ylim3d([-r*box_ratio, r*box_ratio])\n",
        "        ax.set_zlim3d([-r*box_ratio, r*box_ratio])\n",
        "        \n",
        "    elif projection == 'polar':\n",
        "        ax.scatter(pointings[:, 0], np.pi/2.*u.rad - pointings[:, 1], **kwargs)\n",
        "        ax.set_xlabel('Azimuth')\n",
        "        rticks_deg = [10, 30, 50, 70, 90]\n",
        "        ax.set_rticks(np.deg2rad(rticks_deg), labels=[f'{r}°' for r in rticks_deg])\n",
        "        ax.set_rmax(np.pi/2.)\n",
        "        ax.set_rlabel_position(20)\n",
        "        \n",
        "        \n",
        "    else:\n",
        "        ax.scatter(pointings[:, 0], pointings[:, 1], **kwargs)\n",
        "        ax.set_xlabel('Azimuth')\n",
        "        ax.set_ylabel('Altitude')\n",
        "        \n",
        "        \n",
        "    ax.legend()\n",
        "    ax.grid(True)\n",
        "    ax.set_axisbelow(True)\n",
        "\n",
        "    return ax"
      ]
    },
    {
      "cell_type": "code",
      "execution_count": null,
      "id": "1505b137",
      "metadata": {},
      "outputs": [],
      "source": []
    },
    {
      "cell_type": "code",
      "execution_count": null,
      "id": "328ad6f7-6964-4616-adb4-e3dbb9bf6e03",
      "metadata": {
        "execution": {
          "iopub.execute_input": "2023-04-24T21:46:29.008910Z",
          "iopub.status.busy": "2023-04-24T21:46:29.008620Z",
          "iopub.status.idle": "2023-04-24T21:46:29.267768Z",
          "shell.execute_reply": "2023-04-24T21:46:29.266566Z"
        },
        "tags": []
      },
      "outputs": [],
      "source": [
        "pointings_test = read('pointings_test.ecsv')"
      ]
    },
    {
      "cell_type": "code",
      "execution_count": null,
      "id": "13abe2ec-98e0-41f7-8a83-4df91f71a7d2",
      "metadata": {
        "execution": {
          "iopub.execute_input": "2023-04-24T21:46:29.271564Z",
          "iopub.status.busy": "2023-04-24T21:46:29.271249Z",
          "iopub.status.idle": "2023-04-24T21:46:29.283037Z",
          "shell.execute_reply": "2023-04-24T21:46:29.282266Z"
        },
        "tags": []
      },
      "outputs": [],
      "source": [
        "pointings_test"
      ]
    },
    {
      "cell_type": "code",
      "execution_count": null,
      "id": "0f56ac49-e776-43b4-a0c1-577db8170aad",
      "metadata": {
        "execution": {
          "iopub.execute_input": "2023-04-24T21:46:29.285981Z",
          "iopub.status.busy": "2023-04-24T21:46:29.285677Z",
          "iopub.status.idle": "2023-04-24T21:46:29.300520Z",
          "shell.execute_reply": "2023-04-24T21:46:29.299854Z"
        },
        "tags": []
      },
      "outputs": [],
      "source": [
        "pointings_train = read('pointings_train.ecsv', format='ecsv')\n",
        "pointings_train = np.transpose([pointings_train['az'].to(u.rad), pointings_train['alt'].to(u.rad)])*u.rad\n",
        "pointings_train"
      ]
    },
    {
      "cell_type": "code",
      "execution_count": null,
      "id": "23856c03-9974-42eb-acf1-ef2910b2d8bf",
      "metadata": {
        "execution": {
          "iopub.execute_input": "2023-04-24T21:46:29.303339Z",
          "iopub.status.busy": "2023-04-24T21:46:29.303067Z",
          "iopub.status.idle": "2023-04-24T21:46:31.264755Z",
          "shell.execute_reply": "2023-04-24T21:46:31.263782Z"
        },
        "tags": []
      },
      "outputs": [],
      "source": [
        "plt.figure(figsize=(5,5))\n",
        "\n",
        "ax = plot_pointings(pointings_train,\n",
        "                    label='Training nodes', color='black', s=8)\n",
        "\n",
        "\n",
        "grp = groupby_alt(pointings_test)\n",
        "\n",
        "for ii, (k, index) in enumerate(grp.items()):\n",
        "    index=list(index)\n",
        "    ax.scatter(pointings_test[index]['az'].to_value(u.rad), np.pi/2. - pointings_test[index]['alt'].to_value(u.rad), \n",
        "               marker='*',\n",
        "               label=f\"Testing nodes zd={90*u.deg-pointings_test[index[0]]['alt']:.2f}\",\n",
        "               s=100\n",
        "              )\n",
        "\n",
        "rticks = [10, 20, 30, 40, 50, 60]\n",
        "ax.set_rticks(np.deg2rad(rticks), [f'{r:d}°' for r in rticks])\n",
        "ax.text(np.radians(ax.get_rlabel_position()+10),2*ax.get_rmax()/3.,'Zenith',\n",
        "        rotation=ax.get_rlabel_position(),ha='center',va='center')\n",
        "\n",
        "\n",
        "ax.vlines(np.deg2rad(175.158), 0, 0.99*ax.get_rmax(),\n",
        "          ls='dotted', \n",
        "          color='grey', lw=1, zorder=0,\n",
        "          label='magnetic North-South'\n",
        "         )\n",
        "ax.vlines(np.deg2rad(175.158)+np.pi, 0, 0.99*ax.get_rmax(), ls='dotted', color='grey', lw=1, zorder=0)\n",
        "\n",
        "\n",
        "ax.legend(fontsize=8, loc='lower right', bbox_to_anchor=(1.1, 0.16))\n",
        "\n",
        "\n",
        "\n",
        "\n",
        "plt.tight_layout()\n",
        "plt.savefig(Path('.', 'pointings_per_alt.png'), dpi=250)\n",
        "plt.show()"
      ]
    },
    {
      "cell_type": "code",
      "execution_count": null,
      "id": "7ff428ae-f14e-4a0e-bea0-52666eef2773",
      "metadata": {},
      "outputs": [],
      "source": []
    },
    {
      "cell_type": "code",
      "execution_count": null,
      "id": "b260d20e-e5f9-4c25-97d7-bccbdd4dc0f7",
      "metadata": {},
      "outputs": [],
      "source": []
    }
  ],
  "metadata": {
    "language_info": {
      "codemirror_mode": {
        "name": "ipython",
        "version": 3
      },
      "file_extension": ".py",
      "mimetype": "text/x-python",
      "name": "python",
      "nbconvert_exporter": "python",
      "pygments_lexer": "ipython3",
      "version": "3.8.16"
    }
  },
  "nbformat": 4,
  "nbformat_minor": 5
}
