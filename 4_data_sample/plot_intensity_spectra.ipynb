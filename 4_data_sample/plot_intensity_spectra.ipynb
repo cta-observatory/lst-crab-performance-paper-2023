{
 "cells": [
  {
   "cell_type": "code",
   "execution_count": null,
   "id": "c1f5b0df",
   "metadata": {},
   "outputs": [],
   "source": [
    "import numpy as np\n",
    "import matplotlib.pyplot as plt\n",
    "\n",
    "%matplotlib inline"
   ]
  },
  {
   "cell_type": "code",
   "execution_count": null,
   "id": "9ad891d6",
   "metadata": {},
   "outputs": [],
   "source": [
    "plt.style.use('seaborn-paper')\n",
    "plt.style.use('seaborn-colorblind')\n",
    "cb_colors = plt.rcParams['axes.prop_cycle'].by_key()['color']"
   ]
  },
  {
   "cell_type": "code",
   "execution_count": null,
   "id": "8d04659e",
   "metadata": {},
   "outputs": [],
   "source": [
    "ratedata = np.loadtxt(\"Intensity_spectra.csv\", delimiter=',')\n",
    "triggerdata = np.loadtxt(\"trigger_threshold.csv\", delimiter=',')"
   ]
  },
  {
   "cell_type": "code",
   "execution_count": null,
   "id": "464e3329",
   "metadata": {},
   "outputs": [],
   "source": [
    "color_selected = cb_colors[0]\n",
    "color_rejected = 'grey'\n",
    "color_selected_gt6000 = cb_colors[2]\n",
    "\n",
    "fig = plt.figure(figsize=(18, 6))\n",
    "\n",
    "fig.add_subplot(1, 2, 1)\n",
    "\n",
    "x = ratedata[0][(ratedata[3]>0) & (ratedata[2]<=6000)]\n",
    "y = ratedata[1][(ratedata[3]>0) & (ratedata[2]<=6000)]\n",
    "plt.plot(x, y, color=color_selected, label='Until August 2021')\n",
    "\n",
    "x = ratedata[0][(ratedata[3]>0) & (ratedata[2]>6000)]\n",
    "y = ratedata[1][(ratedata[3]>0) & (ratedata[2]>6000)]\n",
    "plt.plot(x, y, color=color_selected_gt6000, label='Until August 2021')\n",
    "\n",
    "x = ratedata[0][ratedata[3]==0]\n",
    "y = ratedata[1][ratedata[3]==0]\n",
    "plt.plot(x, y, ':', color=color_rejected, label='Non-selected runs')\n",
    "\n",
    "plt.xlim(1.3, 3.3)\n",
    "plt.ylim(0, 80)\n",
    "plt.legend(fontsize=14)\n",
    "plt.xticks(fontsize=14)\n",
    "plt.yticks(fontsize=14)\n",
    "\n",
    "plt.xlabel('log10(intensity/p.e.)', fontsize=14)\n",
    "plt.ylabel('cosmics effective rate per bin (events / s)', fontsize=14)\n",
    "\n",
    "\n",
    "fig.add_subplot(1, 2, 2)\n",
    "\n",
    "mask = (triggerdata[2]<=6000) & (triggerdata[3]<20)\n",
    "plt.scatter(triggerdata[0][mask], triggerdata[1][mask], \n",
    "            color=cb_colors[0],\n",
    "            label='Zenith < 20 deg, until August 2021')\n",
    "\n",
    "mask = (triggerdata[2]>6000) & (triggerdata[3]<20)\n",
    "plt.scatter(triggerdata[0][mask], triggerdata[1][mask], \n",
    "            color=cb_colors[2],\n",
    "            label='Zenith < 20 deg, after August 2021')\n",
    "\n",
    "\n",
    "mask = (triggerdata[2]<=6000) & (triggerdata[3]>=20)\n",
    "plt.scatter(triggerdata[0][mask], triggerdata[1][mask], \n",
    "            facecolors='none', edgecolors=cb_colors[0], linewidths=1,\n",
    "            label='Zenith $\\\\geq$ 20 deg, until August 2021')\n",
    "\n",
    "mask = (triggerdata[2]>6000) & (triggerdata[3]>=20)\n",
    "plt.scatter(triggerdata[0][mask], triggerdata[1][mask], \n",
    "            facecolors='none', edgecolors=cb_colors[2], linewidths=1,\n",
    "            label='Zenith $\\\\geq$ 20 deg, after August 2021')\n",
    "\n",
    "plt.xlabel('L1 DT mean', fontsize=14)\n",
    "plt.ylabel('Intensity (p.e.) @ 50% of peak rate', fontsize=14)\n",
    "plt.xticks(fontsize=14)\n",
    "plt.yticks(fontsize=14)\n",
    "plt.legend(fontsize=14)\n",
    "\n",
    "plt.show()\n",
    "\n"
   ]
  },
  {
   "cell_type": "code",
   "execution_count": null,
   "id": "b688598d",
   "metadata": {},
   "outputs": [],
   "source": []
  }
 ],
 "metadata": {
  "kernelspec": {
   "display_name": "Python 3 (ipykernel)",
   "language": "python",
   "name": "python3"
  },
  "language_info": {
   "codemirror_mode": {
    "name": "ipython",
    "version": 3
   },
   "file_extension": ".py",
   "mimetype": "text/x-python",
   "name": "python",
   "nbconvert_exporter": "python",
   "pygments_lexer": "ipython3",
   "version": "3.8.15"
  }
 },
 "nbformat": 4,
 "nbformat_minor": 5
}
