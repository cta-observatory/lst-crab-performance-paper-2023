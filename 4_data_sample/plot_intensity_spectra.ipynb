{
  "cells": [
    {
      "cell_type": "code",
      "execution_count": null,
      "id": "c1f5b0df",
      "metadata": {
        "execution": {
          "iopub.execute_input": "2023-04-24T16:10:12.289780Z",
          "iopub.status.busy": "2023-04-24T16:10:12.289161Z",
          "iopub.status.idle": "2023-04-24T16:10:12.899925Z",
          "shell.execute_reply": "2023-04-24T16:10:12.899018Z"
        }
      },
      "outputs": [],
      "source": [
        "import numpy as np\n",
        "import matplotlib.pyplot as plt\n",
        "\n",
        "%matplotlib inline"
      ]
    },
    {
      "cell_type": "code",
      "execution_count": null,
      "id": "9ad891d6",
      "metadata": {
        "execution": {
          "iopub.execute_input": "2023-04-24T16:10:12.903434Z",
          "iopub.status.busy": "2023-04-24T16:10:12.902968Z",
          "iopub.status.idle": "2023-04-24T16:10:12.907362Z",
          "shell.execute_reply": "2023-04-24T16:10:12.906719Z"
        }
      },
      "outputs": [],
      "source": [
        "plt.style.use('seaborn-paper')\n",
        "plt.style.use('seaborn-colorblind')\n",
        "cb_colors = plt.rcParams['axes.prop_cycle'].by_key()['color']"
      ]
    },
    {
      "cell_type": "code",
      "execution_count": null,
      "id": "8d04659e",
      "metadata": {
        "execution": {
          "iopub.execute_input": "2023-04-24T16:10:12.910133Z",
          "iopub.status.busy": "2023-04-24T16:10:12.909674Z",
          "iopub.status.idle": "2023-04-24T16:10:13.043556Z",
          "shell.execute_reply": "2023-04-24T16:10:13.042674Z"
        }
      },
      "outputs": [],
      "source": [
        "ratedata = np.loadtxt(\"Intensity_spectra.csv\", delimiter=',')\n",
        "triggerdata = np.loadtxt(\"trigger_threshold.csv\", delimiter=',')"
      ]
    },
    {
      "cell_type": "code",
      "execution_count": null,
      "id": "464e3329",
      "metadata": {
        "execution": {
          "iopub.execute_input": "2023-04-24T16:10:13.046810Z",
          "iopub.status.busy": "2023-04-24T16:10:13.046479Z",
          "iopub.status.idle": "2023-04-24T16:10:13.611856Z",
          "shell.execute_reply": "2023-04-24T16:10:13.611045Z"
        }
      },
      "outputs": [],
      "source": [
        "color_selected = cb_colors[0]\n",
        "color_rejected = 'grey'\n",
        "color_selected_gt6000 = cb_colors[2]\n",
        "\n",
        "fig = plt.figure(figsize=(18, 6))\n",
        "\n",
        "fig.add_subplot(1, 2, 1)\n",
        "\n",
        "x = ratedata[0][(ratedata[3]>0) & (ratedata[2]<=6000)]\n",
        "y = ratedata[1][(ratedata[3]>0) & (ratedata[2]<=6000)]\n",
        "plt.plot(x, y, color=color_selected, label='Until August 2021')\n",
        "\n",
        "x = ratedata[0][(ratedata[3]>0) & (ratedata[2]>6000)]\n",
        "y = ratedata[1][(ratedata[3]>0) & (ratedata[2]>6000)]\n",
        "plt.plot(x, y, color=color_selected_gt6000, label='Until August 2021')\n",
        "\n",
        "x = ratedata[0][ratedata[3]==0]\n",
        "y = ratedata[1][ratedata[3]==0]\n",
        "plt.plot(x, y, ':', color=color_rejected, label='Non-selected runs')\n",
        "\n",
        "plt.xlim(1.3, 3.3)\n",
        "plt.ylim(0, 80)\n",
        "plt.legend(fontsize=14)\n",
        "plt.xticks(fontsize=14)\n",
        "plt.yticks(fontsize=14)\n",
        "\n",
        "plt.xlabel('log10(intensity/p.e.)', fontsize=14)\n",
        "plt.ylabel('cosmics effective rate per bin (events / s)', fontsize=14)\n",
        "\n",
        "\n",
        "fig.add_subplot(1, 2, 2)\n",
        "\n",
        "mask = (triggerdata[2]<=6000) & (triggerdata[3]<20)\n",
        "plt.scatter(triggerdata[0][mask], triggerdata[1][mask], \n",
        "            color=cb_colors[0],\n",
        "            label='Zenith < 20 deg, until August 2021')\n",
        "\n",
        "mask = (triggerdata[2]>6000) & (triggerdata[3]<20)\n",
        "plt.scatter(triggerdata[0][mask], triggerdata[1][mask], \n",
        "            color=cb_colors[2],\n",
        "            label='Zenith < 20 deg, after August 2021')\n",
        "\n",
        "\n",
        "mask = (triggerdata[2]<=6000) & (triggerdata[3]>=20)\n",
        "plt.scatter(triggerdata[0][mask], triggerdata[1][mask], \n",
        "            facecolors='none', edgecolors=cb_colors[0], linewidths=1,\n",
        "            label='Zenith $\\\\geq$ 20 deg, until August 2021')\n",
        "\n",
        "mask = (triggerdata[2]>6000) & (triggerdata[3]>=20)\n",
        "plt.scatter(triggerdata[0][mask], triggerdata[1][mask], \n",
        "            facecolors='none', edgecolors=cb_colors[2], linewidths=1,\n",
        "            label='Zenith $\\\\geq$ 20 deg, after August 2021')\n",
        "\n",
        "plt.xlabel('L1 DT mean', fontsize=14)\n",
        "plt.ylabel('Intensity (p.e.) @ 50% of peak rate', fontsize=14)\n",
        "plt.xticks(fontsize=14)\n",
        "plt.yticks(fontsize=14)\n",
        "plt.legend(fontsize=14)\n",
        "\n",
        "plt.show()\n",
        "\n"
      ]
    },
    {
      "cell_type": "code",
      "execution_count": null,
      "id": "b688598d",
      "metadata": {},
      "outputs": [],
      "source": []
    }
  ],
  "metadata": {
    "language_info": {
      "codemirror_mode": {
        "name": "ipython",
        "version": 3
      },
      "file_extension": ".py",
      "mimetype": "text/x-python",
      "name": "python",
      "nbconvert_exporter": "python",
      "pygments_lexer": "ipython3",
      "version": "3.8.16"
    }
  },
  "nbformat": 4,
  "nbformat_minor": 5
}
