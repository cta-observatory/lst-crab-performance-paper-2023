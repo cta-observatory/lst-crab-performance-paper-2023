{
 "cells": [
  {
   "cell_type": "code",
   "execution_count": null,
   "id": "c1f5b0df",
   "metadata": {
    "execution": {
     "iopub.execute_input": "2023-04-24T16:14:20.460638Z",
     "iopub.status.busy": "2023-04-24T16:14:20.460091Z",
     "iopub.status.idle": "2023-04-24T16:14:21.109057Z",
     "shell.execute_reply": "2023-04-24T16:14:21.107961Z"
    }
   },
   "outputs": [],
   "source": [
    "import numpy as np\n",
    "import matplotlib.pyplot as plt\n",
    "\n",
    "%matplotlib inline"
   ]
  },
  {
   "cell_type": "code",
   "execution_count": null,
   "id": "9ad891d6",
   "metadata": {
    "execution": {
     "iopub.execute_input": "2023-04-24T16:14:21.113542Z",
     "iopub.status.busy": "2023-04-24T16:14:21.112913Z",
     "iopub.status.idle": "2023-04-24T16:14:21.116991Z",
     "shell.execute_reply": "2023-04-24T16:14:21.116319Z"
    }
   },
   "outputs": [],
   "source": [
    "plt.style.use('seaborn-paper')\n",
    "plt.style.use('seaborn-colorblind')\n",
    "cb_colors = plt.rcParams['axes.prop_cycle'].by_key()['color']"
   ]
  },
  {
   "cell_type": "code",
   "execution_count": null,
   "id": "4b6dbd72",
   "metadata": {
    "execution": {
     "iopub.execute_input": "2023-04-24T16:14:21.119508Z",
     "iopub.status.busy": "2023-04-24T16:14:21.119246Z",
     "iopub.status.idle": "2023-04-24T16:14:21.122178Z",
     "shell.execute_reply": "2023-04-24T16:14:21.121698Z"
    }
   },
   "outputs": [],
   "source": [
    "def rebin(x): # (for even number of bins only)\n",
    "    return 0.5*(x[::2] + x[1:][::2])  # average!"
   ]
  },
  {
   "cell_type": "code",
   "execution_count": null,
   "id": "8d04659e",
   "metadata": {
    "execution": {
     "iopub.execute_input": "2023-04-24T16:14:21.124532Z",
     "iopub.status.busy": "2023-04-24T16:14:21.124293Z",
     "iopub.status.idle": "2023-04-24T16:14:21.129411Z",
     "shell.execute_reply": "2023-04-24T16:14:21.128864Z"
    }
   },
   "outputs": [],
   "source": [
    "ratedata = np.loadtxt(\"Etrue_analysis_stages.csv\", delimiter=',')\n",
    "# Total rates cannot be obtained from binned data because they only reach 1 TeV. We hard-code them here:\n",
    "total_rates = [4.35, 3.21, 2.81, 2.37, 1.89, 1.40, 1.09]\n",
    "stagename = ['Triggered,\\t\\t\\t', 'Cleaned,\\t\\t\\t', 'intensity > 50 p.e.,\\t    ', 'miss < $0.3^\\\\circ$,\\t\\t     ',\n",
    "             'Correct disp_sign,\\t    ', '$\\\\theta$ < 0.3$^\\\\circ$,\\t\\t\\t      ', 'gammaness > 0.5,\\t']"
   ]
  },
  {
   "cell_type": "code",
   "execution_count": null,
   "id": "464e3329",
   "metadata": {
    "execution": {
     "iopub.execute_input": "2023-04-24T16:14:21.131805Z",
     "iopub.status.busy": "2023-04-24T16:14:21.131581Z",
     "iopub.status.idle": "2023-04-24T16:14:21.976676Z",
     "shell.execute_reply": "2023-04-24T16:14:21.975698Z"
    }
   },
   "outputs": [],
   "source": [
    "fig = plt.figure(figsize=(18, 6))\n",
    "\n",
    "\n",
    "fig.add_subplot(1, 2, 1)\n",
    "for istage in range(7):\n",
    "\n",
    "    x = ratedata[0] # bin centers\n",
    "    y = ratedata[istage+1]\n",
    "    trig_rate = total_rates[istage]\n",
    "\n",
    "    # first point going to 0:\n",
    "    x = np.insert(x, 0, x[0]*x[0]/x[1])\n",
    "    y = np.insert(y, 0, 0)\n",
    "\n",
    "    plt.step(x, y, where='mid', label=f'{stagename[istage]}{trig_rate:.2f} s$^-$$^1$')\n",
    "\n",
    "plt.legend(fontsize=16)\n",
    "plt.xlabel(\"$E_{True}$ (TeV)\", fontsize=16)\n",
    "plt.ylabel(\"Gamma rate (/s /TeV)\", fontsize=16)\n",
    "plt.xlim(0., 0.3)\n",
    "plt.ylim(0, 58)\n",
    "plt.xticks(fontsize=16)\n",
    "plt.yticks(fontsize=16)\n",
    "\n",
    "\n",
    "fig.add_subplot(1, 2, 2)\n",
    "for istage in range(7):\n",
    "\n",
    "    x = ratedata[0][1:][::2]\n",
    "    y = ratedata[istage+1]\n",
    "    plt.plot(x, rebin(y / ratedata[1]))\n",
    "\n",
    "plt.xlabel(\"$E_{True}$ (TeV)\", fontsize=16)\n",
    "plt.ylabel(\"surviving / triggered\", fontsize=16)\n",
    "plt.grid(alpha=0.4)\n",
    "plt.xlim(0.008, 1.)\n",
    "plt.ylim(0., 1.1)\n",
    "plt.xticks(fontsize=16)\n",
    "plt.yticks(fontsize=16)\n",
    "plt.xscale('log')\n",
    "\n",
    "plt.savefig(\"energy_threshold.pdf\", bbox_inches='tight')\n",
    "plt.show()"
   ]
  },
  {
   "cell_type": "code",
   "execution_count": null,
   "id": "9e115e6f",
   "metadata": {},
   "outputs": [],
   "source": []
  }
 ],
 "metadata": {
  "kernelspec": {
   "display_name": "Python 3 (ipykernel)",
   "language": "python",
   "name": "python3"
  },
  "language_info": {
   "codemirror_mode": {
    "name": "ipython",
    "version": 3
   },
   "file_extension": ".py",
   "mimetype": "text/x-python",
   "name": "python",
   "nbconvert_exporter": "python",
   "pygments_lexer": "ipython3",
   "version": "3.8.16"
  }
 },
 "nbformat": 4,
 "nbformat_minor": 5
}
