{
 "cells": [
  {
   "cell_type": "raw",
   "id": "e7c84339-4e1a-43af-acc9-c89d0b25c28e",
   "metadata": {},
   "source": [
    "---\n",
    "title: \"RFs for AllSky MC\"\n",
    "author: \"Thomas Vuillaume\"\n",
    "date: \"12/06/2022\"\n",
    "format: \n",
    "  html:\n",
    "    code-fold: true\n",
    "---"
   ]
  },
  {
   "cell_type": "code",
   "execution_count": null,
   "id": "f9dec469-4b19-4413-ac5f-044d7b14e1f5",
   "metadata": {
    "tags": []
   },
   "outputs": [],
   "source": [
    "from pathlib import Path\n",
    "import joblib\n",
    "import pandas as pd\n",
    "import numpy as np\n",
    "from copy import deepcopy\n",
    "import matplotlib.pyplot as plt\n",
    "\n",
    "from lstchain.visualization import plot_dl2\n",
    "from lstchain.io.config import read_configuration_file"
   ]
  },
  {
   "cell_type": "code",
   "execution_count": null,
   "id": "a1c63f0c-bacf-4d9e-9e8b-19c0d100a6aa",
   "metadata": {
    "tags": []
   },
   "outputs": [],
   "source": [
    "# plt.style.use('seaborn-paper')\n",
    "import ctaplot\n",
    "ctaplot.set_style('paper')"
   ]
  },
  {
   "cell_type": "markdown",
   "id": "81665263-e90c-4967-84a1-7e3f0045218e",
   "metadata": {},
   "source": [
    "# 1. Produce data table\n",
    "\n",
    "This section is runnable only by LST members on the cluster at La Palma.    \n",
    "To reproduce the features importance plot, skip to section 2."
   ]
  },
  {
   "cell_type": "markdown",
   "id": "08e91ea4-2914-4302-a1a2-cb48dc104439",
   "metadata": {},
   "source": [
    "## Source indep data"
   ]
  },
  {
   "cell_type": "code",
   "execution_count": null,
   "id": "ec08b37c-6abe-493e-b811-cad196b3958d",
   "metadata": {},
   "outputs": [],
   "source": [
    "rf_models = Path('/fefs/aswg/data/models/AllSky/20221027_v0.9.9_crab_tuned/dec_2276/')\n",
    "list(Path(rf_models).iterdir())"
   ]
  },
  {
   "cell_type": "markdown",
   "id": "a150f9ab-9e6e-4f8b-8f20-e15cc35e0223",
   "metadata": {},
   "source": [
    "### re-imlpement some functions to ease loading"
   ]
  },
  {
   "cell_type": "code",
   "execution_count": null,
   "id": "e595882f-9713-4ce7-9ab2-50e38e24574a",
   "metadata": {},
   "outputs": [],
   "source": [
    "models = {'energy':{},\n",
    "          'disp_norm': {},\n",
    "          'disp_sign': {},\n",
    "          'class': {}\n",
    "         }\n",
    "\n",
    "config_file = list(rf_models.glob('*.json'))[0]\n",
    "config = read_configuration_file(config_file)\n",
    "models['energy']['features'] = config['energy_regression_features']\n",
    "models['disp_norm']['features'] = config['disp_regression_features']\n",
    "models['disp_sign']['features'] = config['disp_classification_features']\n",
    "models['class']['features'] = config['particle_classification_features']"
   ]
  },
  {
   "cell_type": "code",
   "execution_count": null,
   "id": "44ded54d-7c37-4680-9c5b-eeddeb809d12",
   "metadata": {},
   "outputs": [],
   "source": [
    "def features_names(models):\n",
    "    return set(models['energy']['features'] + models['disp_norm']['features'] + models['disp_sign']['features'] + models['class']['features'])"
   ]
  },
  {
   "cell_type": "code",
   "execution_count": null,
   "id": "fec20dba-1bc1-46e6-ad92-5c704cfba309",
   "metadata": {},
   "outputs": [],
   "source": [
    "def load_models(indir):\n",
    "    indir = Path(indir)\n",
    "    print(indir)\n",
    "    print(f\"disp: {indir.joinpath('reg_disp_norm.sav')}\")\n",
    "    disp_norm = joblib.load(indir.joinpath(\"reg_disp_norm.sav\"))\n",
    "    disp_sign = joblib.load(indir.joinpath(\"cls_disp_sign.sav\"))\n",
    "    print(\"class\")\n",
    "    clf = joblib.load(indir.joinpath(\"cls_gh.sav\"))\n",
    "    print(\"energy\")\n",
    "    energy = joblib.load(indir.joinpath(\"reg_energy.sav\"))\n",
    "    \n",
    "    return energy, disp_norm, disp_sign, clf\n",
    "    "
   ]
  },
  {
   "cell_type": "code",
   "execution_count": null,
   "id": "041a0fbd-d44a-4617-80a2-6682c61f97d7",
   "metadata": {},
   "outputs": [],
   "source": [
    "energy, disp_norm, disp_sign, clf = load_models(rf_models)"
   ]
  },
  {
   "cell_type": "code",
   "execution_count": null,
   "id": "26990a15-fb72-43c7-9b42-eb14ee7f76bb",
   "metadata": {},
   "outputs": [],
   "source": [
    "models['energy']['model'] = energy\n",
    "models['disp_norm']['model'] = disp_norm\n",
    "models['disp_sign']['model'] = disp_sign\n",
    "models['class']['model'] = clf\n"
   ]
  },
  {
   "cell_type": "code",
   "execution_count": null,
   "id": "87a3761e-1191-4ac8-b5bc-13cbc1b67632",
   "metadata": {},
   "outputs": [],
   "source": []
  },
  {
   "cell_type": "code",
   "execution_count": null,
   "id": "50ba7431-5436-44a4-ba41-3140b1dbbf2a",
   "metadata": {},
   "outputs": [],
   "source": [
    "est = [tree.feature_importances_ for tree in models['energy']['model'].estimators_]\n",
    "est = np.array(est)\n",
    "data = pd.DataFrame(np.concatenate([np.transpose([[name for i  in range(150)], est[:,idx]]) for idx, name in enumerate(models['energy']['features'])]),\n",
    "            columns=['feature', 'est'],\n",
    "            )\n",
    "                \n",
    "    \n",
    "data['est'] = data['est'].astype(float)"
   ]
  },
  {
   "cell_type": "code",
   "execution_count": null,
   "id": "ca705fe3-10e2-4fce-be20-0e0ce17cd840",
   "metadata": {},
   "outputs": [],
   "source": [
    "def extract_importances(model, feature_names):\n",
    "    importances = model.feature_importances_\n",
    "    std = np.std([tree.feature_importances_ for tree in model.estimators_], axis=0)\n",
    "    df = pd.DataFrame(np.transpose([feature_names, importances, std]), \n",
    "                      columns=['feature', 'importance', 'xerr'],\n",
    "                     )\n",
    "    df['importance'] = df['importance'].astype(float)\n",
    "    df['xerr'] = df['xerr'].astype(float)\n",
    "    return df"
   ]
  },
  {
   "cell_type": "code",
   "execution_count": null,
   "id": "739f1a1e-b0b0-41d0-81fc-a2e7a5e976d0",
   "metadata": {},
   "outputs": [],
   "source": [
    "model_names = list(models.keys())\n",
    "for name in model_names:\n",
    "    print(name)\n",
    "    d = models[name]\n",
    "    d['importance'] =  extract_importances(models[name]['model'], models[name]['features'])\n",
    "    d['importance'] = d['importance'].rename(columns={'importance': f'importance_{name}',\n",
    "                            'xerr': f'xerr_{name}',\n",
    "                           })"
   ]
  },
  {
   "cell_type": "code",
   "execution_count": null,
   "id": "9c8788d1-a330-4abc-9041-61c0080693e6",
   "metadata": {},
   "outputs": [],
   "source": [
    "models['energy']['importance']"
   ]
  },
  {
   "cell_type": "code",
   "execution_count": null,
   "id": "91f6defe-9ad5-4843-8c7e-46882a5fb129",
   "metadata": {},
   "outputs": [],
   "source": [
    "importances_df = deepcopy(models[model_names[0]]['importance'])\n",
    "for name in model_names[1:]:\n",
    "    importances_df = pd.merge(importances_df, models[name]['importance'],\n",
    "                               on='feature',\n",
    "                               how='outer',\n",
    "                             )"
   ]
  },
  {
   "cell_type": "code",
   "execution_count": null,
   "id": "e562d7dc-cc0d-443f-856d-ff089c0c8fab",
   "metadata": {},
   "outputs": [],
   "source": [
    "sorted_imp = importances_df.sort_values(by='importance_class')\n",
    "for name in model_names:\n",
    "    print(name)\n",
    "    sorted_imp[f'importance_{name}'] *= np.isfinite(sorted_imp[f'importance_{name}']).sum()/len(importances_df)\n",
    "    sorted_imp[f'xerr_{name}'] *= np.isfinite(sorted_imp[f'importance_{name}']).sum()/len(importances_df)\n",
    "    \n",
    "    print(sorted_imp[f'importance_{name}'].sum())\n",
    "    \n",
    "    "
   ]
  },
  {
   "cell_type": "code",
   "execution_count": null,
   "id": "0694df5e-b40e-4ce2-9df7-ce8f197ed105",
   "metadata": {},
   "outputs": [],
   "source": [
    "sorted_imp"
   ]
  },
  {
   "cell_type": "code",
   "execution_count": null,
   "id": "52b5b7e6-fdc7-4ad0-9550-4364fe3e5774",
   "metadata": {},
   "outputs": [],
   "source": [
    "sorted_imp.to_csv('source_indep_models_features_importances.csv')"
   ]
  },
  {
   "cell_type": "markdown",
   "id": "7dbbc66c-d524-4c38-b4bc-2e1a0cb2eaf4",
   "metadata": {
    "tags": []
   },
   "source": [
    "## Source-dep"
   ]
  },
  {
   "cell_type": "code",
   "execution_count": null,
   "id": "7e572e11-dc57-408a-b72d-7854975594b3",
   "metadata": {},
   "outputs": [],
   "source": [
    "# indir_src_dep=Path('/fefs/aswg/workspace/seiya.nozaki/Crab_performance_paper/20221027_v0.9.9_crab_tuned/std/RF/trained_models/')\n",
    "\n",
    "indir_src_dep=Path('/fefs/aswg/workspace/seiya.nozaki/Crab_performance_paper/20221027_v0.9.9_crab_tuned/combined_off_axis_1deg/RF/trained_models/')\n",
    "list(indir_src_dep.iterdir())"
   ]
  },
  {
   "cell_type": "code",
   "execution_count": null,
   "id": "2c80f6b5-a845-4925-a2e5-87d0a62dd21c",
   "metadata": {},
   "outputs": [],
   "source": [
    "srcdep = {'energy':{},\n",
    "          'disp_norm': {},\n",
    "          'disp_sign': {},\n",
    "          'class': {}\n",
    "         }\n",
    "\n",
    "# config_file = '/fefs/aswg/workspace/seiya.nozaki/Crab_performance_paper/20220518_allsky_dec2276_tuned/zd_all_with_pointing_info/RF/lstchain_src_dep_config.json'\n",
    "config_file = indir_src_dep.joinpath('../lstchain_src_dep_config.json')\n",
    "config = read_configuration_file(config_file)\n",
    "srcdep['energy']['features'] = config['energy_regression_features']\n",
    "srcdep['disp_norm']['features'] = config['disp_regression_features']\n",
    "srcdep['disp_sign']['features'] = config['disp_classification_features']\n",
    "srcdep['class']['features'] = config['particle_classification_features']"
   ]
  },
  {
   "cell_type": "code",
   "execution_count": null,
   "id": "7eb6da29-ba48-44f5-a9f4-30abc933f8ab",
   "metadata": {},
   "outputs": [],
   "source": [
    "features_names = set(srcdep['energy']['features'] + srcdep['class']['features'])\n",
    "features_names"
   ]
  },
  {
   "cell_type": "code",
   "execution_count": null,
   "id": "87967a5c-b578-46c0-8d0a-fb1065834d59",
   "metadata": {},
   "outputs": [],
   "source": [
    "energy_srcdep, disp_norm_srcdep, disp_sign_srcdep, class_srcdep = load_models(indir_src_dep)"
   ]
  },
  {
   "cell_type": "code",
   "execution_count": null,
   "id": "b1d1d1cb-48de-40a3-aa72-12f7c564ec16",
   "metadata": {},
   "outputs": [],
   "source": [
    "srcdep['energy']['model'] = energy_srcdep\n",
    "srcdep['disp_norm']['model'] = disp_norm_srcdep\n",
    "srcdep['disp_sign']['model'] = disp_sign_srcdep\n",
    "srcdep['class']['model'] = class_srcdep\n"
   ]
  },
  {
   "cell_type": "code",
   "execution_count": null,
   "id": "5acaecca-9eee-4635-b9fb-a346b55dfbc0",
   "metadata": {},
   "outputs": [],
   "source": [
    "model_names = ['energy', 'class']\n",
    "for name in model_names:\n",
    "    print(name)\n",
    "    d = srcdep[name]\n",
    "    d['importance'] =  extract_importances(d['model'], d['features'])\n",
    "    d['importance'] = d['importance'].rename(columns={'importance': f'importance_{name}',\n",
    "                            'xerr': f'xerr_{name}',\n",
    "                           })"
   ]
  },
  {
   "cell_type": "code",
   "execution_count": null,
   "id": "9bdabd5d-d4e5-45f8-b950-8917b1d09718",
   "metadata": {},
   "outputs": [],
   "source": [
    "importances_srcdep_df = deepcopy(srcdep[model_names[0]]['importance'])\n",
    "for name in model_names[1:]:\n",
    "    importances_srcdep_df = pd.merge(importances_srcdep_df, srcdep[name]['importance'],\n",
    "                               on='feature',\n",
    "                               how='outer',\n",
    "                             )"
   ]
  },
  {
   "cell_type": "code",
   "execution_count": null,
   "id": "cf98b75b-6846-43d5-a684-2753ecd6804e",
   "metadata": {},
   "outputs": [],
   "source": [
    "sorted_srcdep_imp = importances_srcdep_df.sort_values(by='importance_class')\n",
    "\n",
    "for name in model_names:\n",
    "    print(name)\n",
    "    sorted_srcdep_imp[f'importance_{name}'] = sorted_srcdep_imp[f'importance_{name}']*np.isfinite(sorted_srcdep_imp[f'importance_{name}']).sum()/len(importances_srcdep_df)\n",
    "    print(sorted_srcdep_imp[f'importance_{name}'].sum())"
   ]
  },
  {
   "cell_type": "code",
   "execution_count": null,
   "id": "ee8bdfe5-ba44-489e-a33c-b7a8cfb68f22",
   "metadata": {},
   "outputs": [],
   "source": [
    "sorted_srcdep_imp.to_csv('source_dep_models_features_importances.csv')"
   ]
  },
  {
   "cell_type": "code",
   "execution_count": null,
   "id": "7a260148-c090-4a2d-b574-11691683de98",
   "metadata": {},
   "outputs": [],
   "source": []
  },
  {
   "cell_type": "markdown",
   "id": "ca22ec8b-da08-4d24-8d81-ef4acb962855",
   "metadata": {
    "tags": []
   },
   "source": [
    "# 2. Plots"
   ]
  },
  {
   "cell_type": "code",
   "execution_count": null,
   "id": "540ce3cb-44be-4308-883c-dee7782980ec",
   "metadata": {
    "tags": []
   },
   "outputs": [],
   "source": [
    "def plot_features_importance(importance_df, model_names, ax=None, **kwargs):\n",
    "\n",
    "    ax = plt.gca() if ax is None else ax\n",
    "    x = np.arange(len(importance_df))\n",
    "\n",
    "    kwargs.setdefault('error_kw', dict(lw=0.5))\n",
    "    for i, name in enumerate(model_names):\n",
    "        ax.barh(x+i*0.2,\n",
    "                importance_df[f'importance_{name}'].values,\n",
    "                0.18,\n",
    "                left=0.02,\n",
    "                label=name,\n",
    "                xerr=importance_df[f'xerr_{name}'],\n",
    "                **kwargs, \n",
    "               )\n",
    "    ax.legend()\n",
    "    ax.set_yticks(x+0.32)\n",
    "    ax.set_yticklabels(importance_df['feature']);\n",
    "\n",
    "    return ax"
   ]
  },
  {
   "cell_type": "code",
   "execution_count": null,
   "id": "0dcaef09-b096-4aa0-bfa5-93c8842c02a7",
   "metadata": {
    "tags": []
   },
   "outputs": [],
   "source": [
    "sorted_imp = pd.read_csv('source_indep_models_features_importances.csv')\n",
    "# model_names = ['energy', 'disp_norm', 'disp_sign', 'class']\n",
    "model_names = ['class', 'energy', 'disp_norm', 'disp_sign']"
   ]
  },
  {
   "cell_type": "code",
   "execution_count": null,
   "id": "e6d49685-784d-43e5-ace7-67cc8d72cae6",
   "metadata": {},
   "outputs": [],
   "source": []
  },
  {
   "cell_type": "code",
   "execution_count": null,
   "id": "8298809d-7e9a-40cf-954d-b9ac4483791d",
   "metadata": {
    "tags": []
   },
   "outputs": [],
   "source": [
    "sorted_imp"
   ]
  },
  {
   "cell_type": "code",
   "execution_count": null,
   "id": "885323f6-9504-4066-856d-80015ecbd798",
   "metadata": {
    "tags": []
   },
   "outputs": [],
   "source": [
    "tg_idx = sorted_imp[sorted_imp['feature'] == 'time_gradient'].index\n",
    "stg_idx = sorted_imp[sorted_imp['feature'] == 'signed_time_gradient'].index\n",
    "\n",
    "cols = ('importance_class', 'xerr_class')\n",
    "sorted_imp.loc[tg_idx, cols] = sorted_imp.loc[stg_idx, cols].values"
   ]
  },
  {
   "cell_type": "code",
   "execution_count": null,
   "id": "b9e9eb5e-9de8-48c6-b5f3-c0e973971af3",
   "metadata": {
    "tags": []
   },
   "outputs": [],
   "source": [
    "sk_idx = sorted_imp[sorted_imp['feature'] == 'skewness'].index\n",
    "ssk_idx = sorted_imp[sorted_imp['feature'] == 'signed_skewness'].index\n",
    "\n",
    "cols = ('importance_class', 'xerr_class')\n",
    "sorted_imp.loc[sk_idx, cols] = sorted_imp.loc[ssk_idx, cols].values"
   ]
  },
  {
   "cell_type": "code",
   "execution_count": null,
   "id": "bade70c9-5c72-4015-9a9a-74f3cf77eb66",
   "metadata": {
    "tags": []
   },
   "outputs": [],
   "source": [
    "sorted_imp = sorted_imp.drop(index=stg_idx)\n",
    "sorted_imp = sorted_imp.drop(index=ssk_idx).sort_values(by='importance_class')\n",
    "sorted_imp"
   ]
  },
  {
   "cell_type": "code",
   "execution_count": null,
   "id": "fae47991-cf21-48bd-b219-d9981d630613",
   "metadata": {
    "tags": []
   },
   "outputs": [],
   "source": [
    "plot_features_importance(sorted_imp, model_names)\n",
    "plt.tight_layout()\n",
    "plt.legend(loc='lower right')\n",
    "plt.savefig('models_feature_importance_src_indep.png', dpi=250)\n",
    "plt.show()"
   ]
  },
  {
   "cell_type": "code",
   "execution_count": null,
   "id": "41879c85-d18b-4aef-8678-50af316183b6",
   "metadata": {},
   "outputs": [],
   "source": []
  },
  {
   "cell_type": "markdown",
   "id": "c0e61fa3-caf6-46d2-8fc9-366c54d23d5d",
   "metadata": {},
   "source": [
    "### Source-dep plots"
   ]
  },
  {
   "cell_type": "code",
   "execution_count": null,
   "id": "78d57c0e-f2b7-4b4e-96cb-7245469481bb",
   "metadata": {
    "tags": []
   },
   "outputs": [],
   "source": [
    "sorted_srcdep_imp = pd.read_csv('source_dep_models_features_importances.csv')\n",
    "model_names = ['class', 'energy']"
   ]
  },
  {
   "cell_type": "code",
   "execution_count": null,
   "id": "14afcc5e-0c95-4c54-94a0-885540610b10",
   "metadata": {
    "tags": []
   },
   "outputs": [],
   "source": [
    "# getting the color cycle to apply the same color to class as in source-indep plot\n",
    "prop_cycle = plt.rcParams['axes.prop_cycle']\n",
    "colors = prop_cycle.by_key()['color']\n",
    "colors"
   ]
  },
  {
   "cell_type": "code",
   "execution_count": null,
   "id": "71e301f3-a4df-4a25-a39d-821f05e8d0e9",
   "metadata": {
    "tags": []
   },
   "outputs": [],
   "source": [
    "colors_srcdep = [colors[0], colors[3]]"
   ]
  },
  {
   "cell_type": "code",
   "execution_count": null,
   "id": "c85c5480-6683-439d-90ec-3eeac40af3dd",
   "metadata": {
    "tags": []
   },
   "outputs": [],
   "source": [
    "plot_features_importance(sorted_srcdep_imp, model_names)\n",
    "plt.tight_layout()\n",
    "plt.savefig('models_feature_importance_srcdep.png', dpi=250)\n",
    "plt.show()"
   ]
  },
  {
   "cell_type": "code",
   "execution_count": null,
   "id": "0dee75b1-ca31-44fc-9da4-76a5e3d37ad5",
   "metadata": {},
   "outputs": [],
   "source": []
  },
  {
   "cell_type": "code",
   "execution_count": null,
   "id": "b3626541-9f23-444e-81c1-3472b7d08282",
   "metadata": {},
   "outputs": [],
   "source": []
  }
 ],
 "metadata": {
  "kernelspec": {
   "display_name": "crablst1",
   "language": "python",
   "name": "crablst1"
  },
  "language_info": {
   "codemirror_mode": {
    "name": "ipython",
    "version": 3
   },
   "file_extension": ".py",
   "mimetype": "text/x-python",
   "name": "python",
   "nbconvert_exporter": "python",
   "pygments_lexer": "ipython3",
   "version": "3.7.12"
  }
 },
 "nbformat": 4,
 "nbformat_minor": 5
}
