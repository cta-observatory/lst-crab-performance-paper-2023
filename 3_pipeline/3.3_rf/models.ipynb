{
  "cells": [
    {
      "cell_type": "code",
      "execution_count": null,
      "id": "f9dec469-4b19-4413-ac5f-044d7b14e1f5",
      "metadata": {
        "execution": {
          "iopub.execute_input": "2023-04-24T21:56:11.411077Z",
          "iopub.status.busy": "2023-04-24T21:56:11.410094Z",
          "iopub.status.idle": "2023-04-24T21:56:12.933733Z",
          "shell.execute_reply": "2023-04-24T21:56:12.932897Z"
        },
        "tags": []
      },
      "outputs": [],
      "source": [
        "from pathlib import Path\n",
        "import pandas as pd\n",
        "import numpy as np\n",
        "from copy import deepcopy\n",
        "import matplotlib.pyplot as plt"
      ]
    },
    {
      "cell_type": "code",
      "execution_count": null,
      "id": "a1c63f0c-bacf-4d9e-9e8b-19c0d100a6aa",
      "metadata": {
        "execution": {
          "iopub.execute_input": "2023-04-24T21:56:12.939916Z",
          "iopub.status.busy": "2023-04-24T21:56:12.939202Z",
          "iopub.status.idle": "2023-04-24T21:56:15.916480Z",
          "shell.execute_reply": "2023-04-24T21:56:15.915477Z"
        },
        "tags": []
      },
      "outputs": [],
      "source": [
        "# plt.style.use('seaborn-paper')\n",
        "import ctaplot\n",
        "ctaplot.set_style('paper')"
      ]
    },
    {
      "attachments": {},
      "cell_type": "markdown",
      "id": "ca22ec8b-da08-4d24-8d81-ef4acb962855",
      "metadata": {
        "tags": []
      },
      "source": [
        "# Plots"
      ]
    },
    {
      "cell_type": "code",
      "execution_count": null,
      "id": "540ce3cb-44be-4308-883c-dee7782980ec",
      "metadata": {
        "execution": {
          "iopub.execute_input": "2023-04-24T21:56:15.922830Z",
          "iopub.status.busy": "2023-04-24T21:56:15.922188Z",
          "iopub.status.idle": "2023-04-24T21:56:15.928357Z",
          "shell.execute_reply": "2023-04-24T21:56:15.927604Z"
        },
        "tags": []
      },
      "outputs": [],
      "source": [
        "def plot_features_importance(importance_df, model_names, ax=None, **kwargs):\n",
        "\n",
        "    ax = plt.gca() if ax is None else ax\n",
        "    x = np.arange(len(importance_df))\n",
        "\n",
        "    kwargs.setdefault('error_kw', dict(lw=0.5))\n",
        "    for i, name in enumerate(model_names):\n",
        "        ax.barh(x+i*0.2,\n",
        "                importance_df[f'importance_{name}'].values,\n",
        "                0.18,\n",
        "                left=0.02,\n",
        "                label=name,\n",
        "                xerr=importance_df[f'xerr_{name}'],\n",
        "                **kwargs, \n",
        "               )\n",
        "    ax.legend()\n",
        "    ax.set_yticks(x+0.32)\n",
        "    ax.set_yticklabels(importance_df['feature']);\n",
        "\n",
        "    return ax"
      ]
    },
    {
      "cell_type": "code",
      "execution_count": null,
      "id": "0dcaef09-b096-4aa0-bfa5-93c8842c02a7",
      "metadata": {
        "execution": {
          "iopub.execute_input": "2023-04-24T21:56:15.931571Z",
          "iopub.status.busy": "2023-04-24T21:56:15.931215Z",
          "iopub.status.idle": "2023-04-24T21:56:15.953027Z",
          "shell.execute_reply": "2023-04-24T21:56:15.951823Z"
        },
        "tags": []
      },
      "outputs": [],
      "source": [
        "sorted_imp = pd.read_csv('source_indep_models_features_importances.csv')\n",
        "# model_names = ['energy', 'disp_norm', 'disp_sign', 'class']\n",
        "model_names = ['class', 'energy', 'disp_norm', 'disp_sign']"
      ]
    },
    {
      "cell_type": "code",
      "execution_count": null,
      "id": "e6d49685-784d-43e5-ace7-67cc8d72cae6",
      "metadata": {},
      "outputs": [],
      "source": []
    },
    {
      "cell_type": "code",
      "execution_count": null,
      "id": "8298809d-7e9a-40cf-954d-b9ac4483791d",
      "metadata": {
        "execution": {
          "iopub.execute_input": "2023-04-24T21:56:15.957014Z",
          "iopub.status.busy": "2023-04-24T21:56:15.956542Z",
          "iopub.status.idle": "2023-04-24T21:56:15.978362Z",
          "shell.execute_reply": "2023-04-24T21:56:15.977687Z"
        },
        "tags": []
      },
      "outputs": [],
      "source": [
        "sorted_imp"
      ]
    },
    {
      "cell_type": "code",
      "execution_count": null,
      "id": "885323f6-9504-4066-856d-80015ecbd798",
      "metadata": {
        "execution": {
          "iopub.execute_input": "2023-04-24T21:56:15.981638Z",
          "iopub.status.busy": "2023-04-24T21:56:15.981294Z",
          "iopub.status.idle": "2023-04-24T21:56:16.001309Z",
          "shell.execute_reply": "2023-04-24T21:56:16.000527Z"
        },
        "tags": []
      },
      "outputs": [],
      "source": [
        "tg_idx = sorted_imp[sorted_imp['feature'] == 'time_gradient'].index\n",
        "stg_idx = sorted_imp[sorted_imp['feature'] == 'signed_time_gradient'].index\n",
        "\n",
        "cols = ('importance_class', 'xerr_class')\n",
        "sorted_imp.loc[tg_idx, cols] = sorted_imp.loc[stg_idx, cols].values"
      ]
    },
    {
      "cell_type": "code",
      "execution_count": null,
      "id": "b9e9eb5e-9de8-48c6-b5f3-c0e973971af3",
      "metadata": {
        "execution": {
          "iopub.execute_input": "2023-04-24T21:56:16.004444Z",
          "iopub.status.busy": "2023-04-24T21:56:16.004130Z",
          "iopub.status.idle": "2023-04-24T21:56:16.011672Z",
          "shell.execute_reply": "2023-04-24T21:56:16.010908Z"
        },
        "tags": []
      },
      "outputs": [],
      "source": [
        "sk_idx = sorted_imp[sorted_imp['feature'] == 'skewness'].index\n",
        "ssk_idx = sorted_imp[sorted_imp['feature'] == 'signed_skewness'].index\n",
        "\n",
        "cols = ('importance_class', 'xerr_class')\n",
        "sorted_imp.loc[sk_idx, cols] = sorted_imp.loc[ssk_idx, cols].values"
      ]
    },
    {
      "cell_type": "code",
      "execution_count": null,
      "id": "bade70c9-5c72-4015-9a9a-74f3cf77eb66",
      "metadata": {
        "execution": {
          "iopub.execute_input": "2023-04-24T21:56:16.014844Z",
          "iopub.status.busy": "2023-04-24T21:56:16.014277Z",
          "iopub.status.idle": "2023-04-24T21:56:16.033552Z",
          "shell.execute_reply": "2023-04-24T21:56:16.032725Z"
        },
        "tags": []
      },
      "outputs": [],
      "source": [
        "sorted_imp = sorted_imp.drop(index=stg_idx)\n",
        "sorted_imp = sorted_imp.drop(index=ssk_idx).sort_values(by='importance_class')\n",
        "sorted_imp"
      ]
    },
    {
      "cell_type": "code",
      "execution_count": null,
      "id": "fae47991-cf21-48bd-b219-d9981d630613",
      "metadata": {
        "execution": {
          "iopub.execute_input": "2023-04-24T21:56:16.036241Z",
          "iopub.status.busy": "2023-04-24T21:56:16.035983Z",
          "iopub.status.idle": "2023-04-24T21:56:16.595979Z",
          "shell.execute_reply": "2023-04-24T21:56:16.595258Z"
        },
        "tags": []
      },
      "outputs": [],
      "source": [
        "plot_features_importance(sorted_imp, model_names)\n",
        "plt.tight_layout()\n",
        "plt.legend(loc='lower right')\n",
        "plt.savefig('models_feature_importance_src_indep.png', dpi=250)\n",
        "plt.show()"
      ]
    },
    {
      "cell_type": "code",
      "execution_count": null,
      "id": "41879c85-d18b-4aef-8678-50af316183b6",
      "metadata": {},
      "outputs": [],
      "source": []
    },
    {
      "cell_type": "markdown",
      "id": "c0e61fa3-caf6-46d2-8fc9-366c54d23d5d",
      "metadata": {},
      "source": [
        "### Source-dep plots"
      ]
    },
    {
      "cell_type": "code",
      "execution_count": null,
      "id": "78d57c0e-f2b7-4b4e-96cb-7245469481bb",
      "metadata": {
        "execution": {
          "iopub.execute_input": "2023-04-24T21:56:16.599308Z",
          "iopub.status.busy": "2023-04-24T21:56:16.599022Z",
          "iopub.status.idle": "2023-04-24T21:56:16.604208Z",
          "shell.execute_reply": "2023-04-24T21:56:16.603501Z"
        },
        "tags": []
      },
      "outputs": [],
      "source": [
        "sorted_srcdep_imp = pd.read_csv('source_dep_models_features_importances.csv')\n",
        "model_names = ['class', 'energy']"
      ]
    },
    {
      "cell_type": "code",
      "execution_count": null,
      "id": "14afcc5e-0c95-4c54-94a0-885540610b10",
      "metadata": {
        "execution": {
          "iopub.execute_input": "2023-04-24T21:56:16.607026Z",
          "iopub.status.busy": "2023-04-24T21:56:16.606700Z",
          "iopub.status.idle": "2023-04-24T21:56:16.611703Z",
          "shell.execute_reply": "2023-04-24T21:56:16.611012Z"
        },
        "tags": []
      },
      "outputs": [],
      "source": [
        "# getting the color cycle to apply the same color to class as in source-indep plot\n",
        "prop_cycle = plt.rcParams['axes.prop_cycle']\n",
        "colors = prop_cycle.by_key()['color']\n",
        "colors"
      ]
    },
    {
      "cell_type": "code",
      "execution_count": null,
      "id": "71e301f3-a4df-4a25-a39d-821f05e8d0e9",
      "metadata": {
        "execution": {
          "iopub.execute_input": "2023-04-24T21:56:16.614980Z",
          "iopub.status.busy": "2023-04-24T21:56:16.614248Z",
          "iopub.status.idle": "2023-04-24T21:56:16.617972Z",
          "shell.execute_reply": "2023-04-24T21:56:16.617233Z"
        },
        "tags": []
      },
      "outputs": [],
      "source": [
        "colors_srcdep = [colors[0], colors[3]]"
      ]
    },
    {
      "cell_type": "code",
      "execution_count": null,
      "id": "c85c5480-6683-439d-90ec-3eeac40af3dd",
      "metadata": {
        "execution": {
          "iopub.execute_input": "2023-04-24T21:56:16.621625Z",
          "iopub.status.busy": "2023-04-24T21:56:16.621358Z",
          "iopub.status.idle": "2023-04-24T21:56:17.065304Z",
          "shell.execute_reply": "2023-04-24T21:56:17.064445Z"
        },
        "tags": []
      },
      "outputs": [],
      "source": [
        "plot_features_importance(sorted_srcdep_imp, model_names)\n",
        "plt.tight_layout()\n",
        "plt.savefig('models_feature_importance_srcdep.png', dpi=250)\n",
        "plt.show()"
      ]
    },
    {
      "cell_type": "code",
      "execution_count": null,
      "id": "0dee75b1-ca31-44fc-9da4-76a5e3d37ad5",
      "metadata": {},
      "outputs": [],
      "source": []
    },
    {
      "cell_type": "code",
      "execution_count": null,
      "id": "b3626541-9f23-444e-81c1-3472b7d08282",
      "metadata": {},
      "outputs": [],
      "source": []
    }
  ],
  "metadata": {
    "language_info": {
      "codemirror_mode": {
        "name": "ipython",
        "version": 3
      },
      "file_extension": ".py",
      "mimetype": "text/x-python",
      "name": "python",
      "nbconvert_exporter": "python",
      "pygments_lexer": "ipython3",
      "version": "3.8.16"
    }
  },
  "nbformat": 4,
  "nbformat_minor": 5
}
