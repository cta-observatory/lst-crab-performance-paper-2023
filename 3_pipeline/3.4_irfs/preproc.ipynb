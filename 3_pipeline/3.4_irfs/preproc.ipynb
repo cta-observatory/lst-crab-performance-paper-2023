{
 "cells": [
  {
   "cell_type": "markdown",
   "id": "17c0f8d0-4405-4edd-bf13-f4e25f1e91b7",
   "metadata": {},
   "source": [
    "# Preprocessing for IRFs calculation\n",
    "\n",
    "This notebook can be run only by LST collaboration members and is provided only for internal reproductibility"
   ]
  },
  {
   "cell_type": "markdown",
   "id": "2775a6c3-3c72-4c62-b3b1-e32c6de97c09",
   "metadata": {
    "pycharm": {
     "name": "#%% md\n"
    }
   },
   "source": [
    "## Imports and setup"
   ]
  },
  {
   "cell_type": "code",
   "execution_count": null,
   "id": "f92ac504",
   "metadata": {
    "jupyter": {
     "outputs_hidden": false
    },
    "pycharm": {
     "name": "#%%\n"
    },
    "tags": []
   },
   "outputs": [],
   "source": [
    "import warnings\n",
    "warnings.filterwarnings(\"ignore\")"
   ]
  },
  {
   "cell_type": "code",
   "execution_count": null,
   "id": "472de543",
   "metadata": {
    "jupyter": {
     "outputs_hidden": false
    },
    "pycharm": {
     "name": "#%%\n"
    },
    "tags": []
   },
   "outputs": [],
   "source": [
    "import lstmcpipe\n",
    "print(\"lstmcpipe\", lstmcpipe.__version__)\n",
    "\n",
    "import lstchain\n",
    "print(\"lstchain\", lstchain.__version__)\n",
    "\n",
    "import pyirf\n",
    "print(\"pyirf\", pyirf.__version__)"
   ]
  },
  {
   "cell_type": "code",
   "execution_count": null,
   "id": "f5d6c12c",
   "metadata": {
    "jupyter": {
     "outputs_hidden": false
    },
    "pycharm": {
     "name": "#%%\n"
    },
    "tags": []
   },
   "outputs": [],
   "source": [
    "import multiprocessing\n",
    "from importlib import reload\n",
    "from pathlib import Path\n",
    "import pickle\n",
    "import astropy.units as u\n",
    "from copy import deepcopy\n",
    "from astropy.table import vstack\n",
    "from lstchain.io import read_mc_dl2_to_QTable\n",
    "\n",
    "import utils\n",
    "import dl2_to_irfs"
   ]
  },
  {
   "cell_type": "code",
   "execution_count": null,
   "id": "72225de3",
   "metadata": {
    "jupyter": {
     "outputs_hidden": false
    },
    "pycharm": {
     "name": "#%%\n"
    },
    "tags": []
   },
   "outputs": [],
   "source": [
    "import matplotlib.pyplot as plt\n",
    "def get_color_cycle(num_colors):\n",
    "    cm = plt.get_cmap('tab20c')\n",
    "    return [cm(1.*i/num_colors) for i in range(num_colors)]"
   ]
  },
  {
   "cell_type": "code",
   "execution_count": null,
   "id": "fa6cd88a",
   "metadata": {
    "jupyter": {
     "outputs_hidden": false
    },
    "pycharm": {
     "name": "#%%\n"
    },
    "tags": []
   },
   "outputs": [],
   "source": [
    "from astropy.io.ascii import write, read"
   ]
  },
  {
   "cell_type": "markdown",
   "id": "eb77069a",
   "metadata": {
    "pycharm": {
     "name": "#%% md\n"
    }
   },
   "source": [
    "# select pointings"
   ]
  },
  {
   "cell_type": "code",
   "execution_count": null,
   "id": "8d6f3630",
   "metadata": {
    "jupyter": {
     "outputs_hidden": false
    },
    "pycharm": {
     "name": "#%%\n"
    },
    "tags": []
   },
   "outputs": [],
   "source": [
    "pointings_table = read('../../2_mc_simulations/2.3_mc_pointings/pointings_test.ecsv')\n",
    "pointings_table"
   ]
  },
  {
   "cell_type": "code",
   "execution_count": null,
   "id": "8fdcf0f2",
   "metadata": {
    "jupyter": {
     "outputs_hidden": false
    },
    "pycharm": {
     "name": "#%%\n"
    }
   },
   "outputs": [],
   "source": []
  },
  {
   "cell_type": "markdown",
   "id": "ebd1a445",
   "metadata": {
    "pycharm": {
     "name": "#%% md\n"
    }
   },
   "source": [
    "-------\n",
    "## load data"
   ]
  },
  {
   "cell_type": "code",
   "execution_count": null,
   "id": "7281dbee-9184-4400-982d-ce27d60b32db",
   "metadata": {},
   "outputs": [],
   "source": [
    "indir = '/fefs/aswg/data/mc/DL2/AllSky/20221027_v0.9.9_crab_tuned/TestingDataset/dec_2276'"
   ]
  },
  {
   "cell_type": "code",
   "execution_count": null,
   "id": "b24a828a",
   "metadata": {
    "jupyter": {
     "outputs_hidden": false
    },
    "pycharm": {
     "name": "#%%\n"
    }
   },
   "outputs": [],
   "source": [
    "filenames = []\n",
    "for p in pointings_table:\n",
    "    filenames.append(list(Path(indir, p['dirname']).glob('dl2_*.h5'))[0])\n",
    "    \n",
    "pointings_table['dl2_filename'] = filenames"
   ]
  },
  {
   "cell_type": "code",
   "execution_count": null,
   "id": "5c6a4ad4",
   "metadata": {
    "jupyter": {
     "outputs_hidden": false
    },
    "pycharm": {
     "name": "#%%\n"
    }
   },
   "outputs": [],
   "source": [
    "pointings_table"
   ]
  },
  {
   "cell_type": "code",
   "execution_count": null,
   "id": "aaf3375b",
   "metadata": {
    "jupyter": {
     "outputs_hidden": false
    },
    "pycharm": {
     "name": "#%%\n"
    }
   },
   "outputs": [],
   "source": [
    "events_dict = {}\n",
    "for filename in filenames:\n",
    "    utils.load_event_dict(filename, events_dict)"
   ]
  },
  {
   "cell_type": "markdown",
   "id": "873a7f33",
   "metadata": {
    "pycharm": {
     "name": "#%% md\n"
    }
   },
   "source": [
    "### Merging per altitude, with symmetrical azimuths from the magnetic North"
   ]
  },
  {
   "cell_type": "code",
   "execution_count": null,
   "id": "9bf8cbb9",
   "metadata": {
    "jupyter": {
     "outputs_hidden": false
    },
    "pycharm": {
     "name": "#%%\n"
    }
   },
   "outputs": [],
   "source": [
    "stacked_alt = dl2_to_irfs.merge_per_alt(events_dict, pointings_table)"
   ]
  },
  {
   "cell_type": "code",
   "execution_count": null,
   "id": "246b27be",
   "metadata": {
    "jupyter": {
     "outputs_hidden": false
    },
    "pycharm": {
     "name": "#%%\n"
    }
   },
   "outputs": [],
   "source": [
    "stacked_alt[46.803]['simu_info']"
   ]
  },
  {
   "cell_type": "code",
   "execution_count": null,
   "id": "026aaab6",
   "metadata": {
    "jupyter": {
     "outputs_hidden": false
    },
    "pycharm": {
     "name": "#%%\n"
    }
   },
   "outputs": [],
   "source": [
    "stacked_pickle_filemame = 'stacked_alt_source_indep.pickle'"
   ]
  },
  {
   "cell_type": "code",
   "execution_count": null,
   "id": "d2f97267",
   "metadata": {
    "jupyter": {
     "outputs_hidden": false
    },
    "pycharm": {
     "name": "#%%\n"
    }
   },
   "outputs": [],
   "source": [
    "if not Path(stacked_pickle_filemame).exists():\n",
    "    with open(stacked_pickle_filemame, 'wb') as file:\n",
    "        pickle.dump(stacked_alt, file)\n",
    "else:\n",
    "    raise FileExistsError(\"overwrite?\")"
   ]
  },
  {
   "cell_type": "code",
   "execution_count": null,
   "id": "c8d4ae35",
   "metadata": {
    "jupyter": {
     "outputs_hidden": false
    },
    "pycharm": {
     "name": "#%%\n"
    }
   },
   "outputs": [],
   "source": [
    "Path(stacked_pickle_filemame).exists(), f\"{Path(stacked_pickle_filemame).lstat().st_size/1024**3:.2f}GB\""
   ]
  },
  {
   "cell_type": "code",
   "execution_count": null,
   "id": "d770c744",
   "metadata": {
    "jupyter": {
     "outputs_hidden": false
    },
    "pycharm": {
     "name": "#%%\n"
    }
   },
   "outputs": [],
   "source": [
    "with open(stacked_pickle_filemame, 'rb') as file:\n",
    "    stacked_alt = pickle.load(file)"
   ]
  },
  {
   "cell_type": "code",
   "execution_count": null,
   "id": "1092958e",
   "metadata": {
    "jupyter": {
     "outputs_hidden": false
    },
    "pycharm": {
     "name": "#%%\n"
    }
   },
   "outputs": [],
   "source": [
    "stacked_alt.keys()"
   ]
  },
  {
   "cell_type": "markdown",
   "id": "a2b3f2d8",
   "metadata": {
    "pycharm": {
     "name": "#%% md\n"
    }
   },
   "source": [
    "## Parameters\n",
    "\n",
    "A global theta cut is applied to all events to remove very bad events, especially the ones at low energies that have been assigned the wrong reconstructed direction.\n",
    "\n",
    "A more restrictive theta cut is applied to compute the energy resolution and bias.\n",
    "\n",
    "**Resolutions are not computed if there are less than 100 events in the bin**"
   ]
  },
  {
   "cell_type": "code",
   "execution_count": null,
   "id": "03e615a8",
   "metadata": {
    "jupyter": {
     "outputs_hidden": false
    },
    "pycharm": {
     "name": "#%%\n"
    }
   },
   "outputs": [],
   "source": [
    "# efficiencies = [0.2, 0.3, 0.4, 0.5, 0.6, 0.7, 0.8, 0.9]\n",
    "efficiencies = [0.4, 0.7, 0.9]\n",
    "theta_containment=0.7\n",
    "\n",
    "erange = (15*u.GeV, 25*u.TeV)\n"
   ]
  },
  {
   "cell_type": "code",
   "execution_count": null,
   "id": "a1110f9a",
   "metadata": {
    "jupyter": {
     "outputs_hidden": false
    },
    "pycharm": {
     "name": "#%%\n"
    }
   },
   "outputs": [],
   "source": [
    "prop_cycle = plt.rcParams['axes.prop_cycle']\n",
    "colors = prop_cycle.by_key()['color']\n",
    "colors"
   ]
  },
  {
   "cell_type": "code",
   "execution_count": null,
   "id": "c78bd5a2",
   "metadata": {
    "jupyter": {
     "outputs_hidden": false
    },
    "pycharm": {
     "name": "#%%\n"
    }
   },
   "outputs": [],
   "source": [
    "output_dir = 'irfs'\n",
    "Path(output_dir).mkdir(exist_ok=True)"
   ]
  },
  {
   "cell_type": "code",
   "execution_count": null,
   "id": "1e07d4e2",
   "metadata": {
    "jupyter": {
     "outputs_hidden": false
    },
    "pycharm": {
     "name": "#%%\n"
    }
   },
   "outputs": [],
   "source": [
    "processes = []\n",
    "\n",
    "for alt in stacked_alt.keys():\n",
    "    for efficiency in efficiencies:\n",
    "        print(alt, efficiency)\n",
    "        outfile = Path(output_dir, f'irfs_zen_{90-alt:.2f}_gh-eff_{efficiency}.fits.gz')\n",
    "        p = multiprocessing.Process(target=dl2_to_irfs.produce_irfs_pyirf,\n",
    "                                    args = (stacked_alt[alt]['params'],\n",
    "                                            stacked_alt[alt]['simu_info'],\n",
    "                                            efficiency,\n",
    "                                            outfile,\n",
    "                                           ),\n",
    "                                    kwargs= dict(\n",
    "                                            theta_containment=theta_containment,\n",
    "                                            srcdep=False,)\n",
    "                                   )\n",
    "        p.start()\n",
    "        processes.append(p)\n",
    "\n",
    "for p in processes:\n",
    "    p.join()\n",
    "\n"
   ]
  },
  {
   "cell_type": "code",
   "execution_count": null,
   "id": "2de14268-6b22-42e9-bc90-a74eae9bb1f6",
   "metadata": {},
   "outputs": [],
   "source": [
    "ls irfs_fine_bins/"
   ]
  },
  {
   "cell_type": "markdown",
   "id": "0055c840",
   "metadata": {
    "pycharm": {
     "name": "#%% md\n"
    }
   },
   "source": [
    "----"
   ]
  },
  {
   "cell_type": "markdown",
   "id": "ca9f9a2c",
   "metadata": {
    "pycharm": {
     "name": "#%% md\n"
    }
   },
   "source": [
    "## Source dependent IRFs\n",
    "\n",
    "Source dependent analysis has been done with MC in a limited range of offsets.    \n",
    "A limit at 1 deg was finally chosen."
   ]
  },
  {
   "cell_type": "code",
   "execution_count": null,
   "id": "42f16e0a",
   "metadata": {},
   "outputs": [],
   "source": [
    "off = 1\n",
    "indir = Path(f'/fefs/aswg/workspace/seiya.nozaki/Crab_performance_paper/20221027_v0.9.9_crab_tuned/combined_off_axis_{off}deg/DL2_MC/data')\n",
    "\n",
    "list(indir.iterdir())[:2]"
   ]
  },
  {
   "cell_type": "code",
   "execution_count": null,
   "id": "3670286d",
   "metadata": {
    "jupyter": {
     "outputs_hidden": false
    },
    "pycharm": {
     "name": "#%%\n"
    }
   },
   "outputs": [],
   "source": [
    "filenames_srcdep = [list(Path(indir).glob(f\"*{p['dirname']}*\"))[0] for p in pointings_table]\n",
    "pointings_table['srcdep_filename'] = filenames_srcdep\n",
    "pointings_table"
   ]
  },
  {
   "cell_type": "code",
   "execution_count": null,
   "id": "fc44dc6c",
   "metadata": {
    "jupyter": {
     "outputs_hidden": false
    },
    "pycharm": {
     "name": "#%%\n"
    }
   },
   "outputs": [],
   "source": [
    "events_dict_srcdep = {}\n",
    "for p in pointings_table:\n",
    "    node = p['dirname']\n",
    "    print(node)\n",
    "    # filename = [filename for filename in filenames_srcdep if node in filename.as_posix()][0]\n",
    "    if node not in events_dict_srcdep:\n",
    "        filename =  p['srcdep_filename']\n",
    "        events_dict_srcdep[node] = {'path': filename}\n",
    "        events_dict_srcdep[node]['params'], events_dict_srcdep[node]['simu_info'] = read_mc_dl2_to_QTable(filename)\n",
    "        # Patch for the coma aberration bias\n",
    "        utils.patch_events_altaz(events_dict_srcdep[node]['params'])"
   ]
  },
  {
   "cell_type": "code",
   "execution_count": null,
   "id": "41e7346a",
   "metadata": {
    "jupyter": {
     "outputs_hidden": false
    },
    "pycharm": {
     "name": "#%%\n"
    }
   },
   "outputs": [],
   "source": [
    "grp = utils.groupby_alt(pointings_table)\n",
    "grp"
   ]
  },
  {
   "cell_type": "code",
   "execution_count": null,
   "id": "31e99688",
   "metadata": {
    "jupyter": {
     "outputs_hidden": false
    },
    "pycharm": {
     "name": "#%%\n"
    }
   },
   "outputs": [],
   "source": [
    "stacked_alt_srcdep = {}\n",
    "for alt, index in grp.items():\n",
    "    print(alt)\n",
    "    stacked_alt_srcdep[alt]={}\n",
    "    stacked_alt_srcdep[alt]['params'] = vstack([events_dict_srcdep[p['dirname']]['params'] for p in pointings_table[list(index)]])\n",
    "    stacked_alt_srcdep[alt]['simu_info'] = deepcopy(events_dict_srcdep[pointings_table[list(index)[0]]['dirname']]['simu_info'])\n",
    "    stacked_alt_srcdep[alt]['simu_info'].n_showers = sum([events_dict_srcdep[p['dirname']]['simu_info'].n_showers for p in pointings_table[list(index)]])"
   ]
  },
  {
   "cell_type": "code",
   "execution_count": null,
   "id": "535a256a-00ba-412b-8142-651d05a23634",
   "metadata": {},
   "outputs": [],
   "source": [
    "stacked_srcdep_pickle_filemame = 'stacked_alt_src_dep.pickle'"
   ]
  },
  {
   "cell_type": "code",
   "execution_count": null,
   "id": "612028d5",
   "metadata": {
    "jupyter": {
     "outputs_hidden": false
    },
    "pycharm": {
     "name": "#%%\n"
    }
   },
   "outputs": [],
   "source": [
    "if not Path(stacked_srcdep_pickle_filemame).exists():\n",
    "    with open(stacked_srcdep_pickle_filemame, 'wb') as file:\n",
    "        pickle.dump(stacked_alt_srcdep, file)\n",
    "else:\n",
    "    raise FileExistsError(\"overwrite?\")\n",
    "    \n",
    "Path(stacked_srcdep_pickle_filemame).exists(), f\"{Path(stacked_srcdep_pickle_filemame).lstat().st_size/1024**3:.2f}GB\"  "
   ]
  },
  {
   "cell_type": "code",
   "execution_count": null,
   "id": "ecaa447f",
   "metadata": {
    "jupyter": {
     "outputs_hidden": false
    },
    "pycharm": {
     "name": "#%%\n"
    }
   },
   "outputs": [],
   "source": [
    "with open(stacked_srcdep_pickle_filemame, 'rb') as file:\n",
    "    stacked_alt_srcdep = pickle.load(file)"
   ]
  },
  {
   "cell_type": "code",
   "execution_count": null,
   "id": "8ef3c47d",
   "metadata": {
    "jupyter": {
     "outputs_hidden": false
    },
    "pycharm": {
     "name": "#%%\n"
    }
   },
   "outputs": [],
   "source": [
    "output_dir_srcdep = 'irfs_srcdep'\n",
    "Path(output_dir_srcdep).mkdir(exist_ok=True)"
   ]
  },
  {
   "cell_type": "code",
   "execution_count": null,
   "id": "08141325",
   "metadata": {
    "jupyter": {
     "outputs_hidden": false
    },
    "pycharm": {
     "name": "#%%\n"
    }
   },
   "outputs": [],
   "source": [
    "processes = []\n",
    "\n",
    "for alt in stacked_alt_srcdep.keys():\n",
    "    for efficiency in efficiencies:\n",
    "        print(alt, efficiency)\n",
    "        outfile = Path(output_dir_srcdep, f'irfs_zen_{90-alt:.2f}_gh-eff_{efficiency}_srcdep.fits.gz')\n",
    "        p = multiprocessing.Process(target=dl2_to_irfs.produce_irfs_pyirf,\n",
    "                                    args=(stacked_alt_srcdep[alt]['params'], \n",
    "                                           stacked_alt_srcdep[alt]['simu_info'], \n",
    "                                           efficiency, \n",
    "                                           outfile),\n",
    "                                    kwargs=dict( alpha_containment=0.7,\n",
    "                                       srcdep=True,\n",
    "                                               )\n",
    "                                   )\n",
    "        p.start()\n",
    "        processes.append(p)\n",
    "\n",
    "for p in processes:\n",
    "    p.join()\n",
    "                            \n"
   ]
  },
  {
   "cell_type": "code",
   "execution_count": null,
   "id": "726d1f2c-23ca-42c9-a604-8410065d98ad",
   "metadata": {},
   "outputs": [],
   "source": []
  },
  {
   "cell_type": "code",
   "execution_count": null,
   "id": "ea86dc93-9177-4f56-aaff-3029352e4ff6",
   "metadata": {},
   "outputs": [],
   "source": []
  }
 ],
 "metadata": {
  "kernelspec": {
   "display_name": "crablst1",
   "language": "python",
   "name": "crablst1"
  },
  "language_info": {
   "codemirror_mode": {
    "name": "ipython",
    "version": 3
   },
   "file_extension": ".py",
   "mimetype": "text/x-python",
   "name": "python",
   "nbconvert_exporter": "python",
   "pygments_lexer": "ipython3",
   "version": "3.7.12"
  }
 },
 "nbformat": 4,
 "nbformat_minor": 5
}
