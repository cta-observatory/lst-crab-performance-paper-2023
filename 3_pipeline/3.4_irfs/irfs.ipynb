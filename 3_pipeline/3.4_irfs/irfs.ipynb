{
  "cells": [
    {
      "cell_type": "markdown",
      "id": "2775a6c3-3c72-4c62-b3b1-e32c6de97c09",
      "metadata": {},
      "source": [
        "## Imports and setup"
      ]
    },
    {
      "cell_type": "code",
      "execution_count": null,
      "id": "8abcc706-f429-4370-a757-70ce923e12c6",
      "metadata": {
        "execution": {
          "iopub.execute_input": "2023-04-25T07:08:11.093025Z",
          "iopub.status.busy": "2023-04-25T07:08:11.092580Z",
          "iopub.status.idle": "2023-04-25T07:08:12.408131Z",
          "shell.execute_reply": "2023-04-25T07:08:12.407467Z"
        },
        "tags": []
      },
      "outputs": [],
      "source": [
        "import matplotlib.pyplot as plt\n",
        "import astropy.units as u\n",
        "from pathlib import Path"
      ]
    },
    {
      "cell_type": "code",
      "execution_count": null,
      "id": "354a389f-2be0-4ac9-9f7c-afcc714c819a",
      "metadata": {
        "execution": {
          "iopub.execute_input": "2023-04-25T07:08:12.411060Z",
          "iopub.status.busy": "2023-04-25T07:08:12.410711Z",
          "iopub.status.idle": "2023-04-25T07:08:12.414832Z",
          "shell.execute_reply": "2023-04-25T07:08:12.413932Z"
        },
        "tags": []
      },
      "outputs": [],
      "source": [
        "plt.style.use('seaborn-paper')\n",
        "plt.style.use('seaborn-colorblind')"
      ]
    },
    {
      "cell_type": "code",
      "execution_count": null,
      "id": "ba70c0b0-fd4a-4857-a243-fe7592027623",
      "metadata": {
        "execution": {
          "iopub.execute_input": "2023-04-25T07:08:12.418158Z",
          "iopub.status.busy": "2023-04-25T07:08:12.417778Z",
          "iopub.status.idle": "2023-04-25T07:08:12.422177Z",
          "shell.execute_reply": "2023-04-25T07:08:12.421182Z"
        },
        "tags": []
      },
      "outputs": [],
      "source": [
        "import warnings\n",
        "warnings.filterwarnings(\"ignore\")"
      ]
    },
    {
      "cell_type": "markdown",
      "id": "dd8bdacc-aaf1-44de-a092-e3c471341d80",
      "metadata": {},
      "source": [
        "## Parameters"
      ]
    },
    {
      "cell_type": "code",
      "execution_count": null,
      "id": "d4e1e6a0-58f9-40b7-9830-68eb43488e60",
      "metadata": {
        "execution": {
          "iopub.execute_input": "2023-04-25T07:08:12.425265Z",
          "iopub.status.busy": "2023-04-25T07:08:12.424993Z",
          "iopub.status.idle": "2023-04-25T07:08:12.429428Z",
          "shell.execute_reply": "2023-04-25T07:08:12.428852Z"
        },
        "tags": []
      },
      "outputs": [],
      "source": [
        "efficiencies = [0.4, 0.7, 0.9]\n",
        "zeniths = [10.00, 23.630, 32.06, 43.20]\n",
        "\n",
        "erange = (15*u.GeV, 25*u.TeV)\n",
        "\n",
        "angresylim = (0.1, 0.5)\n",
        "effareaylim = (1e3, 1e6)\n",
        "eneylim = (-0.16, 0.7)"
      ]
    },
    {
      "cell_type": "code",
      "execution_count": null,
      "id": "314108db-5121-44de-b890-398b55968596",
      "metadata": {
        "execution": {
          "iopub.execute_input": "2023-04-25T07:08:12.431904Z",
          "iopub.status.busy": "2023-04-25T07:08:12.431647Z",
          "iopub.status.idle": "2023-04-25T07:08:12.437960Z",
          "shell.execute_reply": "2023-04-25T07:08:12.437380Z"
        },
        "tags": []
      },
      "outputs": [],
      "source": [
        "opt = dict(elinewidth=0.8)\n",
        "\n",
        "prop_cycle = plt.rcParams['axes.prop_cycle']\n",
        "colors = prop_cycle.by_key()['color']\n",
        "colors"
      ]
    },
    {
      "cell_type": "markdown",
      "id": "3e0bbf4b-0d80-4e28-8cc1-a923910a3773",
      "metadata": {},
      "source": [
        "----"
      ]
    },
    {
      "cell_type": "code",
      "execution_count": null,
      "id": "90d51779-9538-4081-9141-00a522c9ea98",
      "metadata": {
        "execution": {
          "iopub.execute_input": "2023-04-25T07:08:12.440693Z",
          "iopub.status.busy": "2023-04-25T07:08:12.440434Z",
          "iopub.status.idle": "2023-04-25T07:08:12.678089Z",
          "shell.execute_reply": "2023-04-25T07:08:12.677378Z"
        },
        "tags": []
      },
      "outputs": [],
      "source": [
        "import plot_irfs"
      ]
    },
    {
      "cell_type": "code",
      "execution_count": null,
      "id": "b6e59d82-e610-4457-937f-de42b8cb079a",
      "metadata": {},
      "outputs": [],
      "source": []
    },
    {
      "cell_type": "code",
      "execution_count": null,
      "id": "68c20c73-46a5-48d4-8990-2cd175d5c982",
      "metadata": {
        "execution": {
          "iopub.execute_input": "2023-04-25T07:08:12.681403Z",
          "iopub.status.busy": "2023-04-25T07:08:12.681131Z",
          "iopub.status.idle": "2023-04-25T07:08:12.684694Z",
          "shell.execute_reply": "2023-04-25T07:08:12.683962Z"
        },
        "tags": []
      },
      "outputs": [],
      "source": [
        "import datetime\n",
        "def print_date(filename):\n",
        "    print(datetime.datetime.fromtimestamp(filename.stat().st_ctime))"
      ]
    },
    {
      "cell_type": "code",
      "execution_count": null,
      "id": "697432e9-a767-4550-b240-f91f487053a9",
      "metadata": {
        "execution": {
          "iopub.execute_input": "2023-04-25T07:08:12.687179Z",
          "iopub.status.busy": "2023-04-25T07:08:12.686925Z",
          "iopub.status.idle": "2023-04-25T07:08:12.691685Z",
          "shell.execute_reply": "2023-04-25T07:08:12.691058Z"
        },
        "tags": []
      },
      "outputs": [],
      "source": [
        "indir = 'irfs'\n",
        "outdir = 'irfs_plots'\n",
        "Path(outdir).mkdir(exist_ok=True)\n",
        "print(list(Path(indir).iterdir()))\n",
        "print(list(Path(outdir).iterdir()))"
      ]
    },
    {
      "cell_type": "markdown",
      "id": "dc1631b2-cc16-443f-8509-74bd59a071c1",
      "metadata": {},
      "source": [
        "# Zenith 10°"
      ]
    },
    {
      "cell_type": "code",
      "execution_count": null,
      "id": "db504cfc-f33c-43c9-a6c4-34413396c52d",
      "metadata": {
        "execution": {
          "iopub.execute_input": "2023-04-25T07:08:12.694825Z",
          "iopub.status.busy": "2023-04-25T07:08:12.694520Z",
          "iopub.status.idle": "2023-04-25T07:08:14.901033Z",
          "shell.execute_reply": "2023-04-25T07:08:14.900263Z"
        },
        "tags": []
      },
      "outputs": [],
      "source": [
        "zen = 10.00\n",
        "\n",
        "fig, axes = plt.subplots(3, 1, figsize=(4, 6), sharex=True)\n",
        "\n",
        "\n",
        "for ii, efficiency in enumerate(efficiencies):\n",
        "    filename = Path(indir, f'irfs_zen_{zen:.2f}_gh-eff_{efficiency}.fits.gz')\n",
        "    print_date(filename)\n",
        "    plot_irfs.plot_angular_resolution_from_file(filename, ax=axes[0],\n",
        "                                                ls='-',\n",
        "                                                **opt\n",
        "                                               )\n",
        "    plot_irfs.plot_effective_area_from_file(filename, ax=axes[1],\n",
        "                                            ls='-',\n",
        "                                            label=f'efficiency = {100*efficiency:.0f}%',\n",
        "                                            **opt\n",
        "                                           )\n",
        "    plot_irfs.plot_energy_resolution_from_file(filename, ax=axes[2], \n",
        "                                               ls='-',\n",
        "                                               color=colors[ii],\n",
        "                                               **opt\n",
        "                                              )\n",
        "    plot_irfs.plot_energy_bias_from_file(filename, ax=axes[2],\n",
        "                                         color=colors[ii],\n",
        "                                         ls='dotted',\n",
        "                                         **opt\n",
        "                                        )\n",
        "    \n",
        "\n",
        "plot_irfs.plot_energy_resolution_from_file(filename, ax=axes[2], \n",
        "                                           ls='-',\n",
        "                                           color=colors[ii],\n",
        "                                           label=r'Energy resolution ($\\sigma_{68}$)',\n",
        "                                           **opt\n",
        "                                              )\n",
        "plot_irfs.plot_energy_bias_from_file(filename, ax=axes[2],\n",
        "                                         color=colors[ii],\n",
        "                                         ls='dotted',\n",
        "                                     label=r'Energy bias (median)',\n",
        "                                     **opt\n",
        "                                    )\n",
        "\n",
        "\n",
        "for ax in axes:\n",
        "    ax.set_title('')\n",
        "    ax.set_xlim(erange[0].to_value(u.TeV), erange[1].to_value(u.TeV))\n",
        "\n",
        "axes[0].set_title(f'Zenith {zen:.2f}°')\n",
        "axes[0].set_ylim(0, axes[0].get_ylim()[1])\n",
        "axes[0].legend().remove()\n",
        "axes[0].set_xlabel('')\n",
        "axes[1].set_xlabel('')\n",
        "axes[0].set_ylim(*angresylim)\n",
        "axes[1].set_ylim(*effareaylim)\n",
        "axes[2].set_ylim(*eneylim)\n",
        "axes[2].set_ylabel(r'$\\Delta E/E_{true}$')\n",
        "axes[2].legend()\n",
        "\n",
        "axes[1].grid(True, which='both', axis='x')\n",
        "axes[1].grid(True, which='major', axis='y')\n",
        "for ax in axes:\n",
        "    ax.grid(False, axis='x', which='minor')\n",
        "    ax.grid(False, axis='y', which='minor')\n",
        "axes[1].set_axisbelow(True)\n",
        "\n",
        "axes[1].legend(loc='lower right')\n",
        "plt.tight_layout()\n",
        "\n",
        "outfile = Path(outdir, f'irfs_eff_zen_{zen:.2f}.png')\n",
        "plt.savefig(outfile, dpi=200)"
      ]
    },
    {
      "cell_type": "code",
      "execution_count": null,
      "id": "141ddbb4-c88c-4e4b-b971-80d2747b8d64",
      "metadata": {
        "execution": {
          "iopub.execute_input": "2023-04-25T07:08:14.903679Z",
          "iopub.status.busy": "2023-04-25T07:08:14.903400Z",
          "iopub.status.idle": "2023-04-25T07:08:15.510321Z",
          "shell.execute_reply": "2023-04-25T07:08:15.509515Z"
        },
        "tags": []
      },
      "outputs": [],
      "source": [
        "for efficiency in efficiencies:\n",
        "    filename = Path(indir, f'irfs_zen_{zen:.2f}_gh-eff_{efficiency}.fits.gz')\n",
        "    plot_irfs.plot_theta_cut_per_energy(filename, ls='-', label=f\"efficiency={efficiency*100:.0f}%\")\n",
        "plt.grid(True)\n",
        "outfile = Path(outdir, f'theta_cuts_{zen:.2f}.png')\n",
        "plt.savefig(outfile, dpi=200)"
      ]
    },
    {
      "cell_type": "code",
      "execution_count": null,
      "id": "dad355ab-1207-4c78-932e-77c1dfbd358c",
      "metadata": {
        "execution": {
          "iopub.execute_input": "2023-04-25T07:08:15.513523Z",
          "iopub.status.busy": "2023-04-25T07:08:15.513187Z",
          "iopub.status.idle": "2023-04-25T07:08:16.212910Z",
          "shell.execute_reply": "2023-04-25T07:08:16.212283Z"
        },
        "tags": []
      },
      "outputs": [],
      "source": [
        "for efficiency in efficiencies:\n",
        "    filename = Path(indir, f'irfs_zen_{zen:.2f}_gh-eff_{efficiency}.fits.gz')\n",
        "    plot_irfs.plot_gh_cut_per_energy(filename, ls='-', label=f\"efficiency={efficiency*100:.0f}%\")\n",
        "plt.grid(True)\n",
        "outfile = Path(outdir, f'gh_cuts_{zen:.2f}.png')\n",
        "plt.savefig(outfile, dpi=200)"
      ]
    },
    {
      "cell_type": "markdown",
      "id": "297336ac-fb33-4a94-bcae-87e8bd98cc13",
      "metadata": {},
      "source": [
        "## All nodes, efficiency=0.7"
      ]
    },
    {
      "cell_type": "code",
      "execution_count": null,
      "id": "bddc10b3-a188-4d87-8878-b12949c3f6d8",
      "metadata": {
        "execution": {
          "iopub.execute_input": "2023-04-25T07:08:16.216040Z",
          "iopub.status.busy": "2023-04-25T07:08:16.215689Z",
          "iopub.status.idle": "2023-04-25T07:08:16.220674Z",
          "shell.execute_reply": "2023-04-25T07:08:16.219834Z"
        },
        "tags": []
      },
      "outputs": [],
      "source": [
        "colors"
      ]
    },
    {
      "cell_type": "code",
      "execution_count": null,
      "id": "26aa7f92-2321-4c5e-962d-3c79ef240234",
      "metadata": {
        "execution": {
          "iopub.execute_input": "2023-04-25T07:08:16.223416Z",
          "iopub.status.busy": "2023-04-25T07:08:16.223133Z",
          "iopub.status.idle": "2023-04-25T07:08:18.167350Z",
          "shell.execute_reply": "2023-04-25T07:08:18.166648Z"
        },
        "tags": []
      },
      "outputs": [],
      "source": [
        "efficiency = 0.7\n",
        "zen = 10.0\n",
        "\n",
        "fig, axes = plt.subplots(3, 1, figsize=(4, 6), sharex=True)\n",
        "fig.subplots_adjust(hspace=0) \n",
        "\n",
        "calt = [ colors[1], colors[3], colors[4], colors[5]]\n",
        "\n",
        "\n",
        "for ii, zen in enumerate(zeniths):\n",
        "    color = calt[ii]\n",
        "    filename = Path(indir, f'irfs_zen_{zen:.2f}_gh-eff_{efficiency}.fits.gz')\n",
        "    print_date(filename)\n",
        "    plot_irfs.plot_angular_resolution_from_file(filename, ax=axes[0],\n",
        "                                                ls='-',\n",
        "                                                color=color,\n",
        "                                                **opt\n",
        "                                               )\n",
        "    plot_irfs.plot_effective_area_from_file(filename, ax=axes[1],\n",
        "                                            ls='-',\n",
        "                                            label=f'zenith = {zen:.2f}°',\n",
        "                                            color=color,\n",
        "                                            **opt\n",
        "                                           )\n",
        "    plot_irfs.plot_energy_resolution_from_file(filename, ax=axes[2], \n",
        "                                               ls='-',\n",
        "                                               color=color,\n",
        "                                               **opt\n",
        "                                              )\n",
        "    plot_irfs.plot_energy_bias_from_file(filename, ax=axes[2],\n",
        "                                         color=color,\n",
        "                                         ls='dotted',\n",
        "                                         **opt\n",
        "                                        )\n",
        "    \n",
        "\n",
        "plot_irfs.plot_energy_resolution_from_file(filename, ax=axes[2], \n",
        "                                           ls='-',\n",
        "                                           color=color,\n",
        "                                           label=r'Energy resolution ($\\sigma_{68}$)',\n",
        "                                           **opt\n",
        "                                              )\n",
        "plot_irfs.plot_energy_bias_from_file(filename, ax=axes[2],\n",
        "                                         color=color,\n",
        "                                         ls='dotted',\n",
        "                                     label=r'Energy bias (median)',\n",
        "                                     **opt\n",
        "                                    )\n",
        "\n",
        "\n",
        "for ax in axes:\n",
        "    ax.set_title('')\n",
        "    ax.set_xlim(erange[0].to_value(u.TeV), erange[1].to_value(u.TeV))\n",
        "\n",
        "axes[0].set_title(f'Efficiency {efficiency*100:.0f}%')\n",
        "axes[0].set_ylim(0, axes[0].get_ylim()[1])\n",
        "axes[0].legend().remove()\n",
        "axes[0].set_xlabel('')\n",
        "axes[1].set_xlabel('')\n",
        "axes[0].set_ylim(*angresylim)\n",
        "axes[1].set_ylim(*effareaylim)\n",
        "axes[2].set_ylim(*eneylim)\n",
        "axes[2].set_ylabel(r'$\\Delta E/E_{true}$')\n",
        "axes[2].legend()\n",
        "\n",
        "axes[1].grid(True, which='both', axis='x')\n",
        "axes[1].grid(True, which='major', axis='y')\n",
        "for ax in axes:\n",
        "    ax.grid(False, axis='x', which='minor')\n",
        "    ax.grid(False, axis='y', which='minor')\n",
        "    \n",
        "axes[1].set_axisbelow(True)\n",
        "\n",
        "axes[1].legend(loc='lower right')\n",
        "plt.tight_layout()\n",
        "\n",
        "outfile = Path(outdir, f'irfs_zeniths_eff_{efficiency:.2f}.png')\n",
        "plt.savefig(outfile, dpi=200)\n",
        "\n",
        "\n",
        "    \n",
        "  "
      ]
    },
    {
      "cell_type": "code",
      "execution_count": null,
      "id": "8cc3bafb-7d76-4f6f-bc45-97f2eb8ac198",
      "metadata": {},
      "outputs": [],
      "source": []
    },
    {
      "cell_type": "code",
      "execution_count": null,
      "id": "c724a091-1cd1-49aa-a89f-9ac7317c3cc7",
      "metadata": {},
      "outputs": [],
      "source": []
    },
    {
      "cell_type": "markdown",
      "id": "908a2822-8af1-4c2c-aab0-a52ff51361f6",
      "metadata": {},
      "source": [
        "## Source dependent IRFs"
      ]
    },
    {
      "cell_type": "code",
      "execution_count": null,
      "id": "36f51c11-5160-410a-9051-8f1e672dc9f5",
      "metadata": {
        "execution": {
          "iopub.execute_input": "2023-04-25T07:08:18.170489Z",
          "iopub.status.busy": "2023-04-25T07:08:18.170158Z",
          "iopub.status.idle": "2023-04-25T07:08:18.174186Z",
          "shell.execute_reply": "2023-04-25T07:08:18.173508Z"
        },
        "tags": []
      },
      "outputs": [],
      "source": [
        "indir = 'irfs_srcdep'\n",
        "outdir = 'irfs_srcdep_plots'\n",
        "\n",
        "Path(outdir).mkdir(exist_ok=True)"
      ]
    },
    {
      "cell_type": "code",
      "execution_count": null,
      "id": "05861e8c-b843-4bac-a24d-c39f385480b4",
      "metadata": {
        "execution": {
          "iopub.execute_input": "2023-04-25T07:08:18.176876Z",
          "iopub.status.busy": "2023-04-25T07:08:18.176589Z",
          "iopub.status.idle": "2023-04-25T07:08:18.180807Z",
          "shell.execute_reply": "2023-04-25T07:08:18.180304Z"
        },
        "tags": []
      },
      "outputs": [],
      "source": [
        "zeniths"
      ]
    },
    {
      "cell_type": "code",
      "execution_count": null,
      "id": "3a87bc57-f75f-478f-8fa6-53a455a6331e",
      "metadata": {
        "execution": {
          "iopub.execute_input": "2023-04-25T07:08:18.183614Z",
          "iopub.status.busy": "2023-04-25T07:08:18.183361Z",
          "iopub.status.idle": "2023-04-25T07:08:19.594934Z",
          "shell.execute_reply": "2023-04-25T07:08:19.594200Z"
        },
        "tags": []
      },
      "outputs": [],
      "source": [
        "zen = 10.00\n",
        "\n",
        "fig, axes = plt.subplots(2, 1, figsize=(4, 4), sharex=True)\n",
        "\n",
        "\n",
        "for ii, efficiency in enumerate(efficiencies):\n",
        "    filename = Path(indir, f'irfs_zen_{zen:.2f}_gh-eff_{efficiency}_srcdep.fits.gz')\n",
        "    print_date(filename)\n",
        "\n",
        "    plot_irfs.plot_effective_area_from_file(filename, ax=axes[0],\n",
        "                                            ls='-',\n",
        "                                            label=f'efficiency = {100*efficiency:.0f}%',\n",
        "                                            **opt\n",
        "                                           )\n",
        "    plot_irfs.plot_energy_resolution_from_file(filename, ax=axes[1], \n",
        "                                               ls='-',\n",
        "                                               color=colors[ii],\n",
        "                                               **opt\n",
        "                                              )\n",
        "    plot_irfs.plot_energy_bias_from_file(filename, ax=axes[1],\n",
        "                                         color=colors[ii],\n",
        "                                         ls='dotted',\n",
        "                                         **opt\n",
        "                                        )\n",
        "    \n",
        "\n",
        "plot_irfs.plot_energy_resolution_from_file(filename, ax=axes[1], \n",
        "                                           ls='-',\n",
        "                                           color=colors[ii],\n",
        "                                           label=r'Energy resolution ($\\sigma_{68}$)',\n",
        "                                           **opt\n",
        "                                              )\n",
        "plot_irfs.plot_energy_bias_from_file(filename, ax=axes[1],\n",
        "                                         color=colors[ii],\n",
        "                                         ls='dotted',\n",
        "                                     label=r'Energy bias (median)',\n",
        "                                     **opt\n",
        "                                    )\n",
        "\n",
        "\n",
        "for ax in axes:\n",
        "    ax.set_title('')\n",
        "    ax.set_xlim(erange[0].to_value(u.TeV), erange[1].to_value(u.TeV))\n",
        "\n",
        "axes[0].set_title(f'Zenith {zen:.2f}°')\n",
        "axes[0].set_ylim(0, axes[0].get_ylim()[1])\n",
        "axes[0].legend().remove()\n",
        "axes[0].set_xlabel('')\n",
        "axes[0].set_ylim(*effareaylim)\n",
        "axes[1].set_ylim(*eneylim)\n",
        "axes[1].set_ylabel(r'$\\Delta E/E_{true}$')\n",
        "axes[1].legend()\n",
        "\n",
        "axes[0].grid(True, which='both', axis='x')\n",
        "axes[0].grid(True, which='major', axis='y')\n",
        "for ax in axes:\n",
        "    ax.grid(False, axis='x', which='minor')\n",
        "    ax.grid(False, axis='y', which='minor')\n",
        "axes[0].set_axisbelow(True)\n",
        "\n",
        "axes[0].legend(loc='lower right')\n",
        "plt.tight_layout()\n",
        "\n",
        "outfile = Path(outdir, f'irfs_srcdep_eff_zen_{zen:.2f}.png')\n",
        "plt.savefig(outfile, dpi=200)"
      ]
    },
    {
      "cell_type": "code",
      "execution_count": null,
      "id": "96b41016-3205-4d73-913d-8da950835184",
      "metadata": {
        "execution": {
          "iopub.execute_input": "2023-04-25T07:08:19.598552Z",
          "iopub.status.busy": "2023-04-25T07:08:19.597747Z",
          "iopub.status.idle": "2023-04-25T07:08:21.277797Z",
          "shell.execute_reply": "2023-04-25T07:08:21.277199Z"
        },
        "tags": []
      },
      "outputs": [],
      "source": [
        "efficiency = 0.7\n",
        "\n",
        "fig, axes = plt.subplots(2, 1, figsize=(4, 4), sharex=True)\n",
        "fig.subplots_adjust(hspace=0) \n",
        "\n",
        "calt = [ colors[1], colors[3], colors[4], colors[5]]\n",
        "\n",
        "\n",
        "for ii, zen in enumerate(zeniths):\n",
        "    print(zen)\n",
        "    color = calt[ii]\n",
        "    filename = Path(indir, f'irfs_zen_{zen:.2f}_gh-eff_{efficiency}_srcdep.fits.gz')\n",
        "    print_date(filename)\n",
        "\n",
        "    plot_irfs.plot_effective_area_from_file(filename, ax=axes[0],\n",
        "                                            ls='-',\n",
        "                                            label=f'zenith = {zen:.2f}°',\n",
        "                                            color=color,\n",
        "                                            **opt\n",
        "                                           )\n",
        "    plot_irfs.plot_energy_resolution_from_file(filename, ax=axes[1], \n",
        "                                               ls='-',\n",
        "                                               color=color,\n",
        "                                               **opt\n",
        "                                              )\n",
        "    plot_irfs.plot_energy_bias_from_file(filename, ax=axes[1],\n",
        "                                         color=color,\n",
        "                                         ls='dotted',\n",
        "                                         **opt\n",
        "                                        )\n",
        "    \n",
        "\n",
        "plot_irfs.plot_energy_resolution_from_file(filename, ax=axes[1], \n",
        "                                           ls='-',\n",
        "                                           color=color,\n",
        "                                           label=r'Energy resolution ($\\sigma_{68}$)',\n",
        "                                           **opt\n",
        "                                              )\n",
        "plot_irfs.plot_energy_bias_from_file(filename, ax=axes[1],\n",
        "                                         color=color,\n",
        "                                         ls='dotted',\n",
        "                                     label=r'Energy bias (median)',\n",
        "                                     **opt\n",
        "                                    )\n",
        "\n",
        "\n",
        "for ax in axes:\n",
        "    ax.set_title('')\n",
        "    ax.set_xlim(erange[0].to_value(u.TeV), erange[1].to_value(u.TeV))\n",
        "\n",
        "axes[0].set_title(f'Efficiency {efficiency*100:.0f}%')\n",
        "axes[0].set_ylim(0, axes[0].get_ylim()[1])\n",
        "axes[0].legend().remove()\n",
        "axes[0].set_xlabel('')\n",
        "axes[0].set_ylim(*effareaylim)\n",
        "axes[1].set_ylim(*eneylim)\n",
        "axes[1].set_ylabel(r'$\\Delta E/E_{true}$')\n",
        "axes[1].legend()\n",
        "\n",
        "axes[0].grid(True, which='major', axis='x')\n",
        "axes[0].grid(True, which='major', axis='y')\n",
        "for ax in axes:\n",
        "    ax.grid(False, axis='x', which='minor')\n",
        "    ax.grid(False, axis='y', which='minor')\n",
        "axes[0].set_axisbelow(True)\n",
        "\n",
        "axes[0].legend(loc='lower right')\n",
        "plt.tight_layout()\n",
        "\n",
        "outfile = Path(outdir, f'irfs_srcdep_zeniths_eff_{efficiency:.2f}.png')\n",
        "plt.savefig(outfile, dpi=200)\n",
        "\n",
        "\n",
        "    \n",
        "  "
      ]
    },
    {
      "cell_type": "code",
      "execution_count": null,
      "id": "95f9d240-de6a-4d25-822c-ebe66dfe3a91",
      "metadata": {},
      "outputs": [],
      "source": []
    },
    {
      "cell_type": "code",
      "execution_count": null,
      "id": "4740e72b-571c-436a-abd8-cbf9b4111f35",
      "metadata": {},
      "outputs": [],
      "source": []
    },
    {
      "cell_type": "code",
      "execution_count": null,
      "id": "8d1509a2-2c0c-4fd5-bda7-e0c82178406a",
      "metadata": {},
      "outputs": [],
      "source": []
    },
    {
      "cell_type": "markdown",
      "id": "0d4d2cc8-d4a7-4269-8160-028e9004c144",
      "metadata": {},
      "source": [
        "# comparison source-dep vs source-indep"
      ]
    },
    {
      "cell_type": "code",
      "execution_count": null,
      "id": "7ca5ca71-20d2-43f2-baef-7729f891f1e1",
      "metadata": {
        "execution": {
          "iopub.execute_input": "2023-04-25T07:08:21.281430Z",
          "iopub.status.busy": "2023-04-25T07:08:21.281062Z",
          "iopub.status.idle": "2023-04-25T07:08:21.285916Z",
          "shell.execute_reply": "2023-04-25T07:08:21.285216Z"
        },
        "tags": []
      },
      "outputs": [],
      "source": [
        "zeniths"
      ]
    },
    {
      "cell_type": "code",
      "execution_count": null,
      "id": "bfe67646-99e2-4891-b3d5-d7e3196f2a6a",
      "metadata": {
        "execution": {
          "iopub.execute_input": "2023-04-25T07:08:21.289023Z",
          "iopub.status.busy": "2023-04-25T07:08:21.288731Z",
          "iopub.status.idle": "2023-04-25T07:08:22.804986Z",
          "shell.execute_reply": "2023-04-25T07:08:22.804288Z"
        },
        "tags": []
      },
      "outputs": [],
      "source": [
        "zen = zeniths[0]\n",
        "\n",
        "effs = [0.9]\n",
        "\n",
        "fig, axes = plt.subplots(2, 1, figsize=(4, 4), sharex=True)\n",
        "\n",
        "\n",
        "### src_indep\n",
        "\n",
        "\n",
        "indir = 'irfs'\n",
        "\n",
        "for ii, efficiency in enumerate(effs):\n",
        "    filename = Path(indir, f'irfs_zen_{zen:.2f}_gh-eff_{efficiency}.fits.gz')\n",
        "    print_date(filename)\n",
        "\n",
        "    plot_irfs.plot_effective_area_from_file(filename, ax=axes[0],\n",
        "                                            ls='-',\n",
        "                                            label=f'efficiency = {100*efficiency:.0f}%',\n",
        "                                            **opt\n",
        "                                           )\n",
        "    plot_irfs.plot_energy_resolution_from_file(filename, ax=axes[1], \n",
        "                                               ls='-',\n",
        "                                               color=colors[ii],\n",
        "                                               **opt\n",
        "                                              )\n",
        "    plot_irfs.plot_energy_bias_from_file(filename, ax=axes[1],\n",
        "                                         color=colors[ii],\n",
        "                                         ls='dotted',\n",
        "                                         **opt\n",
        "                                        )\n",
        "    \n",
        "\n",
        "    plot_irfs.plot_energy_resolution_from_file(filename, ax=axes[1], \n",
        "                                               ls='-',\n",
        "                                               color=colors[ii],\n",
        "                                               # label=r'Energy resolution ($\\sigma_{68}$)',\n",
        "                                               **opt\n",
        "                                                  )\n",
        "    plot_irfs.plot_energy_bias_from_file(filename, ax=axes[1],\n",
        "                                             color=colors[ii],\n",
        "                                             ls='dotted',\n",
        "                                         # label=r'Energy bias (median)',\n",
        "                                         **opt\n",
        "                                        )\n",
        "\n",
        "\n",
        "\n",
        "\n",
        "### src_dep\n",
        "\n",
        "indir = 'irfs_srcdep'\n",
        "\n",
        "for ii, efficiency in enumerate(effs):\n",
        "    filename = Path(indir, f'irfs_zen_{zen:.2f}_gh-eff_{efficiency}_srcdep.fits.gz')\n",
        "    print_date(filename)\n",
        "\n",
        "    plot_irfs.plot_effective_area_from_file(filename, ax=axes[0],\n",
        "                                            ls='--',\n",
        "                                            label=f'efficiency = {100*efficiency:.0f}%  src-dep',\n",
        "                                            **opt\n",
        "                                           )\n",
        "    plot_irfs.plot_energy_resolution_from_file(filename, ax=axes[1], \n",
        "                                               ls='--',\n",
        "                                               color=colors[ii],\n",
        "                                               **opt\n",
        "                                              )\n",
        "    plot_irfs.plot_energy_bias_from_file(filename, ax=axes[1],\n",
        "                                         color=colors[ii],\n",
        "                                         ls='-.',\n",
        "                                         **opt\n",
        "                                        )\n",
        "    \n",
        "\n",
        "    plot_irfs.plot_energy_resolution_from_file(filename, ax=axes[1], \n",
        "                                               ls='--',\n",
        "                                               color=colors[ii+1],\n",
        "                                               # label=r'Energy resolution ($\\sigma_{68}$)',\n",
        "                                               **opt\n",
        "                                                  )\n",
        "    plot_irfs.plot_energy_bias_from_file(filename, ax=axes[1],\n",
        "                                             color=colors[ii+1],\n",
        "                                             ls='-.',\n",
        "                                         # label=r'Energy bias (median)',\n",
        "                                         **opt\n",
        "                                        )\n",
        "\n",
        "\n",
        "for ax in axes:\n",
        "    ax.set_title('')\n",
        "    ax.set_xlim(erange[0].to_value(u.TeV), erange[1].to_value(u.TeV))\n",
        "\n",
        "axes[0].set_title(f'Zenith {zen:.2f}°')\n",
        "axes[0].set_ylim(0, axes[0].get_ylim()[1])\n",
        "axes[0].legend().remove()\n",
        "axes[0].set_xlabel('')\n",
        "axes[0].set_ylim(*effareaylim)\n",
        "axes[1].set_ylim(*eneylim)\n",
        "axes[1].set_ylabel(r'$\\Delta E/E_{true}$')\n",
        "axes[1].legend()\n",
        "\n",
        "axes[0].grid(True, which='both', axis='x')\n",
        "axes[0].grid(True, which='major', axis='y')\n",
        "for ax in axes:\n",
        "    ax.grid(False, axis='x', which='minor')\n",
        "    ax.grid(False, axis='y', which='minor')\n",
        "    \n",
        "axes[0].set_axisbelow(True)\n",
        "\n",
        "axes[0].legend(loc='lower right')\n",
        "plt.tight_layout()\n",
        "\n",
        "outfile = Path(outdir, f'irfs_compare_srcdep_eff_zen_{zen:.2f}.png')\n",
        "plt.savefig(outfile, dpi=200)"
      ]
    },
    {
      "cell_type": "code",
      "execution_count": null,
      "id": "21f1e9fb-781b-4fbb-9272-7c98f5a6e956",
      "metadata": {},
      "outputs": [],
      "source": []
    },
    {
      "cell_type": "code",
      "execution_count": null,
      "id": "b6aa7f91-690b-469b-8da1-443b2e310c1c",
      "metadata": {},
      "outputs": [],
      "source": []
    }
  ],
  "metadata": {
    "language_info": {
      "codemirror_mode": {
        "name": "ipython",
        "version": 3
      },
      "file_extension": ".py",
      "mimetype": "text/x-python",
      "name": "python",
      "nbconvert_exporter": "python",
      "pygments_lexer": "ipython3",
      "version": "3.8.16"
    }
  },
  "nbformat": 4,
  "nbformat_minor": 5
}
