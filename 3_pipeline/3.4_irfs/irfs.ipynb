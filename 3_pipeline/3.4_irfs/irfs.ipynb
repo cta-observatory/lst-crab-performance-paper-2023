{
  "cells": [
    {
      "cell_type": "markdown",
      "id": "2775a6c3-3c72-4c62-b3b1-e32c6de97c09",
      "metadata": {},
      "source": [
        "## Imports and setup"
      ]
    },
    {
      "cell_type": "code",
      "execution_count": null,
      "id": "8abcc706-f429-4370-a757-70ce923e12c6",
      "metadata": {
        "execution": {
          "iopub.execute_input": "2023-04-24T16:28:18.562523Z",
          "iopub.status.busy": "2023-04-24T16:28:18.562235Z",
          "iopub.status.idle": "2023-04-24T16:28:19.912387Z",
          "shell.execute_reply": "2023-04-24T16:28:19.911753Z"
        },
        "tags": []
      },
      "outputs": [],
      "source": [
        "import matplotlib.pyplot as plt\n",
        "import astropy.units as u\n",
        "from pathlib import Path"
      ]
    },
    {
      "cell_type": "code",
      "execution_count": null,
      "id": "354a389f-2be0-4ac9-9f7c-afcc714c819a",
      "metadata": {
        "execution": {
          "iopub.execute_input": "2023-04-24T16:28:19.915585Z",
          "iopub.status.busy": "2023-04-24T16:28:19.915304Z",
          "iopub.status.idle": "2023-04-24T16:28:19.919233Z",
          "shell.execute_reply": "2023-04-24T16:28:19.918611Z"
        },
        "tags": []
      },
      "outputs": [],
      "source": [
        "plt.style.use('seaborn-paper')\n",
        "plt.style.use('seaborn-colorblind')"
      ]
    },
    {
      "cell_type": "code",
      "execution_count": null,
      "id": "ba70c0b0-fd4a-4857-a243-fe7592027623",
      "metadata": {
        "execution": {
          "iopub.execute_input": "2023-04-24T16:28:19.922327Z",
          "iopub.status.busy": "2023-04-24T16:28:19.922003Z",
          "iopub.status.idle": "2023-04-24T16:28:19.925749Z",
          "shell.execute_reply": "2023-04-24T16:28:19.924954Z"
        },
        "tags": []
      },
      "outputs": [],
      "source": [
        "import warnings\n",
        "warnings.filterwarnings(\"ignore\")"
      ]
    },
    {
      "cell_type": "markdown",
      "id": "dd8bdacc-aaf1-44de-a092-e3c471341d80",
      "metadata": {},
      "source": [
        "## Parameters"
      ]
    },
    {
      "cell_type": "code",
      "execution_count": null,
      "id": "d4e1e6a0-58f9-40b7-9830-68eb43488e60",
      "metadata": {
        "execution": {
          "iopub.execute_input": "2023-04-24T16:28:19.928611Z",
          "iopub.status.busy": "2023-04-24T16:28:19.928331Z",
          "iopub.status.idle": "2023-04-24T16:28:19.932510Z",
          "shell.execute_reply": "2023-04-24T16:28:19.931894Z"
        },
        "tags": []
      },
      "outputs": [],
      "source": [
        "efficiencies = [0.4, 0.7, 0.9]\n",
        "zeniths = [10.00, 23.630, 32.06, 43.20]\n",
        "\n",
        "erange = (15*u.GeV, 25*u.TeV)\n",
        "\n",
        "angresylim = (0.1, 0.5)\n",
        "effareaylim = (1e3, 1e6)\n",
        "eneylim = (-0.16, 0.7)"
      ]
    },
    {
      "cell_type": "code",
      "execution_count": null,
      "id": "314108db-5121-44de-b890-398b55968596",
      "metadata": {
        "execution": {
          "iopub.execute_input": "2023-04-24T16:28:19.935272Z",
          "iopub.status.busy": "2023-04-24T16:28:19.934979Z",
          "iopub.status.idle": "2023-04-24T16:28:19.942698Z",
          "shell.execute_reply": "2023-04-24T16:28:19.941953Z"
        },
        "tags": []
      },
      "outputs": [],
      "source": [
        "opt = dict(elinewidth=0.8)\n",
        "\n",
        "prop_cycle = plt.rcParams['axes.prop_cycle']\n",
        "colors = prop_cycle.by_key()['color']\n",
        "colors"
      ]
    },
    {
      "cell_type": "markdown",
      "id": "3e0bbf4b-0d80-4e28-8cc1-a923910a3773",
      "metadata": {},
      "source": [
        "----"
      ]
    },
    {
      "cell_type": "code",
      "execution_count": null,
      "id": "90d51779-9538-4081-9141-00a522c9ea98",
      "metadata": {
        "execution": {
          "iopub.execute_input": "2023-04-24T16:28:19.945783Z",
          "iopub.status.busy": "2023-04-24T16:28:19.945451Z",
          "iopub.status.idle": "2023-04-24T16:28:20.243190Z",
          "shell.execute_reply": "2023-04-24T16:28:20.242231Z"
        },
        "tags": []
      },
      "outputs": [],
      "source": [
        "import plot_irfs"
      ]
    },
    {
      "cell_type": "code",
      "execution_count": null,
      "id": "b6e59d82-e610-4457-937f-de42b8cb079a",
      "metadata": {},
      "outputs": [],
      "source": []
    },
    {
      "cell_type": "code",
      "execution_count": null,
      "id": "68c20c73-46a5-48d4-8990-2cd175d5c982",
      "metadata": {
        "execution": {
          "iopub.execute_input": "2023-04-24T16:28:20.247117Z",
          "iopub.status.busy": "2023-04-24T16:28:20.246497Z",
          "iopub.status.idle": "2023-04-24T16:28:20.250758Z",
          "shell.execute_reply": "2023-04-24T16:28:20.250100Z"
        },
        "tags": []
      },
      "outputs": [],
      "source": [
        "import datetime\n",
        "def print_date(filename):\n",
        "    print(datetime.datetime.fromtimestamp(filename.stat().st_ctime))"
      ]
    },
    {
      "cell_type": "code",
      "execution_count": null,
      "id": "697432e9-a767-4550-b240-f91f487053a9",
      "metadata": {
        "execution": {
          "iopub.execute_input": "2023-04-24T16:28:20.253527Z",
          "iopub.status.busy": "2023-04-24T16:28:20.253241Z",
          "iopub.status.idle": "2023-04-24T16:28:20.258382Z",
          "shell.execute_reply": "2023-04-24T16:28:20.257811Z"
        },
        "tags": []
      },
      "outputs": [],
      "source": [
        "indir = 'irfs'\n",
        "outdir = 'irfs_plots'\n",
        "Path(outdir).mkdir(exist_ok=True)\n",
        "print(list(Path(indir).iterdir()))\n",
        "print(list(Path(outdir).iterdir()))"
      ]
    },
    {
      "cell_type": "markdown",
      "id": "dc1631b2-cc16-443f-8509-74bd59a071c1",
      "metadata": {},
      "source": [
        "# Zenith 10°"
      ]
    },
    {
      "cell_type": "code",
      "execution_count": null,
      "id": "db504cfc-f33c-43c9-a6c4-34413396c52d",
      "metadata": {
        "execution": {
          "iopub.execute_input": "2023-04-24T16:28:20.261288Z",
          "iopub.status.busy": "2023-04-24T16:28:20.260968Z",
          "iopub.status.idle": "2023-04-24T16:28:22.524370Z",
          "shell.execute_reply": "2023-04-24T16:28:22.523226Z"
        },
        "tags": []
      },
      "outputs": [],
      "source": [
        "zen = 10.00\n",
        "\n",
        "fig, axes = plt.subplots(3, 1, figsize=(4, 6), sharex=True)\n",
        "\n",
        "\n",
        "for ii, efficiency in enumerate(efficiencies):\n",
        "    filename = Path(indir, f'irfs_zen_{zen:.2f}_gh-eff_{efficiency}.fits.gz')\n",
        "    print_date(filename)\n",
        "    plot_irfs.plot_angular_resolution_from_file(filename, ax=axes[0],\n",
        "                                                ls='-',\n",
        "                                                **opt\n",
        "                                               )\n",
        "    plot_irfs.plot_effective_area_from_file(filename, ax=axes[1],\n",
        "                                            ls='-',\n",
        "                                            label=f'efficiency = {100*efficiency:.0f}%',\n",
        "                                            **opt\n",
        "                                           )\n",
        "    plot_irfs.plot_energy_resolution_from_file(filename, ax=axes[2], \n",
        "                                               ls='-',\n",
        "                                               color=colors[ii],\n",
        "                                               **opt\n",
        "                                              )\n",
        "    plot_irfs.plot_energy_bias_from_file(filename, ax=axes[2],\n",
        "                                         color=colors[ii],\n",
        "                                         ls='dotted',\n",
        "                                         **opt\n",
        "                                        )\n",
        "    \n",
        "\n",
        "plot_irfs.plot_energy_resolution_from_file(filename, ax=axes[2], \n",
        "                                           ls='-',\n",
        "                                           color=colors[ii],\n",
        "                                           label=r'Energy resolution ($\\sigma_{68}$)',\n",
        "                                           **opt\n",
        "                                              )\n",
        "plot_irfs.plot_energy_bias_from_file(filename, ax=axes[2],\n",
        "                                         color=colors[ii],\n",
        "                                         ls='dotted',\n",
        "                                     label=r'Energy bias (median)',\n",
        "                                     **opt\n",
        "                                    )\n",
        "\n",
        "\n",
        "for ax in axes:\n",
        "    ax.set_title('')\n",
        "    ax.set_xlim(erange[0].to_value(u.TeV), erange[1].to_value(u.TeV))\n",
        "\n",
        "axes[0].set_title(f'Zenith {zen:.2f}°')\n",
        "axes[0].set_ylim(0, axes[0].get_ylim()[1])\n",
        "axes[0].legend().remove()\n",
        "axes[0].set_xlabel('')\n",
        "axes[1].set_xlabel('')\n",
        "axes[0].set_ylim(*angresylim)\n",
        "axes[1].set_ylim(*effareaylim)\n",
        "axes[2].set_ylim(*eneylim)\n",
        "axes[2].set_ylabel(r'$\\Delta E/E_{true}$')\n",
        "axes[2].legend()\n",
        "\n",
        "axes[1].grid(True, which='both', axis='x')\n",
        "axes[1].grid(True, which='major', axis='y')\n",
        "for ax in axes:\n",
        "    ax.grid(False, axis='x', which='minor')\n",
        "    ax.grid(False, axis='y', which='minor')\n",
        "axes[1].set_axisbelow(True)\n",
        "\n",
        "axes[1].legend(loc='lower right')\n",
        "plt.tight_layout()\n",
        "\n",
        "outfile = Path(outdir, f'irfs_eff_zen_{zen:.2f}.png')\n",
        "plt.savefig(outfile, dpi=200)"
      ]
    },
    {
      "cell_type": "code",
      "execution_count": null,
      "id": "af4521fc-0360-46fc-9909-b1099cfa2b78",
      "metadata": {
        "execution": {
          "iopub.execute_input": "2023-04-24T16:28:22.527040Z",
          "iopub.status.busy": "2023-04-24T16:28:22.526771Z",
          "iopub.status.idle": "2023-04-24T16:28:28.291559Z",
          "shell.execute_reply": "2023-04-24T16:28:28.290807Z"
        },
        "tags": []
      },
      "outputs": [],
      "source": [
        "import utils"
      ]
    },
    {
      "cell_type": "code",
      "execution_count": null,
      "id": "141ddbb4-c88c-4e4b-b971-80d2747b8d64",
      "metadata": {
        "execution": {
          "iopub.execute_input": "2023-04-24T16:28:28.294789Z",
          "iopub.status.busy": "2023-04-24T16:28:28.294374Z",
          "iopub.status.idle": "2023-04-24T16:28:29.019578Z",
          "shell.execute_reply": "2023-04-24T16:28:29.018934Z"
        },
        "tags": []
      },
      "outputs": [],
      "source": [
        "for efficiency in efficiencies:\n",
        "    filename = Path(indir, f'irfs_zen_{zen:.2f}_gh-eff_{efficiency}.fits.gz')\n",
        "    utils.plot_theta_cut_per_energy(filename, ls='-', label=f\"efficiency={efficiency*100:.0f}%\")\n",
        "plt.grid(True)\n",
        "outfile = Path(outdir, f'theta_cuts_{zen:.2f}.png')\n",
        "plt.savefig(outfile, dpi=200)"
      ]
    },
    {
      "cell_type": "code",
      "execution_count": null,
      "id": "dad355ab-1207-4c78-932e-77c1dfbd358c",
      "metadata": {
        "execution": {
          "iopub.execute_input": "2023-04-24T16:28:29.022242Z",
          "iopub.status.busy": "2023-04-24T16:28:29.021960Z",
          "iopub.status.idle": "2023-04-24T16:28:29.606502Z",
          "shell.execute_reply": "2023-04-24T16:28:29.605736Z"
        },
        "tags": []
      },
      "outputs": [],
      "source": [
        "for efficiency in efficiencies:\n",
        "    filename = Path(indir, f'irfs_zen_{zen:.2f}_gh-eff_{efficiency}.fits.gz')\n",
        "    utils.plot_gh_cut_per_energy(filename, ls='-', label=f\"efficiency={efficiency*100:.0f}%\")\n",
        "plt.grid(True)\n",
        "outfile = Path(outdir, f'gh_cuts_{zen:.2f}.png')\n",
        "plt.savefig(outfile, dpi=200)"
      ]
    },
    {
      "cell_type": "markdown",
      "id": "297336ac-fb33-4a94-bcae-87e8bd98cc13",
      "metadata": {},
      "source": [
        "## All nodes, efficiency=0.7"
      ]
    },
    {
      "cell_type": "code",
      "execution_count": null,
      "id": "bddc10b3-a188-4d87-8878-b12949c3f6d8",
      "metadata": {
        "execution": {
          "iopub.execute_input": "2023-04-24T16:28:29.609608Z",
          "iopub.status.busy": "2023-04-24T16:28:29.609310Z",
          "iopub.status.idle": "2023-04-24T16:28:29.614483Z",
          "shell.execute_reply": "2023-04-24T16:28:29.613764Z"
        },
        "tags": []
      },
      "outputs": [],
      "source": [
        "colors"
      ]
    },
    {
      "cell_type": "code",
      "execution_count": null,
      "id": "26aa7f92-2321-4c5e-962d-3c79ef240234",
      "metadata": {
        "execution": {
          "iopub.execute_input": "2023-04-24T16:28:29.616930Z",
          "iopub.status.busy": "2023-04-24T16:28:29.616654Z",
          "iopub.status.idle": "2023-04-24T16:28:31.564813Z",
          "shell.execute_reply": "2023-04-24T16:28:31.564149Z"
        },
        "tags": []
      },
      "outputs": [],
      "source": [
        "efficiency = 0.7\n",
        "zen = 10.0\n",
        "\n",
        "fig, axes = plt.subplots(3, 1, figsize=(4, 6), sharex=True)\n",
        "fig.subplots_adjust(hspace=0) \n",
        "\n",
        "calt = [ colors[1], colors[3], colors[4], colors[5]]\n",
        "\n",
        "\n",
        "for ii, zen in enumerate(zeniths):\n",
        "    color = calt[ii]\n",
        "    filename = Path(indir, f'irfs_zen_{zen:.2f}_gh-eff_{efficiency}.fits.gz')\n",
        "    print_date(filename)\n",
        "    plot_irfs.plot_angular_resolution_from_file(filename, ax=axes[0],\n",
        "                                                ls='-',\n",
        "                                                color=color,\n",
        "                                                **opt\n",
        "                                               )\n",
        "    plot_irfs.plot_effective_area_from_file(filename, ax=axes[1],\n",
        "                                            ls='-',\n",
        "                                            label=f'zenith = {zen:.2f}°',\n",
        "                                            color=color,\n",
        "                                            **opt\n",
        "                                           )\n",
        "    plot_irfs.plot_energy_resolution_from_file(filename, ax=axes[2], \n",
        "                                               ls='-',\n",
        "                                               color=color,\n",
        "                                               **opt\n",
        "                                              )\n",
        "    plot_irfs.plot_energy_bias_from_file(filename, ax=axes[2],\n",
        "                                         color=color,\n",
        "                                         ls='dotted',\n",
        "                                         **opt\n",
        "                                        )\n",
        "    \n",
        "\n",
        "plot_irfs.plot_energy_resolution_from_file(filename, ax=axes[2], \n",
        "                                           ls='-',\n",
        "                                           color=color,\n",
        "                                           label=r'Energy resolution ($\\sigma_{68}$)',\n",
        "                                           **opt\n",
        "                                              )\n",
        "plot_irfs.plot_energy_bias_from_file(filename, ax=axes[2],\n",
        "                                         color=color,\n",
        "                                         ls='dotted',\n",
        "                                     label=r'Energy bias (median)',\n",
        "                                     **opt\n",
        "                                    )\n",
        "\n",
        "\n",
        "for ax in axes:\n",
        "    ax.set_title('')\n",
        "    ax.set_xlim(erange[0].to_value(u.TeV), erange[1].to_value(u.TeV))\n",
        "\n",
        "axes[0].set_title(f'Efficiency {efficiency*100:.0f}%')\n",
        "axes[0].set_ylim(0, axes[0].get_ylim()[1])\n",
        "axes[0].legend().remove()\n",
        "axes[0].set_xlabel('')\n",
        "axes[1].set_xlabel('')\n",
        "axes[0].set_ylim(*angresylim)\n",
        "axes[1].set_ylim(*effareaylim)\n",
        "axes[2].set_ylim(*eneylim)\n",
        "axes[2].set_ylabel(r'$\\Delta E/E_{true}$')\n",
        "axes[2].legend()\n",
        "\n",
        "axes[1].grid(True, which='both', axis='x')\n",
        "axes[1].grid(True, which='major', axis='y')\n",
        "for ax in axes:\n",
        "    ax.grid(False, axis='x', which='minor')\n",
        "    ax.grid(False, axis='y', which='minor')\n",
        "    \n",
        "axes[1].set_axisbelow(True)\n",
        "\n",
        "axes[1].legend(loc='lower right')\n",
        "plt.tight_layout()\n",
        "\n",
        "outfile = Path(outdir, f'irfs_zeniths_eff_{efficiency:.2f}.png')\n",
        "plt.savefig(outfile, dpi=200)\n",
        "\n",
        "\n",
        "    \n",
        "  "
      ]
    },
    {
      "cell_type": "code",
      "execution_count": null,
      "id": "8cc3bafb-7d76-4f6f-bc45-97f2eb8ac198",
      "metadata": {},
      "outputs": [],
      "source": []
    },
    {
      "cell_type": "code",
      "execution_count": null,
      "id": "c724a091-1cd1-49aa-a89f-9ac7317c3cc7",
      "metadata": {},
      "outputs": [],
      "source": []
    },
    {
      "cell_type": "markdown",
      "id": "908a2822-8af1-4c2c-aab0-a52ff51361f6",
      "metadata": {},
      "source": [
        "## Source dependent IRFs"
      ]
    },
    {
      "cell_type": "code",
      "execution_count": null,
      "id": "36f51c11-5160-410a-9051-8f1e672dc9f5",
      "metadata": {
        "execution": {
          "iopub.execute_input": "2023-04-24T16:28:31.568941Z",
          "iopub.status.busy": "2023-04-24T16:28:31.568636Z",
          "iopub.status.idle": "2023-04-24T16:28:31.572740Z",
          "shell.execute_reply": "2023-04-24T16:28:31.572082Z"
        },
        "tags": []
      },
      "outputs": [],
      "source": [
        "indir = 'irfs_srcdep'\n",
        "outdir = 'irfs_srcdep_plots'\n",
        "\n",
        "Path(outdir).mkdir(exist_ok=True)"
      ]
    },
    {
      "cell_type": "code",
      "execution_count": null,
      "id": "05861e8c-b843-4bac-a24d-c39f385480b4",
      "metadata": {
        "execution": {
          "iopub.execute_input": "2023-04-24T16:28:31.575201Z",
          "iopub.status.busy": "2023-04-24T16:28:31.574946Z",
          "iopub.status.idle": "2023-04-24T16:28:31.580008Z",
          "shell.execute_reply": "2023-04-24T16:28:31.579401Z"
        },
        "tags": []
      },
      "outputs": [],
      "source": [
        "zeniths"
      ]
    },
    {
      "cell_type": "code",
      "execution_count": null,
      "id": "3a87bc57-f75f-478f-8fa6-53a455a6331e",
      "metadata": {
        "execution": {
          "iopub.execute_input": "2023-04-24T16:28:31.582928Z",
          "iopub.status.busy": "2023-04-24T16:28:31.582328Z",
          "iopub.status.idle": "2023-04-24T16:28:33.330745Z",
          "shell.execute_reply": "2023-04-24T16:28:33.330102Z"
        },
        "tags": []
      },
      "outputs": [],
      "source": [
        "zen = 10.00\n",
        "\n",
        "fig, axes = plt.subplots(2, 1, figsize=(4, 4), sharex=True)\n",
        "\n",
        "\n",
        "for ii, efficiency in enumerate(efficiencies):\n",
        "    filename = Path(indir, f'irfs_zen_{zen:.2f}_gh-eff_{efficiency}_srcdep.fits.gz')\n",
        "    print_date(filename)\n",
        "\n",
        "    plot_irfs.plot_effective_area_from_file(filename, ax=axes[0],\n",
        "                                            ls='-',\n",
        "                                            label=f'efficiency = {100*efficiency:.0f}%',\n",
        "                                            **opt\n",
        "                                           )\n",
        "    plot_irfs.plot_energy_resolution_from_file(filename, ax=axes[1], \n",
        "                                               ls='-',\n",
        "                                               color=colors[ii],\n",
        "                                               **opt\n",
        "                                              )\n",
        "    plot_irfs.plot_energy_bias_from_file(filename, ax=axes[1],\n",
        "                                         color=colors[ii],\n",
        "                                         ls='dotted',\n",
        "                                         **opt\n",
        "                                        )\n",
        "    \n",
        "\n",
        "plot_irfs.plot_energy_resolution_from_file(filename, ax=axes[1], \n",
        "                                           ls='-',\n",
        "                                           color=colors[ii],\n",
        "                                           label=r'Energy resolution ($\\sigma_{68}$)',\n",
        "                                           **opt\n",
        "                                              )\n",
        "plot_irfs.plot_energy_bias_from_file(filename, ax=axes[1],\n",
        "                                         color=colors[ii],\n",
        "                                         ls='dotted',\n",
        "                                     label=r'Energy bias (median)',\n",
        "                                     **opt\n",
        "                                    )\n",
        "\n",
        "\n",
        "for ax in axes:\n",
        "    ax.set_title('')\n",
        "    ax.set_xlim(erange[0].to_value(u.TeV), erange[1].to_value(u.TeV))\n",
        "\n",
        "axes[0].set_title(f'Zenith {zen:.2f}°')\n",
        "axes[0].set_ylim(0, axes[0].get_ylim()[1])\n",
        "axes[0].legend().remove()\n",
        "axes[0].set_xlabel('')\n",
        "axes[0].set_ylim(*effareaylim)\n",
        "axes[1].set_ylim(*eneylim)\n",
        "axes[1].set_ylabel(r'$\\Delta E/E_{true}$')\n",
        "axes[1].legend()\n",
        "\n",
        "axes[0].grid(True, which='both', axis='x')\n",
        "axes[0].grid(True, which='major', axis='y')\n",
        "for ax in axes:\n",
        "    ax.grid(False, axis='x', which='minor')\n",
        "    ax.grid(False, axis='y', which='minor')\n",
        "axes[0].set_axisbelow(True)\n",
        "\n",
        "axes[0].legend(loc='lower right')\n",
        "plt.tight_layout()\n",
        "\n",
        "outfile = Path(outdir, f'irfs_srcdep_eff_zen_{zen:.2f}.png')\n",
        "plt.savefig(outfile, dpi=200)"
      ]
    },
    {
      "cell_type": "code",
      "execution_count": null,
      "id": "96b41016-3205-4d73-913d-8da950835184",
      "metadata": {
        "execution": {
          "iopub.execute_input": "2023-04-24T16:28:33.333569Z",
          "iopub.status.busy": "2023-04-24T16:28:33.333300Z",
          "iopub.status.idle": "2023-04-24T16:28:34.990364Z",
          "shell.execute_reply": "2023-04-24T16:28:34.989777Z"
        },
        "tags": []
      },
      "outputs": [],
      "source": [
        "efficiency = 0.7\n",
        "\n",
        "fig, axes = plt.subplots(2, 1, figsize=(4, 4), sharex=True)\n",
        "fig.subplots_adjust(hspace=0) \n",
        "\n",
        "calt = [ colors[1], colors[3], colors[4], colors[5]]\n",
        "\n",
        "\n",
        "for ii, zen in enumerate(zeniths):\n",
        "    print(zen)\n",
        "    color = calt[ii]\n",
        "    filename = Path(indir, f'irfs_zen_{zen:.2f}_gh-eff_{efficiency}_srcdep.fits.gz')\n",
        "    print_date(filename)\n",
        "\n",
        "    plot_irfs.plot_effective_area_from_file(filename, ax=axes[0],\n",
        "                                            ls='-',\n",
        "                                            label=f'zenith = {zen:.2f}°',\n",
        "                                            color=color,\n",
        "                                            **opt\n",
        "                                           )\n",
        "    plot_irfs.plot_energy_resolution_from_file(filename, ax=axes[1], \n",
        "                                               ls='-',\n",
        "                                               color=color,\n",
        "                                               **opt\n",
        "                                              )\n",
        "    plot_irfs.plot_energy_bias_from_file(filename, ax=axes[1],\n",
        "                                         color=color,\n",
        "                                         ls='dotted',\n",
        "                                         **opt\n",
        "                                        )\n",
        "    \n",
        "\n",
        "plot_irfs.plot_energy_resolution_from_file(filename, ax=axes[1], \n",
        "                                           ls='-',\n",
        "                                           color=color,\n",
        "                                           label=r'Energy resolution ($\\sigma_{68}$)',\n",
        "                                           **opt\n",
        "                                              )\n",
        "plot_irfs.plot_energy_bias_from_file(filename, ax=axes[1],\n",
        "                                         color=color,\n",
        "                                         ls='dotted',\n",
        "                                     label=r'Energy bias (median)',\n",
        "                                     **opt\n",
        "                                    )\n",
        "\n",
        "\n",
        "for ax in axes:\n",
        "    ax.set_title('')\n",
        "    ax.set_xlim(erange[0].to_value(u.TeV), erange[1].to_value(u.TeV))\n",
        "\n",
        "axes[0].set_title(f'Efficiency {efficiency*100:.0f}%')\n",
        "axes[0].set_ylim(0, axes[0].get_ylim()[1])\n",
        "axes[0].legend().remove()\n",
        "axes[0].set_xlabel('')\n",
        "axes[0].set_ylim(*effareaylim)\n",
        "axes[1].set_ylim(*eneylim)\n",
        "axes[1].set_ylabel(r'$\\Delta E/E_{true}$')\n",
        "axes[1].legend()\n",
        "\n",
        "axes[0].grid(True, which='major', axis='x')\n",
        "axes[0].grid(True, which='major', axis='y')\n",
        "for ax in axes:\n",
        "    ax.grid(False, axis='x', which='minor')\n",
        "    ax.grid(False, axis='y', which='minor')\n",
        "axes[0].set_axisbelow(True)\n",
        "\n",
        "axes[0].legend(loc='lower right')\n",
        "plt.tight_layout()\n",
        "\n",
        "outfile = Path(outdir, f'irfs_srcdep_zeniths_eff_{efficiency:.2f}.png')\n",
        "plt.savefig(outfile, dpi=200)\n",
        "\n",
        "\n",
        "    \n",
        "  "
      ]
    },
    {
      "cell_type": "code",
      "execution_count": null,
      "id": "95f9d240-de6a-4d25-822c-ebe66dfe3a91",
      "metadata": {},
      "outputs": [],
      "source": []
    },
    {
      "cell_type": "code",
      "execution_count": null,
      "id": "4740e72b-571c-436a-abd8-cbf9b4111f35",
      "metadata": {},
      "outputs": [],
      "source": []
    },
    {
      "cell_type": "code",
      "execution_count": null,
      "id": "8d1509a2-2c0c-4fd5-bda7-e0c82178406a",
      "metadata": {},
      "outputs": [],
      "source": []
    },
    {
      "cell_type": "markdown",
      "id": "0d4d2cc8-d4a7-4269-8160-028e9004c144",
      "metadata": {},
      "source": [
        "# comparison source-dep vs source-indep"
      ]
    },
    {
      "cell_type": "code",
      "execution_count": null,
      "id": "7ca5ca71-20d2-43f2-baef-7729f891f1e1",
      "metadata": {
        "execution": {
          "iopub.execute_input": "2023-04-24T16:28:34.993193Z",
          "iopub.status.busy": "2023-04-24T16:28:34.992962Z",
          "iopub.status.idle": "2023-04-24T16:28:34.997938Z",
          "shell.execute_reply": "2023-04-24T16:28:34.997268Z"
        },
        "tags": []
      },
      "outputs": [],
      "source": [
        "zeniths"
      ]
    },
    {
      "cell_type": "code",
      "execution_count": null,
      "id": "bfe67646-99e2-4891-b3d5-d7e3196f2a6a",
      "metadata": {
        "execution": {
          "iopub.execute_input": "2023-04-24T16:28:35.000367Z",
          "iopub.status.busy": "2023-04-24T16:28:35.000108Z",
          "iopub.status.idle": "2023-04-24T16:28:36.859424Z",
          "shell.execute_reply": "2023-04-24T16:28:36.858475Z"
        },
        "tags": []
      },
      "outputs": [],
      "source": [
        "zen = zeniths[0]\n",
        "\n",
        "effs = [0.9]\n",
        "\n",
        "fig, axes = plt.subplots(2, 1, figsize=(4, 4), sharex=True)\n",
        "\n",
        "\n",
        "### src_indep\n",
        "\n",
        "\n",
        "indir = 'irfs'\n",
        "\n",
        "for ii, efficiency in enumerate(effs):\n",
        "    filename = Path(indir, f'irfs_zen_{zen:.2f}_gh-eff_{efficiency}.fits.gz')\n",
        "    print_date(filename)\n",
        "\n",
        "    plot_irfs.plot_effective_area_from_file(filename, ax=axes[0],\n",
        "                                            ls='-',\n",
        "                                            label=f'efficiency = {100*efficiency:.0f}%',\n",
        "                                            **opt\n",
        "                                           )\n",
        "    plot_irfs.plot_energy_resolution_from_file(filename, ax=axes[1], \n",
        "                                               ls='-',\n",
        "                                               color=colors[ii],\n",
        "                                               **opt\n",
        "                                              )\n",
        "    plot_irfs.plot_energy_bias_from_file(filename, ax=axes[1],\n",
        "                                         color=colors[ii],\n",
        "                                         ls='dotted',\n",
        "                                         **opt\n",
        "                                        )\n",
        "    \n",
        "\n",
        "    plot_irfs.plot_energy_resolution_from_file(filename, ax=axes[1], \n",
        "                                               ls='-',\n",
        "                                               color=colors[ii],\n",
        "                                               # label=r'Energy resolution ($\\sigma_{68}$)',\n",
        "                                               **opt\n",
        "                                                  )\n",
        "    plot_irfs.plot_energy_bias_from_file(filename, ax=axes[1],\n",
        "                                             color=colors[ii],\n",
        "                                             ls='dotted',\n",
        "                                         # label=r'Energy bias (median)',\n",
        "                                         **opt\n",
        "                                        )\n",
        "\n",
        "\n",
        "\n",
        "\n",
        "### src_dep\n",
        "\n",
        "indir = 'irfs_srcdep'\n",
        "\n",
        "for ii, efficiency in enumerate(effs):\n",
        "    filename = Path(indir, f'irfs_zen_{zen:.2f}_gh-eff_{efficiency}_srcdep.fits.gz')\n",
        "    print_date(filename)\n",
        "\n",
        "    plot_irfs.plot_effective_area_from_file(filename, ax=axes[0],\n",
        "                                            ls='--',\n",
        "                                            label=f'efficiency = {100*efficiency:.0f}%  src-dep',\n",
        "                                            **opt\n",
        "                                           )\n",
        "    plot_irfs.plot_energy_resolution_from_file(filename, ax=axes[1], \n",
        "                                               ls='--',\n",
        "                                               color=colors[ii],\n",
        "                                               **opt\n",
        "                                              )\n",
        "    plot_irfs.plot_energy_bias_from_file(filename, ax=axes[1],\n",
        "                                         color=colors[ii],\n",
        "                                         ls='-.',\n",
        "                                         **opt\n",
        "                                        )\n",
        "    \n",
        "\n",
        "    plot_irfs.plot_energy_resolution_from_file(filename, ax=axes[1], \n",
        "                                               ls='--',\n",
        "                                               color=colors[ii+1],\n",
        "                                               # label=r'Energy resolution ($\\sigma_{68}$)',\n",
        "                                               **opt\n",
        "                                                  )\n",
        "    plot_irfs.plot_energy_bias_from_file(filename, ax=axes[1],\n",
        "                                             color=colors[ii+1],\n",
        "                                             ls='-.',\n",
        "                                         # label=r'Energy bias (median)',\n",
        "                                         **opt\n",
        "                                        )\n",
        "\n",
        "\n",
        "for ax in axes:\n",
        "    ax.set_title('')\n",
        "    ax.set_xlim(erange[0].to_value(u.TeV), erange[1].to_value(u.TeV))\n",
        "\n",
        "axes[0].set_title(f'Zenith {zen:.2f}°')\n",
        "axes[0].set_ylim(0, axes[0].get_ylim()[1])\n",
        "axes[0].legend().remove()\n",
        "axes[0].set_xlabel('')\n",
        "axes[0].set_ylim(*effareaylim)\n",
        "axes[1].set_ylim(*eneylim)\n",
        "axes[1].set_ylabel(r'$\\Delta E/E_{true}$')\n",
        "axes[1].legend()\n",
        "\n",
        "axes[0].grid(True, which='both', axis='x')\n",
        "axes[0].grid(True, which='major', axis='y')\n",
        "for ax in axes:\n",
        "    ax.grid(False, axis='x', which='minor')\n",
        "    ax.grid(False, axis='y', which='minor')\n",
        "    \n",
        "axes[0].set_axisbelow(True)\n",
        "\n",
        "axes[0].legend(loc='lower right')\n",
        "plt.tight_layout()\n",
        "\n",
        "outfile = Path(outdir, f'irfs_compare_srcdep_eff_zen_{zen:.2f}.png')\n",
        "plt.savefig(outfile, dpi=200)"
      ]
    },
    {
      "cell_type": "code",
      "execution_count": null,
      "id": "21f1e9fb-781b-4fbb-9272-7c98f5a6e956",
      "metadata": {},
      "outputs": [],
      "source": []
    },
    {
      "cell_type": "code",
      "execution_count": null,
      "id": "b6aa7f91-690b-469b-8da1-443b2e310c1c",
      "metadata": {},
      "outputs": [],
      "source": []
    }
  ],
  "metadata": {
    "language_info": {
      "codemirror_mode": {
        "name": "ipython",
        "version": 3
      },
      "file_extension": ".py",
      "mimetype": "text/x-python",
      "name": "python",
      "nbconvert_exporter": "python",
      "pygments_lexer": "ipython3",
      "version": "3.8.16"
    }
  },
  "nbformat": 4,
  "nbformat_minor": 5
}
