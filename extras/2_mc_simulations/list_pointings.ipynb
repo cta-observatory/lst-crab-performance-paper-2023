{
 "cells": [
  {
   "cell_type": "markdown",
   "id": "63961c88-ec29-482b-ab5c-b57bf970bf06",
   "metadata": {},
   "source": [
    "# List the pointings and prepare fig. 1\n",
    "\n",
    "This notebook can be run only by LST members on the cluster at La Palma and is provided for internal reproducibility."
   ]
  },
  {
   "cell_type": "code",
   "execution_count": null,
   "id": "18e4a5d5-5cff-475c-9de2-3e5bdf7d9f68",
   "metadata": {},
   "outputs": [],
   "source": []
  },
  {
   "cell_type": "code",
   "execution_count": null,
   "id": "bd0a2266-68dc-40a3-b774-98d32be34e0c",
   "metadata": {
    "execution": {
     "iopub.execute_input": "2023-04-24T15:54:49.533039Z",
     "iopub.status.busy": "2023-04-24T15:54:49.532602Z",
     "iopub.status.idle": "2023-04-24T15:54:49.547380Z",
     "shell.execute_reply": "2023-04-24T15:54:49.546746Z"
    }
   },
   "outputs": [],
   "source": [
    "import lstmcpipe\n",
    "lstmcpipe.__version__"
   ]
  },
  {
   "cell_type": "code",
   "execution_count": null,
   "id": "cade7f35-4be0-422c-9c8c-620774a101bd",
   "metadata": {},
   "outputs": [],
   "source": []
  },
  {
   "cell_type": "code",
   "execution_count": null,
   "id": "9915d03d-c710-47bd-b61c-421afbdea89e",
   "metadata": {
    "execution": {
     "iopub.execute_input": "2023-04-24T15:54:49.550495Z",
     "iopub.status.busy": "2023-04-24T15:54:49.550154Z",
     "iopub.status.idle": "2023-04-24T15:54:51.247122Z",
     "shell.execute_reply": "2023-04-24T15:54:51.246461Z"
    }
   },
   "outputs": [],
   "source": [
    "import numpy as np\n",
    "import matplotlib.pyplot as plt\n",
    "import astropy.units as u\n",
    "from astropy.io.ascii import write, read\n",
    "from astropy.table import QTable\n",
    "from pathlib import Path\n",
    "\n",
    "from lstmcpipe.config import paths_config"
   ]
  },
  {
   "cell_type": "code",
   "execution_count": null,
   "id": "d86f51c5-dc05-4de8-8912-ee896690cc71",
   "metadata": {
    "execution": {
     "iopub.execute_input": "2023-04-24T15:54:51.250122Z",
     "iopub.status.busy": "2023-04-24T15:54:51.249842Z",
     "iopub.status.idle": "2023-04-24T15:54:51.253319Z",
     "shell.execute_reply": "2023-04-24T15:54:51.252726Z"
    }
   },
   "outputs": [],
   "source": [
    "config = paths_config.PathConfigAllSkyFull('pointings', ['dec_2276'])"
   ]
  },
  {
   "cell_type": "code",
   "execution_count": null,
   "id": "6938047c-ad0c-48bc-a198-8aa08edb92f0",
   "metadata": {
    "execution": {
     "iopub.execute_input": "2023-04-24T15:54:51.255635Z",
     "iopub.status.busy": "2023-04-24T15:54:51.255393Z",
     "iopub.status.idle": "2023-04-24T15:54:51.671825Z",
     "shell.execute_reply": "2023-04-24T15:54:51.670836Z"
    }
   },
   "outputs": [],
   "source": [
    "config.plot_pointings()"
   ]
  },
  {
   "cell_type": "code",
   "execution_count": null,
   "id": "68c307d4-15d6-4b62-b46e-23c58db2ac3e",
   "metadata": {
    "execution": {
     "iopub.execute_input": "2023-04-24T15:54:51.674966Z",
     "iopub.status.busy": "2023-04-24T15:54:51.674619Z",
     "iopub.status.idle": "2023-04-24T15:54:51.681932Z",
     "shell.execute_reply": "2023-04-24T15:54:51.681369Z"
    }
   },
   "outputs": [],
   "source": [
    "# pointing nodes used for data analysis\n",
    "test_nodes = QTable(data=[[80.0, 80.0, 66.37, 66.37, 57.94, 57.94, 46.8, 46.8]*u.deg,\n",
    "                         [248.12, 102.22, 259.26, 100.76, 248.12, 102.22, 262.71, 87.6]*u.deg],\n",
    "                    names=['alt', 'az']\n",
    "                   )\n",
    "test_nodes"
   ]
  },
  {
   "cell_type": "code",
   "execution_count": null,
   "id": "a5fe5ce7-db07-4f7f-a965-206eae5f5831",
   "metadata": {
    "execution": {
     "iopub.execute_input": "2023-04-24T15:54:51.684261Z",
     "iopub.status.busy": "2023-04-24T15:54:51.684015Z",
     "iopub.status.idle": "2023-04-24T15:54:51.857445Z",
     "shell.execute_reply": "2023-04-24T15:54:51.856587Z"
    }
   },
   "outputs": [],
   "source": [
    "test_pointings = config.test_configs['dec_2276'].pointings\n",
    "\n",
    "index_to_keep = []\n",
    "for i, row in enumerate(test_pointings.iterrows()):\n",
    "    for true in test_nodes.iterrows():\n",
    "        if np.allclose(u.Quantity(row[0:2]).to_value(u.deg), u.Quantity(true).to_value(u.deg), rtol=1e-2, atol=1e-1):\n",
    "            index_to_keep.append(i)\n",
    "\n",
    "test_pointings = test_pointings[index_to_keep]\n",
    "test_pointings.sort(keys=['alt', 'az'], reverse=True)\n",
    "test_pointings['zenith'] = np.round(90*u.deg - test_pointings['alt'], 3)\n",
    "test_pointings"
   ]
  },
  {
   "cell_type": "code",
   "execution_count": null,
   "id": "423029e7-4f1b-4cd4-b7a3-118af14c6234",
   "metadata": {
    "execution": {
     "iopub.execute_input": "2023-04-24T15:54:51.860706Z",
     "iopub.status.busy": "2023-04-24T15:54:51.860404Z",
     "iopub.status.idle": "2023-04-24T15:54:51.877581Z",
     "shell.execute_reply": "2023-04-24T15:54:51.876834Z"
    }
   },
   "outputs": [],
   "source": [
    "write(test_pointings, output='pointings_test.ecsv', format='ecsv', overwrite=True)"
   ]
  },
  {
   "cell_type": "code",
   "execution_count": null,
   "id": "d9780124-ab3c-4d2c-b3cc-0034cd463d45",
   "metadata": {
    "execution": {
     "iopub.execute_input": "2023-04-24T15:54:51.880476Z",
     "iopub.status.busy": "2023-04-24T15:54:51.880141Z",
     "iopub.status.idle": "2023-04-24T15:54:51.952905Z",
     "shell.execute_reply": "2023-04-24T15:54:51.952336Z"
    }
   },
   "outputs": [],
   "source": [
    "train_pointings = config.train_configs['dec_2276'].pointings\n",
    "train_pointings['zenith'] = np.round(90*u.deg - train_pointings['alt'], 3)\n",
    "write(train_pointings, output='pointings_train.ecsv', format='ecsv', overwrite=True)"
   ]
  },
  {
   "cell_type": "code",
   "execution_count": null,
   "id": "582682a5-5dd9-4cc6-8bf2-1e5fb88de2dc",
   "metadata": {},
   "outputs": [],
   "source": []
  },
  {
   "cell_type": "code",
   "execution_count": null,
   "id": "61b86296-e19c-4d35-94f3-e6c460ed4bd9",
   "metadata": {},
   "outputs": [],
   "source": []
  }
 ],
 "metadata": {
  "kernelspec": {
   "display_name": "crablst1",
   "language": "python",
   "name": "crablst1"
  },
  "language_info": {
   "codemirror_mode": {
    "name": "ipython",
    "version": 3
   },
   "file_extension": ".py",
   "mimetype": "text/x-python",
   "name": "python",
   "nbconvert_exporter": "python",
   "pygments_lexer": "ipython3",
   "version": "3.8.16"
  }
 },
 "nbformat": 4,
 "nbformat_minor": 5
}
