{
  "cells": [
    {
      "cell_type": "code",
      "execution_count": null,
      "id": "804a20e2",
      "metadata": {
        "execution": {
          "iopub.execute_input": "2023-04-24T16:10:50.898581Z",
          "iopub.status.busy": "2023-04-24T16:10:50.898192Z",
          "iopub.status.idle": "2023-04-24T16:10:57.960536Z",
          "shell.execute_reply": "2023-04-24T16:10:57.959756Z"
        }
      },
      "outputs": [],
      "source": [
        "import matplotlib.pyplot as plt\n",
        "import numpy as np\n",
        "import astropy.units as u\n",
        "from ctaplot.ana import get_magic_sensitivity"
      ]
    },
    {
      "cell_type": "code",
      "execution_count": null,
      "id": "d6a0af6b",
      "metadata": {
        "execution": {
          "iopub.execute_input": "2023-04-24T16:10:57.964078Z",
          "iopub.status.busy": "2023-04-24T16:10:57.963691Z",
          "iopub.status.idle": "2023-04-24T16:10:57.968504Z",
          "shell.execute_reply": "2023-04-24T16:10:57.967629Z"
        }
      },
      "outputs": [],
      "source": [
        "import matplotlib as mpl\n",
        "\n",
        "def niceformat(x, pos):\n",
        "    e = np.log10(x)\n",
        "    return (r\"$\\mathregular{10^{%d}}$\" % e) if (np.abs(e) > 1.) else (\"%g\" % x)\n",
        "niceformatter = mpl.ticker.FuncFormatter(niceformat)"
      ]
    },
    {
      "cell_type": "code",
      "execution_count": null,
      "id": "da11059a",
      "metadata": {},
      "outputs": [],
      "source": [
        "def crab_magic(E):\n",
        "    \"\"\" From http://adsabs.harvard.edu/abs/2015JHEAp...5...30A\n",
        "    For each energy point, return the Crab Nebula flux\n",
        "    Parameters\n",
        "    -----------\n",
        "    E: `numpy.ndarray` of astropy.units.quantity.Quantity (energy units)\n",
        "    Returns\n",
        "    -------\n",
        "    dFdE: `numpy.ndarray` differential energy spectrum.\n",
        "          astropy.units.quantity.Quantity units: 1/u.TeV / u.cm**2 / u.s\n",
        "    par: `dict` with spectral parameters\n",
        "    \"\"\"\n",
        "\n",
        "    f0 = 3.23e-11 / u.TeV / u.cm ** 2 / u.s\n",
        "    alpha = -2.47\n",
        "    beta = -0.24\n",
        "    e0 = 1. * u.TeV\n",
        "\n",
        "    par_var = [f0, alpha, beta, e0]\n",
        "    par_dic = ['f0', 'alpha', 'beta', 'e0']\n",
        "    par = dict(zip(par_dic, par_var))\n",
        "\n",
        "    dFdE = f0 * np.power(E / e0, alpha + beta * np.log10(E / e0))\n",
        "\n",
        "    return dFdE.to(1 / u.TeV / u.cm ** 2 / u.s), par"
      ]
    },
    {
      "cell_type": "code",
      "execution_count": null,
      "id": "da38dacd",
      "metadata": {
        "execution": {
          "iopub.execute_input": "2023-04-24T16:10:57.971375Z",
          "iopub.status.busy": "2023-04-24T16:10:57.971099Z",
          "iopub.status.idle": "2023-04-24T16:10:57.975395Z",
          "shell.execute_reply": "2023-04-24T16:10:57.974833Z"
        }
      },
      "outputs": [],
      "source": [
        "def plot_MAGIC_sensitivity(ax):\n",
        "    energy = get_magic_sensitivity()['e_center'] \n",
        "    sensitivity = get_magic_sensitivity()['sensitivity_lima_5off'] \n",
        "    line, = ax.loglog(energy.to(u.TeV), (sensitivity * energy * energy).to(u.erg / u.cm**2 / u.s),\n",
        "              label = 'MAGIC (Stereo) [Aleksic et al. 2016]', ls=(0, (3, 1, 1, 1, 1, 1)), alpha=0.8, color='C1')\n",
        "    return line"
      ]
    },
    {
      "cell_type": "code",
      "execution_count": null,
      "id": "d4ee9dcd",
      "metadata": {
        "execution": {
          "iopub.execute_input": "2023-04-24T16:10:57.977900Z",
          "iopub.status.busy": "2023-04-24T16:10:57.977638Z",
          "iopub.status.idle": "2023-04-24T16:10:57.981776Z",
          "shell.execute_reply": "2023-04-24T16:10:57.981169Z"
        }
      },
      "outputs": [],
      "source": [
        "def plot_MAGIC_sensitivity_percentage(ax):\n",
        "    dFdE = crab_magic(get_magic_sensitivity()['e_center'])[0]\n",
        "    energy = get_magic_sensitivity()['e_center'] \n",
        "    percentage = get_magic_sensitivity()['sensitivity_lima_5off'] / dFdE * 100\n",
        "    line, = ax.loglog(energy.to(u.TeV), percentage,\n",
        "              label = 'MAGIC (Stereo) [Aleksic et al. 2016]', ls=(0, (3, 1, 1, 1, 1, 1)), alpha=0.8, color='C1')\n",
        "    return line"
      ]
    },
    {
      "cell_type": "code",
      "execution_count": null,
      "id": "c766ab9c",
      "metadata": {
        "execution": {
          "iopub.execute_input": "2023-04-24T16:10:57.984551Z",
          "iopub.status.busy": "2023-04-24T16:10:57.984311Z",
          "iopub.status.idle": "2023-04-24T16:10:57.989953Z",
          "shell.execute_reply": "2023-04-24T16:10:57.989306Z"
        }
      },
      "outputs": [],
      "source": [
        "def plot_sensitivity_src_dep_percentage_errors_sys(ax):\n",
        "    data = np.loadtxt('data/sensitivity_src_dep.txt')\n",
        "    energy_med = data[:,0] \n",
        "    sensitivity = data[:,1]\n",
        "    sensitivity_error_down = data[:,4]\n",
        "    sensitivity_error_up = data[:,5]\n",
        "\n",
        "    energy_init = 0.03\n",
        "    energy_cut = 15.\n",
        "    \n",
        "    band = ax.fill_between(energy_med[(sensitivity > 0) & (energy_med > energy_init) & (energy_med < energy_cut)], \n",
        "              sensitivity_error_up[(sensitivity > 0) & (energy_med > energy_init) & (energy_med < energy_cut)], \n",
        "              sensitivity_error_down[(sensitivity > 0) & (energy_med > energy_init) & (energy_med < energy_cut)], \n",
        "              color = 'C8', lw=0, alpha=0.3)  \n",
        "    line, = ax.loglog(energy_med[(sensitivity > 0) & (energy_med > energy_init) & (energy_med < energy_cut)], \n",
        "              sensitivity[(sensitivity > 0) & (energy_med > energy_init) & (energy_med < energy_cut)], \n",
        "              label = 'LST-1 (src-dependent)', color = 'C8', lw=3, ls='solid')  \n",
        "    \n",
        "    return band, line\n"
      ]
    },
    {
      "cell_type": "code",
      "execution_count": null,
      "id": "ecef33e9",
      "metadata": {
        "execution": {
          "iopub.execute_input": "2023-04-24T16:10:57.992244Z",
          "iopub.status.busy": "2023-04-24T16:10:57.991999Z",
          "iopub.status.idle": "2023-04-24T16:10:57.998140Z",
          "shell.execute_reply": "2023-04-24T16:10:57.997580Z"
        }
      },
      "outputs": [],
      "source": [
        "def plot_sensitivity_src_indep_percentage_errors_sys(ax):\n",
        "    data = np.loadtxt('data/sensitivity_src_indep.txt')\n",
        "\n",
        "    energy_med = data[:,0] \n",
        "    sensitivity = data[:,1]\n",
        "    sensitivity_error_down = data[:,4]\n",
        "    sensitivity_error_up = data[:,5]\n",
        "    energy_init = 0.03\n",
        "    energy_cut = 15\n",
        "\n",
        "    \n",
        "    print(list(zip(energy_med[(sensitivity > 0) & (energy_med > energy_init) & (energy_med < energy_cut)],\n",
        "                   sensitivity[(sensitivity > 0) & (energy_med > energy_init) & (energy_med < energy_cut)])))\n",
        "\n",
        "    \n",
        "    band = ax.fill_between(energy_med[(sensitivity > 0) & (energy_med > energy_init) & (energy_med < energy_cut)], \n",
        "              sensitivity_error_up[(sensitivity > 0) & (energy_med > energy_init) & (energy_med < energy_cut)], \n",
        "              sensitivity_error_down[(sensitivity > 0) & (energy_med > energy_init) & (energy_med < energy_cut)],  \n",
        "              lw=0, color='C6', alpha=0.3)  \n",
        "    line, = ax.loglog(energy_med[(sensitivity > 0) & (energy_med > energy_init) & (energy_med < energy_cut)], \n",
        "              sensitivity[(sensitivity > 0) & (energy_med > energy_init) & (energy_med < energy_cut)], \n",
        "              label = 'LST-1 (src-independent)', color = 'C6', lw=3, ls='solid')  \n",
        "    \n",
        "    return band, line\n"
      ]
    },
    {
      "cell_type": "code",
      "execution_count": null,
      "id": "a87f391d",
      "metadata": {
        "execution": {
          "iopub.execute_input": "2023-04-24T16:10:58.000689Z",
          "iopub.status.busy": "2023-04-24T16:10:58.000443Z",
          "iopub.status.idle": "2023-04-24T16:10:58.005832Z",
          "shell.execute_reply": "2023-04-24T16:10:58.005323Z"
        }
      },
      "outputs": [],
      "source": [
        "def plot_sensitivity_src_dep_percentage_without_5percentbg_errors_sys(ax):\n",
        "    data = np.loadtxt('data/sensitivity_src_dep_without_5percentbg.txt')\n",
        "\n",
        "    energy_med = data[:,0] \n",
        "    sensitivity = data[:,1]\n",
        "    sensitivity_error_down = data[:,4]\n",
        "    sensitivity_error_up = data[:,5]\n",
        "\n",
        "    energy_init = 0.03\n",
        "    energy_cut = 0.15\n",
        "    \n",
        "    band = ax.fill_between(energy_med[(sensitivity > 0) & (energy_med > energy_init) & (energy_med < energy_cut)], \n",
        "              sensitivity_error_up[(sensitivity > 0) & (energy_med > energy_init) & (energy_med < energy_cut)], \n",
        "              sensitivity_error_down[(sensitivity > 0) & (energy_med > energy_init) & (energy_med < energy_cut)],            \n",
        "              label = 'LST-1 (src-dependent)  - without 5% background', facecolor = 'C8', lw=0, alpha=0.3, hatch='//')\n",
        "\n",
        "    line, = ax.loglog(energy_med[(sensitivity > 0) & (energy_med > energy_init) & (energy_med < energy_cut)], \n",
        "              sensitivity[(sensitivity > 0) & (energy_med > energy_init) & (energy_med < energy_cut)], \n",
        "              color = 'C8', lw=3, ls='dashed')  \n",
        "\n",
        "    return band, line\n"
      ]
    },
    {
      "cell_type": "code",
      "execution_count": null,
      "id": "cb9836f7",
      "metadata": {
        "execution": {
          "iopub.execute_input": "2023-04-24T16:10:58.008310Z",
          "iopub.status.busy": "2023-04-24T16:10:58.008007Z",
          "iopub.status.idle": "2023-04-24T16:10:58.013773Z",
          "shell.execute_reply": "2023-04-24T16:10:58.013099Z"
        }
      },
      "outputs": [],
      "source": [
        "def plot_sensitivity_src_indep_percentage_without_5percentbg_errors_sys(ax):\n",
        "    data = np.loadtxt('data/sensitivity_src_indep_without_5percentbg.txt')\n",
        "\n",
        "    energy_med = data[:,0] \n",
        "    sensitivity = data[:,1]\n",
        "    sensitivity_error_down = data[:,4]\n",
        "    sensitivity_error_up = data[:,5]\n",
        "    \n",
        "\n",
        "    energy_init = 0.03\n",
        "    energy_cut = 0.15\n",
        "        \n",
        "    band = ax.fill_between(energy_med[(sensitivity > 0) & (energy_med > energy_init) & (energy_med < energy_cut)], \n",
        "              sensitivity_error_up[(sensitivity > 0) & (energy_med > energy_init) & (energy_med < energy_cut)], \n",
        "              sensitivity_error_down[(sensitivity > 0) & (energy_med > energy_init) & (energy_med < energy_cut)],  \n",
        "              label = 'LST-1 (src-independent) - without 5% background',  lw=0, facecolor='C6', alpha=0.3, hatch='o')  \n",
        "\n",
        "    line, = ax.loglog(energy_med[(sensitivity > 0) & (energy_med > energy_init) & (energy_med < energy_cut)], \n",
        "              sensitivity[(sensitivity > 0) & (energy_med > energy_init) & (energy_med < energy_cut)], \n",
        "              color = 'C6', lw=3, ls='dashed')  \n",
        "    \n",
        "    return band, line\n"
      ]
    },
    {
      "cell_type": "code",
      "execution_count": null,
      "id": "a4187e34",
      "metadata": {
        "execution": {
          "iopub.execute_input": "2023-04-24T16:10:58.016586Z",
          "iopub.status.busy": "2023-04-24T16:10:58.016328Z",
          "iopub.status.idle": "2023-04-24T16:11:00.088262Z",
          "shell.execute_reply": "2023-04-24T16:11:00.087469Z"
        }
      },
      "outputs": [],
      "source": [
        "import matplotlib.style as style\n",
        "style.use('seaborn-colorblind')\n",
        "\n",
        "plt.rcParams['font.size'] = 20\n",
        "fig, ax = plt.subplots(figsize = (12, 10))\n",
        "\n",
        "band_src_dep, line_src_dep = plot_sensitivity_src_dep_percentage_errors_sys(ax)\n",
        "band_src_indep, line_src_indep = plot_sensitivity_src_indep_percentage_errors_sys(ax)\n",
        "\n",
        "band_src_dep_without_5percentbg, line_src_dep_without_5percentbg = plot_sensitivity_src_dep_percentage_without_5percentbg_errors_sys(ax)\n",
        "band_src_indep_without_5percentbg, line_src_indep_without_5percentbg = plot_sensitivity_src_indep_percentage_without_5percentbg_errors_sys(ax)\n",
        "\n",
        "line_magic = plot_MAGIC_sensitivity_percentage(ax)\n",
        "    \n",
        "ax.set_xlabel('Energy [TeV]')\n",
        "ax.set_ylabel('Differential Sensitivity [% C.U.]')\n",
        "ax.xaxis.set_tick_params(width=2, length=7, which='major', direction='out')\n",
        "ax.xaxis.set_tick_params(width=2, length=3, which='minor', direction='out')\n",
        "ax.yaxis.set_tick_params(width=2, length=7, which='major', direction='out')\n",
        "ax.yaxis.set_tick_params(width=2, length=3, which='minor', direction='out')\n",
        "\n",
        "ax.xaxis.set_major_formatter(niceformatter)\n",
        "ax.yaxis.set_major_formatter(niceformatter)\n",
        "\n",
        "\n",
        "ax.legend([(band_src_dep, line_src_dep), (band_src_indep, line_src_indep), \n",
        "           (band_src_dep_without_5percentbg, line_src_dep_without_5percentbg), \n",
        "           (band_src_indep_without_5percentbg, line_src_indep_without_5percentbg), line_magic], \n",
        "          [\"LST-1 (src-dependent)\", \"LST-1 (src-independent)\", \"LST-1 (src-dependent)  - without 5% background\",\n",
        "          \"LST-1 (src-independent)  - without 5% background\", \"MAGIC (Stereo) [Aleksic et al. 2016]\"],\n",
        "         numpoints=1, fontsize=18)\n",
        "\n",
        "#ax.legend(numpoints=1)\n",
        "ax.set_ylim(1.1, 450)\n",
        "\n",
        "!mkdir -p figures\n",
        "fig.savefig('figures/Differential_sensitivity_src_indep_src_dep_sys.pdf')\n",
        "fig.savefig('figures/Differential_sensitivity_src_indep_src_dep_sys.png', dpi=300, bbox_inches='tight')\n",
        "\n"
      ]
    },
    {
      "cell_type": "code",
      "execution_count": null,
      "id": "237bcb8e",
      "metadata": {},
      "outputs": [],
      "source": []
    }
  ],
  "metadata": {
    "language_info": {
      "codemirror_mode": {
        "name": "ipython",
        "version": 3
      },
      "file_extension": ".py",
      "mimetype": "text/x-python",
      "name": "python",
      "nbconvert_exporter": "python",
      "pygments_lexer": "ipython3",
      "version": "3.8.16"
    }
  },
  "nbformat": 4,
  "nbformat_minor": 5
}
